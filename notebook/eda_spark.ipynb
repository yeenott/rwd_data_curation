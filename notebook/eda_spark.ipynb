{
 "cells": [
  {
   "cell_type": "code",
   "execution_count": 1,
   "id": "thousand-chess",
   "metadata": {},
   "outputs": [],
   "source": [
    "import numpy as np\n",
    "import pandas as pd\n",
    "import matplotlib.pyplot as plt\n",
    "import os\n",
    "from matplotlib import rcParams\n",
    "from IPython.core.interactiveshell import InteractiveShell\n",
    "InteractiveShell.ast_node_interactivity = \"all\""
   ]
  },
  {
   "cell_type": "code",
   "execution_count": 2,
   "id": "synthetic-crime",
   "metadata": {},
   "outputs": [
    {
     "name": "stdout",
     "output_type": "stream",
     "text": [
      "3.1.1\n"
     ]
    }
   ],
   "source": [
    "#import pyspark as ps\n",
    "#spark = (ps.sql.SparkSession.builder\n",
    "#        .appName(\"sandbox\")\n",
    "#        .getOrCreate()\n",
    "#        )\n",
    "\n",
    "from pyspark.sql import SparkSession\n",
    "\n",
    "spark = SparkSession.builder.getOrCreate()\n",
    "print(spark.version)\n",
    "sc = spark.sparkContext"
   ]
  },
  {
   "cell_type": "code",
   "execution_count": 3,
   "id": "stainless-bracket",
   "metadata": {},
   "outputs": [],
   "source": [
    "# The csv files are stored in a folder named data in the current working directory\n",
    "DATA_DIR = os.path.join('..',\"data\")"
   ]
  },
  {
   "cell_type": "markdown",
   "id": "collected-grade",
   "metadata": {},
   "source": [
    "# 1. Load data and check data quality"
   ]
  },
  {
   "cell_type": "markdown",
   "id": "legendary-colon",
   "metadata": {},
   "source": [
    "## 1.1 Patient data"
   ]
  },
  {
   "cell_type": "code",
   "execution_count": 4,
   "id": "flexible-collapse",
   "metadata": {},
   "outputs": [
    {
     "data": {
      "text/html": [
       "<div>\n",
       "<style scoped>\n",
       "    .dataframe tbody tr th:only-of-type {\n",
       "        vertical-align: middle;\n",
       "    }\n",
       "\n",
       "    .dataframe tbody tr th {\n",
       "        vertical-align: top;\n",
       "    }\n",
       "\n",
       "    .dataframe thead th {\n",
       "        text-align: right;\n",
       "    }\n",
       "</style>\n",
       "<table border=\"1\" class=\"dataframe\">\n",
       "  <thead>\n",
       "    <tr style=\"text-align: right;\">\n",
       "      <th></th>\n",
       "      <th>pt_id</th>\n",
       "      <th>sex</th>\n",
       "    </tr>\n",
       "  </thead>\n",
       "  <tbody>\n",
       "    <tr>\n",
       "      <th>0</th>\n",
       "      <td>13151</td>\n",
       "      <td>Female</td>\n",
       "    </tr>\n",
       "    <tr>\n",
       "      <th>1</th>\n",
       "      <td>43463</td>\n",
       "      <td>Female</td>\n",
       "    </tr>\n",
       "    <tr>\n",
       "      <th>2</th>\n",
       "      <td>42834</td>\n",
       "      <td>Male</td>\n",
       "    </tr>\n",
       "    <tr>\n",
       "      <th>3</th>\n",
       "      <td>37531</td>\n",
       "      <td>Female</td>\n",
       "    </tr>\n",
       "    <tr>\n",
       "      <th>4</th>\n",
       "      <td>31613</td>\n",
       "      <td>Female</td>\n",
       "    </tr>\n",
       "  </tbody>\n",
       "</table>\n",
       "</div>"
      ],
      "text/plain": [
       "   pt_id     sex\n",
       "0  13151  Female\n",
       "1  43463  Female\n",
       "2  42834    Male\n",
       "3  37531  Female\n",
       "4  31613  Female"
      ]
     },
     "execution_count": 4,
     "metadata": {},
     "output_type": "execute_result"
    },
    {
     "data": {
      "text/plain": [
       "(945, 2)"
      ]
     },
     "execution_count": 4,
     "metadata": {},
     "output_type": "execute_result"
    },
    {
     "data": {
      "text/plain": [
       "pt_id     int64\n",
       "sex      object\n",
       "dtype: object"
      ]
     },
     "execution_count": 4,
     "metadata": {},
     "output_type": "execute_result"
    }
   ],
   "source": [
    "data_pt = pd.read_csv(os.path.join(DATA_DIR, 'patient.csv'), sep='\\t')\n",
    "data_pt.rename(columns={'patientid': 'pt_id'}, inplace=True)\n",
    "data_pt.head()\n",
    "data_pt.shape\n",
    "data_pt.dtypes"
   ]
  },
  {
   "cell_type": "markdown",
   "id": "identified-remainder",
   "metadata": {},
   "source": [
    "> -----------------------------------------------------------pyspark -----------------------------------------------------------"
   ]
  },
  {
   "cell_type": "code",
   "execution_count": 5,
   "id": "pediatric-stanley",
   "metadata": {},
   "outputs": [
    {
     "name": "stdout",
     "output_type": "stream",
     "text": [
      "+-----+------+\n",
      "|pt_id|   sex|\n",
      "+-----+------+\n",
      "|13151|Female|\n",
      "|43463|Female|\n",
      "|42834|  Male|\n",
      "|37531|Female|\n",
      "|31613|Female|\n",
      "+-----+------+\n",
      "only showing top 5 rows\n",
      "\n",
      "(945, 2)\n",
      "root\n",
      " |-- pt_id: integer (nullable = true)\n",
      " |-- sex: string (nullable = true)\n",
      "\n"
     ]
    }
   ],
   "source": [
    "spdf_pt = spark.read.load(os.path.join(DATA_DIR, 'patient.csv'), format='csv', sep='\\t', inferSchema=\"true\", header='true')\n",
    "spdf_pt = spdf_pt.withColumnRenamed('patientid', 'pt_id')\n",
    "spdf_pt.show(5)\n",
    "print((spdf_pt.count(), len(spdf_pt.columns)))\n",
    "spdf_pt.printSchema()"
   ]
  },
  {
   "cell_type": "markdown",
   "id": "checked-annotation",
   "metadata": {},
   "source": [
    "> ----------------------------Pandas Profiling----------------------------"
   ]
  },
  {
   "cell_type": "raw",
   "id": "numerous-hamilton",
   "metadata": {},
   "source": [
    "import sweetviz as sv\n",
    "report = sv.analyze(data_pt, target_feat='pt_id')"
   ]
  },
  {
   "cell_type": "raw",
   "id": "charitable-lunch",
   "metadata": {},
   "source": [
    "report.show_html()"
   ]
  },
  {
   "cell_type": "markdown",
   "id": "executed-enlargement",
   "metadata": {},
   "source": [
    "#### Check and remove the duplicate values"
   ]
  },
  {
   "cell_type": "markdown",
   "id": "demographic-anchor",
   "metadata": {},
   "source": [
    "#### Note: there are patients with multiple sex values. Remove those duplicates"
   ]
  },
  {
   "cell_type": "code",
   "execution_count": 6,
   "id": "saving-combine",
   "metadata": {},
   "outputs": [
    {
     "data": {
      "text/plain": [
       "(932, 2)"
      ]
     },
     "execution_count": 6,
     "metadata": {},
     "output_type": "execute_result"
    }
   ],
   "source": [
    "data_pt.drop_duplicates(subset=['pt_id'], inplace=True)\n",
    "data_pt.shape"
   ]
  },
  {
   "cell_type": "code",
   "execution_count": 7,
   "id": "supposed-assurance",
   "metadata": {},
   "outputs": [
    {
     "data": {
      "text/plain": [
       "Female          515\n",
       "Male            384\n",
       "male             10\n",
       "female            9\n",
       "Not Reported      9\n",
       "f                 3\n",
       "m                 1\n",
       "M                 1\n",
       "Name: sex, dtype: int64"
      ]
     },
     "execution_count": 7,
     "metadata": {},
     "output_type": "execute_result"
    }
   ],
   "source": [
    "data_pt.sex.value_counts()"
   ]
  },
  {
   "cell_type": "markdown",
   "id": "existing-upgrade",
   "metadata": {},
   "source": [
    "> -----------------------------------------------------------pyspark -----------------------------------------------------------"
   ]
  },
  {
   "cell_type": "code",
   "execution_count": 8,
   "id": "manufactured-belief",
   "metadata": {},
   "outputs": [
    {
     "name": "stdout",
     "output_type": "stream",
     "text": [
      "(932, 2)\n",
      "+------------+-----+\n",
      "|         sex|count|\n",
      "+------------+-----+\n",
      "|      Female|  515|\n",
      "|        Male|  384|\n",
      "|        male|   10|\n",
      "|Not Reported|    9|\n",
      "|      female|    9|\n",
      "|           f|    3|\n",
      "|           m|    1|\n",
      "|           M|    1|\n",
      "+------------+-----+\n",
      "\n"
     ]
    }
   ],
   "source": [
    "spdf_pt = spdf_pt.dropDuplicates(['pt_id'])\n",
    "print((spdf_pt.count(), len(spdf_pt.columns)))\n",
    "#from pyspark.sql import functions as F\n",
    "#df1 = spdf_pt.groupby(\"sex\").agg(F.count(\"pt_id\").alias(\"gender\"))\n",
    "spdf_pt.groupby(\"sex\").count().orderBy('count', ascending=False).show()"
   ]
  },
  {
   "cell_type": "markdown",
   "id": "dried-voice",
   "metadata": {},
   "source": [
    "#### We standardize the values of sex, F for Female, M for Male, N for Not Reported. The gender distribution is imbalanced"
   ]
  },
  {
   "cell_type": "code",
   "execution_count": 9,
   "id": "numerous-platinum",
   "metadata": {},
   "outputs": [
    {
     "data": {
      "text/plain": [
       "F    527\n",
       "M    396\n",
       "N      9\n",
       "Name: sex, dtype: int64"
      ]
     },
     "execution_count": 9,
     "metadata": {},
     "output_type": "execute_result"
    }
   ],
   "source": [
    "data_pt['sex'] = data_pt['sex'].astype(str).str.upper().str[0]\n",
    "data_pt.sex.value_counts()"
   ]
  },
  {
   "cell_type": "markdown",
   "id": "stone-grill",
   "metadata": {},
   "source": [
    "> -----------------------------------------------------------pyspark -----------------------------------------------------------"
   ]
  },
  {
   "cell_type": "code",
   "execution_count": 10,
   "id": "floral-reading",
   "metadata": {},
   "outputs": [
    {
     "name": "stdout",
     "output_type": "stream",
     "text": [
      "+------------+-----+\n",
      "|         sex|count|\n",
      "+------------+-----+\n",
      "|      Female|  515|\n",
      "|        Male|  384|\n",
      "|        male|   10|\n",
      "|Not Reported|    9|\n",
      "|      female|    9|\n",
      "|           f|    3|\n",
      "|           m|    1|\n",
      "|           M|    1|\n",
      "+------------+-----+\n",
      "\n",
      "+--------------+-----+\n",
      "|unified_gender|count|\n",
      "+--------------+-----+\n",
      "|             F|  527|\n",
      "|             M|  396|\n",
      "|             N|    9|\n",
      "+--------------+-----+\n",
      "\n"
     ]
    }
   ],
   "source": [
    "from pyspark.sql.functions import upper\n",
    "spdf_pt = spdf_pt.withColumn(\"unified_gender\", upper(spdf_pt.sex.substr(1, 1)))\n",
    "spdf_pt.groupby('sex').count().orderBy('count', ascending=False).show()\n",
    "spdf_pt.groupby('unified_gender').count().orderBy('count', ascending=False).show()\n",
    "#spdf_pt.show()"
   ]
  },
  {
   "cell_type": "code",
   "execution_count": 11,
   "id": "sudden-finance",
   "metadata": {},
   "outputs": [
    {
     "name": "stdout",
     "output_type": "stream",
     "text": [
      "\n",
      "Missing Value Summary\n",
      "-----------------------------------\n",
      "pt_id    0\n",
      "sex      0\n",
      "dtype: int64\n",
      "There were no rows with missing data\n"
     ]
    }
   ],
   "source": [
    "#Check missing values in specified columns.  \n",
    "columns_to_check =['pt_id', 'sex']\n",
    "row_with_missing = [row_idx for row_idx, row in data_pt[columns_to_check].isnull().iterrows() if True in row.values]\n",
    "print(\"\\nMissing Value Summary\\n{}\".format(\"-\"*35))\n",
    "print(data_pt.isnull().sum(axis = 0))\n",
    "if len(row_with_missing) > 0:\n",
    "    print(\"There were {} rows with missing diagnosis in data_pct dataset\".format(len(row_with_missing)))\n",
    "else:\n",
    "    print(\"There were no rows with missing data\")"
   ]
  },
  {
   "cell_type": "markdown",
   "id": "plain-variable",
   "metadata": {},
   "source": [
    "> -----------------------------------------------------------pyspark -----------------------------------------------------------"
   ]
  },
  {
   "cell_type": "code",
   "execution_count": 12,
   "id": "joined-prairie",
   "metadata": {},
   "outputs": [
    {
     "name": "stdout",
     "output_type": "stream",
     "text": [
      "+-----+---+--------------+\n",
      "|pt_id|sex|unified_gender|\n",
      "+-----+---+--------------+\n",
      "|    0|  0|             0|\n",
      "+-----+---+--------------+\n",
      "\n",
      "+-----+---+--------------+\n",
      "|pt_id|sex|unified_gender|\n",
      "+-----+---+--------------+\n",
      "|    0|  0|             0|\n",
      "+-----+---+--------------+\n",
      "\n"
     ]
    }
   ],
   "source": [
    "from pyspark.sql.functions import isnan, when, count, col\n",
    "spdf_pt.select([count(when(isnan(c) | col(c).isNull(), c)).alias(c) for c in spdf_pt.columns]).show()\n",
    "spdf_pt.select([count(when(col(c)=='null', c)).alias(c) for c in spdf_pt.columns]).show()"
   ]
  },
  {
   "cell_type": "markdown",
   "id": "vertical-commercial",
   "metadata": {},
   "source": [
    "## 1.2. Check diagnosis data"
   ]
  },
  {
   "cell_type": "code",
   "execution_count": 13,
   "id": "planned-biology",
   "metadata": {},
   "outputs": [
    {
     "data": {
      "text/html": [
       "<div>\n",
       "<style scoped>\n",
       "    .dataframe tbody tr th:only-of-type {\n",
       "        vertical-align: middle;\n",
       "    }\n",
       "\n",
       "    .dataframe tbody tr th {\n",
       "        vertical-align: top;\n",
       "    }\n",
       "\n",
       "    .dataframe thead th {\n",
       "        text-align: right;\n",
       "    }\n",
       "</style>\n",
       "<table border=\"1\" class=\"dataframe\">\n",
       "  <thead>\n",
       "    <tr style=\"text-align: right;\">\n",
       "      <th></th>\n",
       "      <th>pt_id</th>\n",
       "      <th>dos</th>\n",
       "      <th>dx_code</th>\n",
       "    </tr>\n",
       "  </thead>\n",
       "  <tbody>\n",
       "    <tr>\n",
       "      <th>0</th>\n",
       "      <td>13151</td>\n",
       "      <td>2018-04-10</td>\n",
       "      <td>H35.3231</td>\n",
       "    </tr>\n",
       "    <tr>\n",
       "      <th>1</th>\n",
       "      <td>13151</td>\n",
       "      <td>2018-05-22</td>\n",
       "      <td>H35.3231</td>\n",
       "    </tr>\n",
       "    <tr>\n",
       "      <th>2</th>\n",
       "      <td>13151</td>\n",
       "      <td>2018-07-17</td>\n",
       "      <td>H35.3220</td>\n",
       "    </tr>\n",
       "    <tr>\n",
       "      <th>3</th>\n",
       "      <td>13151</td>\n",
       "      <td>2018-09-25</td>\n",
       "      <td>H35.3220</td>\n",
       "    </tr>\n",
       "    <tr>\n",
       "      <th>4</th>\n",
       "      <td>13151</td>\n",
       "      <td>2018-12-18</td>\n",
       "      <td>H35.3220</td>\n",
       "    </tr>\n",
       "  </tbody>\n",
       "</table>\n",
       "</div>"
      ],
      "text/plain": [
       "   pt_id         dos   dx_code\n",
       "0  13151  2018-04-10  H35.3231\n",
       "1  13151  2018-05-22  H35.3231\n",
       "2  13151  2018-07-17  H35.3220\n",
       "3  13151  2018-09-25  H35.3220\n",
       "4  13151  2018-12-18  H35.3220"
      ]
     },
     "execution_count": 13,
     "metadata": {},
     "output_type": "execute_result"
    },
    {
     "data": {
      "text/plain": [
       "(4672, 3)"
      ]
     },
     "execution_count": 13,
     "metadata": {},
     "output_type": "execute_result"
    },
    {
     "data": {
      "text/plain": [
       "pt_id       int64\n",
       "dos        object\n",
       "dx_code    object\n",
       "dtype: object"
      ]
     },
     "execution_count": 13,
     "metadata": {},
     "output_type": "execute_result"
    }
   ],
   "source": [
    "data_dx = pd.read_csv(os.path.join(DATA_DIR, 'diagnosis.csv'), sep='\\t')\n",
    "data_dx.head()\n",
    "data_dx.shape\n",
    "data_dx.dtypes"
   ]
  },
  {
   "cell_type": "code",
   "execution_count": 14,
   "id": "macro-findings",
   "metadata": {},
   "outputs": [],
   "source": [
    "# change the dos type to datatime and creat a new column of year \n",
    "data_dx[\"dos\"] = pd.to_datetime(data_dx['dos'])\n",
    "data_dx['year']=data_dx['dos'].dt.year"
   ]
  },
  {
   "cell_type": "code",
   "execution_count": 15,
   "id": "exclusive-refund",
   "metadata": {},
   "outputs": [
    {
     "data": {
      "text/plain": [
       "(4484, 4)"
      ]
     },
     "execution_count": 15,
     "metadata": {},
     "output_type": "execute_result"
    }
   ],
   "source": [
    "data_dx.drop_duplicates(inplace=True)\n",
    "data_dx.shape"
   ]
  },
  {
   "cell_type": "markdown",
   "id": "fluid-transformation",
   "metadata": {},
   "source": [
    " > -------------------------------Pandas profiling tools-------------------------------"
   ]
  },
  {
   "cell_type": "raw",
   "id": "essential-distribution",
   "metadata": {},
   "source": [
    "report = sv.analyze(data_dx)\n",
    "report.show_html()"
   ]
  },
  {
   "cell_type": "markdown",
   "id": "cordless-organ",
   "metadata": {},
   "source": [
    "#### There are 152 diagnosis codes. The top 3 are H35.32, 362.52, E11.9"
   ]
  },
  {
   "cell_type": "code",
   "execution_count": 16,
   "id": "traditional-camping",
   "metadata": {},
   "outputs": [
    {
     "data": {
      "text/plain": [
       "H35.32       402\n",
       "362.52       395\n",
       "E11.9        244\n",
       "H35.033      197\n",
       "H35.3220     155\n",
       "            ... \n",
       "H35.3112       1\n",
       "414173003      1\n",
       "36252          1\n",
       "312956001      1\n",
       "60189009       1\n",
       "Name: dx_code, Length: 152, dtype: int64"
      ]
     },
     "execution_count": 16,
     "metadata": {},
     "output_type": "execute_result"
    }
   ],
   "source": [
    "data_dx.dx_code.value_counts()"
   ]
  },
  {
   "cell_type": "raw",
   "id": "durable-waste",
   "metadata": {},
   "source": [
    "data_dx.dx_code.unique()"
   ]
  },
  {
   "cell_type": "raw",
   "id": "fresh-strategy",
   "metadata": {},
   "source": [
    "data_dx.dos.value_counts()\n",
    "data_dx.year.value_counts()"
   ]
  },
  {
   "cell_type": "code",
   "execution_count": 17,
   "id": "hawaiian-bookmark",
   "metadata": {},
   "outputs": [],
   "source": [
    "# change the dos type to datatime and creat a new column of year \n",
    "data_dx[\"dos\"] = pd.to_datetime(data_dx['dos'])\n",
    "data_dx['year']=data_dx['dos'].dt.year"
   ]
  },
  {
   "cell_type": "code",
   "execution_count": 18,
   "id": "circular-compromise",
   "metadata": {},
   "outputs": [
    {
     "name": "stdout",
     "output_type": "stream",
     "text": [
      "\n",
      "Missing Value Summary\n",
      "-----------------------------------\n",
      "pt_id      0\n",
      "dos        0\n",
      "dx_code    0\n",
      "year       0\n",
      "dtype: int64\n",
      "There were no rows with missing data\n"
     ]
    }
   ],
   "source": [
    "#Check missing values in specified columns. Note the missing value in Treatment Plan is not counted. \n",
    "columns_to_check =['pt_id', 'dos', 'dx_code']\n",
    "row_with_missing = [row_idx for row_idx, row in data_dx[columns_to_check].isnull().iterrows() if True in row.values]\n",
    "print(\"\\nMissing Value Summary\\n{}\".format(\"-\"*35))\n",
    "print(data_dx.isnull().sum(axis = 0))\n",
    "if len(row_with_missing) > 0:\n",
    "    print(\"There were {} rows with missing diagnosis in data_pct dataset\".format(len(row_with_missing)))\n",
    "else:\n",
    "    print(\"There were no rows with missing data\")"
   ]
  },
  {
   "cell_type": "markdown",
   "id": "forty-cassette",
   "metadata": {},
   "source": [
    "> -----------------------------------------------------------pyspark -----------------------------------------------------------"
   ]
  },
  {
   "cell_type": "code",
   "execution_count": 19,
   "id": "headed-style",
   "metadata": {},
   "outputs": [
    {
     "name": "stdout",
     "output_type": "stream",
     "text": [
      "+-----+----------+--------+\n",
      "|pt_id|       dos| dx_code|\n",
      "+-----+----------+--------+\n",
      "|13151|2018-04-10|H35.3231|\n",
      "|13151|2018-05-22|H35.3231|\n",
      "|13151|2018-07-17|H35.3220|\n",
      "|13151|2018-09-25|H35.3220|\n",
      "|13151|2018-12-18|H35.3220|\n",
      "+-----+----------+--------+\n",
      "only showing top 5 rows\n",
      "\n",
      "root\n",
      " |-- pt_id: integer (nullable = true)\n",
      " |-- dos: string (nullable = true)\n",
      " |-- dx_code: string (nullable = true)\n",
      "\n",
      "(4672, 3)\n"
     ]
    }
   ],
   "source": [
    "spdf_dx = spark.read.load(os.path.join(DATA_DIR, 'diagnosis.csv'), format='csv', sep='\\t', inferSchema=\"true\", header='true')\n",
    "#spdf_dx = spdf_pt.withColumnRenamed('patientid', 'pt_id')\n",
    "spdf_dx.show(5)\n",
    "spdf_dx.printSchema()\n",
    "print((spdf_dx.count(), len(spdf_dx.columns)))"
   ]
  },
  {
   "cell_type": "code",
   "execution_count": 20,
   "id": "inside-appearance",
   "metadata": {},
   "outputs": [
    {
     "name": "stdout",
     "output_type": "stream",
     "text": [
      "(4484, 3)\n"
     ]
    }
   ],
   "source": [
    "spdf_dx = spdf_dx.dropDuplicates()\n",
    "print((spdf_dx.count(), len(spdf_dx.columns)))"
   ]
  },
  {
   "cell_type": "code",
   "execution_count": 21,
   "id": "dying-liberal",
   "metadata": {},
   "outputs": [
    {
     "name": "stdout",
     "output_type": "stream",
     "text": [
      "+-----+----------+--------+----+\n",
      "|pt_id|       dos| dx_code|year|\n",
      "+-----+----------+--------+----+\n",
      "|37531|2019-07-23| H35.321|2019|\n",
      "|49241|2019-04-18|H35.3220|2019|\n",
      "|30912|2016-11-01| H35.051|2016|\n",
      "|16194|2016-12-08| H35.031|2016|\n",
      "|14289|2017-12-04|  H35.32|2017|\n",
      "+-----+----------+--------+----+\n",
      "only showing top 5 rows\n",
      "\n"
     ]
    }
   ],
   "source": [
    "from pyspark.sql.functions import year\n",
    "from pyspark.sql.types import DateType\n",
    "spdf_dx = spdf_dx.withColumn(\"year\", year(spdf_dx.dos.cast(DateType())))\n",
    "spdf_dx.show(5)"
   ]
  },
  {
   "cell_type": "code",
   "execution_count": 22,
   "id": "short-reward",
   "metadata": {},
   "outputs": [
    {
     "name": "stdout",
     "output_type": "stream",
     "text": [
      "+-----+---+-------+----+\n",
      "|pt_id|dos|dx_code|year|\n",
      "+-----+---+-------+----+\n",
      "|    0|  0|      0|   0|\n",
      "+-----+---+-------+----+\n",
      "\n",
      "+-----+---+-------+----+\n",
      "|pt_id|dos|dx_code|year|\n",
      "+-----+---+-------+----+\n",
      "|    0|  0|      0|   0|\n",
      "+-----+---+-------+----+\n",
      "\n"
     ]
    }
   ],
   "source": [
    "from pyspark.sql.functions import isnan, when, count, col, isnull\n",
    "spdf_dx.select([count(when(isnan(c) | col(c).isNull(), c)).alias(c) for c in spdf_dx.columns]).show()\n",
    "spdf_dx.select([count(when(col(c)=='null', c)).alias(c) for c in spdf_dx.columns]).show()"
   ]
  },
  {
   "cell_type": "code",
   "execution_count": 23,
   "id": "voluntary-nicaragua",
   "metadata": {},
   "outputs": [
    {
     "name": "stdout",
     "output_type": "stream",
     "text": [
      "+--------+-----+\n",
      "| dx_code|count|\n",
      "+--------+-----+\n",
      "|  H35.32|  402|\n",
      "|  362.52|  395|\n",
      "|   E11.9|  244|\n",
      "| H35.033|  197|\n",
      "|H35.3220|  155|\n",
      "|  H25.13|  152|\n",
      "|  H35.81|  140|\n",
      "|H35.3290|  135|\n",
      "| H35.321|  127|\n",
      "| E11.331|  115|\n",
      "| H43.813|  106|\n",
      "|  362.51|   97|\n",
      "|  362.02|   85|\n",
      "|  362.07|   81|\n",
      "|  379.23|   76|\n",
      "|  362.35|   65|\n",
      "|  E78.00|   64|\n",
      "|  H18.59|   59|\n",
      "|  361.81|   58|\n",
      "| H04.123|   56|\n",
      "+--------+-----+\n",
      "only showing top 20 rows\n",
      "\n"
     ]
    }
   ],
   "source": [
    "spdf_dx.groupBy('dx_code').count().orderBy('count', ascending=False).show()\n",
    "#spdf_dx.select('dx_code').distinct().collect()"
   ]
  },
  {
   "cell_type": "markdown",
   "id": "specialized-belle",
   "metadata": {},
   "source": [
    "## 1.3. Check the procedure dataset"
   ]
  },
  {
   "cell_type": "code",
   "execution_count": 24,
   "id": "lesbian-coordinate",
   "metadata": {},
   "outputs": [
    {
     "data": {
      "text/html": [
       "<div>\n",
       "<style scoped>\n",
       "    .dataframe tbody tr th:only-of-type {\n",
       "        vertical-align: middle;\n",
       "    }\n",
       "\n",
       "    .dataframe tbody tr th {\n",
       "        vertical-align: top;\n",
       "    }\n",
       "\n",
       "    .dataframe thead th {\n",
       "        text-align: right;\n",
       "    }\n",
       "</style>\n",
       "<table border=\"1\" class=\"dataframe\">\n",
       "  <thead>\n",
       "    <tr style=\"text-align: right;\">\n",
       "      <th></th>\n",
       "      <th>pt_id</th>\n",
       "      <th>dos</th>\n",
       "      <th>procedure_code</th>\n",
       "      <th>mod</th>\n",
       "    </tr>\n",
       "  </thead>\n",
       "  <tbody>\n",
       "    <tr>\n",
       "      <th>0</th>\n",
       "      <td>10026</td>\n",
       "      <td>12/14/19</td>\n",
       "      <td>2027F</td>\n",
       "      <td>NaN</td>\n",
       "    </tr>\n",
       "    <tr>\n",
       "      <th>1</th>\n",
       "      <td>10026</td>\n",
       "      <td>11/13/19</td>\n",
       "      <td>92014</td>\n",
       "      <td>25</td>\n",
       "    </tr>\n",
       "    <tr>\n",
       "      <th>2</th>\n",
       "      <td>10026</td>\n",
       "      <td>11/6/19</td>\n",
       "      <td>G8427</td>\n",
       "      <td>NaN</td>\n",
       "    </tr>\n",
       "    <tr>\n",
       "      <th>3</th>\n",
       "      <td>10026</td>\n",
       "      <td>10/2/19</td>\n",
       "      <td>92134</td>\n",
       "      <td>NaN</td>\n",
       "    </tr>\n",
       "    <tr>\n",
       "      <th>4</th>\n",
       "      <td>10026</td>\n",
       "      <td>9/23/19</td>\n",
       "      <td>92014</td>\n",
       "      <td>25</td>\n",
       "    </tr>\n",
       "  </tbody>\n",
       "</table>\n",
       "</div>"
      ],
      "text/plain": [
       "   pt_id       dos procedure_code  mod\n",
       "0  10026  12/14/19          2027F  NaN\n",
       "1  10026  11/13/19          92014   25\n",
       "2  10026   11/6/19          G8427  NaN\n",
       "3  10026   10/2/19          92134  NaN\n",
       "4  10026   9/23/19          92014   25"
      ]
     },
     "execution_count": 24,
     "metadata": {},
     "output_type": "execute_result"
    },
    {
     "data": {
      "text/plain": [
       "pt_id              int64\n",
       "dos               object\n",
       "procedure_code    object\n",
       "mod               object\n",
       "dtype: object"
      ]
     },
     "execution_count": 24,
     "metadata": {},
     "output_type": "execute_result"
    },
    {
     "data": {
      "text/plain": [
       "(5222, 4)"
      ]
     },
     "execution_count": 24,
     "metadata": {},
     "output_type": "execute_result"
    }
   ],
   "source": [
    "data_pct = pd.read_csv(os.path.join(DATA_DIR, 'procedure.csv'), sep='\\t')\n",
    "data_pct.rename(columns={'patient_id': 'pt_id'}, inplace=True)\n",
    "data_pct.head()\n",
    "data_pct.dtypes\n",
    "data_pct.shape"
   ]
  },
  {
   "cell_type": "code",
   "execution_count": 25,
   "id": "narrow-surveillance",
   "metadata": {},
   "outputs": [
    {
     "data": {
      "text/plain": [
       "(5149, 4)"
      ]
     },
     "execution_count": 25,
     "metadata": {},
     "output_type": "execute_result"
    }
   ],
   "source": [
    "data_pct.drop_duplicates(inplace=True)\n",
    "data_pct.shape"
   ]
  },
  {
   "cell_type": "code",
   "execution_count": 26,
   "id": "clear-honduras",
   "metadata": {},
   "outputs": [
    {
     "data": {
      "text/html": [
       "<div>\n",
       "<style scoped>\n",
       "    .dataframe tbody tr th:only-of-type {\n",
       "        vertical-align: middle;\n",
       "    }\n",
       "\n",
       "    .dataframe tbody tr th {\n",
       "        vertical-align: top;\n",
       "    }\n",
       "\n",
       "    .dataframe thead th {\n",
       "        text-align: right;\n",
       "    }\n",
       "</style>\n",
       "<table border=\"1\" class=\"dataframe\">\n",
       "  <thead>\n",
       "    <tr style=\"text-align: right;\">\n",
       "      <th></th>\n",
       "      <th>pt_id</th>\n",
       "      <th>dos</th>\n",
       "      <th>procedure_code</th>\n",
       "      <th>mod</th>\n",
       "      <th>year</th>\n",
       "    </tr>\n",
       "  </thead>\n",
       "  <tbody>\n",
       "    <tr>\n",
       "      <th>0</th>\n",
       "      <td>10026</td>\n",
       "      <td>2019-12-14</td>\n",
       "      <td>2027F</td>\n",
       "      <td>NaN</td>\n",
       "      <td>2019</td>\n",
       "    </tr>\n",
       "    <tr>\n",
       "      <th>1</th>\n",
       "      <td>10026</td>\n",
       "      <td>2019-11-13</td>\n",
       "      <td>92014</td>\n",
       "      <td>25</td>\n",
       "      <td>2019</td>\n",
       "    </tr>\n",
       "    <tr>\n",
       "      <th>2</th>\n",
       "      <td>10026</td>\n",
       "      <td>2019-11-06</td>\n",
       "      <td>G8427</td>\n",
       "      <td>NaN</td>\n",
       "      <td>2019</td>\n",
       "    </tr>\n",
       "    <tr>\n",
       "      <th>3</th>\n",
       "      <td>10026</td>\n",
       "      <td>2019-10-02</td>\n",
       "      <td>92134</td>\n",
       "      <td>NaN</td>\n",
       "      <td>2019</td>\n",
       "    </tr>\n",
       "    <tr>\n",
       "      <th>4</th>\n",
       "      <td>10026</td>\n",
       "      <td>2019-09-23</td>\n",
       "      <td>92014</td>\n",
       "      <td>25</td>\n",
       "      <td>2019</td>\n",
       "    </tr>\n",
       "  </tbody>\n",
       "</table>\n",
       "</div>"
      ],
      "text/plain": [
       "   pt_id        dos procedure_code  mod  year\n",
       "0  10026 2019-12-14          2027F  NaN  2019\n",
       "1  10026 2019-11-13          92014   25  2019\n",
       "2  10026 2019-11-06          G8427  NaN  2019\n",
       "3  10026 2019-10-02          92134  NaN  2019\n",
       "4  10026 2019-09-23          92014   25  2019"
      ]
     },
     "execution_count": 26,
     "metadata": {},
     "output_type": "execute_result"
    }
   ],
   "source": [
    "# change the dos type to datatime and creat a new column of year \n",
    "data_pct[\"dos\"] = pd.to_datetime(data_pct['dos'])\n",
    "data_pct['year']=data_pct['dos'].dt.year\n",
    "data_pct.head()"
   ]
  },
  {
   "cell_type": "markdown",
   "id": "sticky-samuel",
   "metadata": {},
   "source": [
    "#### There are 86 procedure codes."
   ]
  },
  {
   "cell_type": "code",
   "execution_count": 27,
   "id": "greater-greene",
   "metadata": {},
   "outputs": [
    {
     "data": {
      "text/plain": [
       "92134         757\n",
       "92014         581\n",
       "67028         474\n",
       "92012         442\n",
       "99213         250\n",
       "             ... \n",
       "LUC5MG          1\n",
       "J3490           1\n",
       "J0178OU         1\n",
       "J2778,05MG      1\n",
       "J2778-5         1\n",
       "Name: procedure_code, Length: 86, dtype: int64"
      ]
     },
     "execution_count": 27,
     "metadata": {},
     "output_type": "execute_result"
    },
    {
     "data": {
      "text/plain": [
       "array(['2027F', '92014', 'G8427', '92134', '2026F', '1036F', '92012',\n",
       "       '92226', 'EYLEAX1', '99213', '92015', '99212', '3072F', '2019F',\n",
       "       '4177F', '92083', '67210', '92250', 'C9257', '92235', 'G8397',\n",
       "       '92135', '99214', '76512', '67228', '92133', '2022F', '5010F',\n",
       "       '2024F', '4040F', '3284F', '92225', '67028', 'J2778PF', 'J3590',\n",
       "       'J9035', '92273', 'G8482', '67040', '92020', 'G8420', '99499',\n",
       "       '92136', 'G8950', '67028MCR', 'J0178OU', 'J0178', 'LACS', '92002',\n",
       "       '99024', 'G8753', 'LUC5SYRX1', 'G8756', 'G8754', 'G9974', 'J2778',\n",
       "       'J7312', '92242', '67041', '92081', 'G9744', '66984', 'J7999',\n",
       "       '3285F', '2021F', 'J2778-5', 'J2778,05MG', 'J2778-5P', 'G8752',\n",
       "       'AVASTIN', 'G9903', 'RS000', '66821', 'G8918', 'G8907', 'J3490',\n",
       "       '1', 'J9035,J3490,Q9977', 'D0000', '92283', 'J2778P', 'LUC5MG',\n",
       "       'G8428', 'J2778DME', '92240', 'J2778POU'], dtype=object)"
      ]
     },
     "execution_count": 27,
     "metadata": {},
     "output_type": "execute_result"
    }
   ],
   "source": [
    "data_pct.procedure_code.value_counts()\n",
    "data_pct['procedure_code'].unique()\n",
    "#data_pct.dos.value_counts()\n",
    "#data_pct.year.value_counts()"
   ]
  },
  {
   "cell_type": "code",
   "execution_count": 28,
   "id": "educational-peter",
   "metadata": {},
   "outputs": [
    {
     "name": "stdout",
     "output_type": "stream",
     "text": [
      "\n",
      "Missing Value Summary\n",
      "-----------------------------------\n",
      "pt_id                0\n",
      "dos                  0\n",
      "procedure_code       0\n",
      "mod               3709\n",
      "year                 0\n",
      "dtype: int64\n",
      "There were 3709 rows with missing values in data_pct dataset\n"
     ]
    }
   ],
   "source": [
    "#Check missing values in specified columns. Note the missing value in Treatment Plan is not counted. \n",
    "columns_to_check =['pt_id', 'dos', 'procedure_code', 'mod']\n",
    "row_with_missing = [row_idx for row_idx,row in data_pct[columns_to_check].isnull().iterrows() if True in row.values]\n",
    "print(\"\\nMissing Value Summary\\n{}\".format(\"-\"*35))\n",
    "print(data_pct.isnull().sum(axis = 0))\n",
    "if len(row_with_missing) > 0:\n",
    "    print(\"There were {} rows with missing values in data_pct dataset\".format(len(row_with_missing)))\n",
    "else:\n",
    "    print(\"There were no rows with missing data\")"
   ]
  },
  {
   "cell_type": "markdown",
   "id": "dirty-interference",
   "metadata": {},
   "source": [
    "#### Fill missing values with NA"
   ]
  },
  {
   "cell_type": "code",
   "execution_count": 29,
   "id": "accomplished-breakdown",
   "metadata": {},
   "outputs": [],
   "source": [
    "data_pct = data_pct.fillna(\"NA\").reset_index(drop = True)"
   ]
  },
  {
   "cell_type": "code",
   "execution_count": 30,
   "id": "interstate-charm",
   "metadata": {},
   "outputs": [
    {
     "data": {
      "text/plain": [
       "NA          3709\n",
       "25           501\n",
       "RT           433\n",
       "LT           291\n",
       "24            68\n",
       "50            49\n",
       "79            35\n",
       "8P            20\n",
       "57            20\n",
       "59            10\n",
       "TC             8\n",
       "18944008       5\n",
       "Name: mod, dtype: int64"
      ]
     },
     "execution_count": 30,
     "metadata": {},
     "output_type": "execute_result"
    }
   ],
   "source": [
    "data_pct['mod'].value_counts()"
   ]
  },
  {
   "cell_type": "markdown",
   "id": "monetary-genome",
   "metadata": {},
   "source": [
    "> -------------------------------------------------------------pyspark-------------------------------------------------------------"
   ]
  },
  {
   "cell_type": "code",
   "execution_count": 31,
   "id": "hidden-victorian",
   "metadata": {},
   "outputs": [
    {
     "name": "stdout",
     "output_type": "stream",
     "text": [
      "+-----+--------+--------------+----+\n",
      "|pt_id|     dos|procedure_code| mod|\n",
      "+-----+--------+--------------+----+\n",
      "|10026|12/14/19|         2027F|null|\n",
      "|10026|11/13/19|         92014|  25|\n",
      "|10026| 11/6/19|         G8427|null|\n",
      "|10026| 10/2/19|         92134|null|\n",
      "|10026| 9/23/19|         92014|  25|\n",
      "+-----+--------+--------------+----+\n",
      "only showing top 5 rows\n",
      "\n",
      "root\n",
      " |-- pt_id: integer (nullable = true)\n",
      " |-- dos: string (nullable = true)\n",
      " |-- procedure_code: string (nullable = true)\n",
      " |-- mod: string (nullable = true)\n",
      "\n",
      "5222 4\n"
     ]
    }
   ],
   "source": [
    "spdf_pct = spark.read.load(os.path.join(DATA_DIR, 'procedure.csv'), format='csv', sep='\\t', inferSchema=\"true\", header='true')\n",
    "spdf_pct = spdf_pct.withColumnRenamed('patient_id', 'pt_id')\n",
    "spdf_pct.show(5)\n",
    "spdf_pct.printSchema()\n",
    "print(spdf_pct.count(), len(spdf_pct.columns))\n",
    "#spdf_pct.toPandas().shape"
   ]
  },
  {
   "cell_type": "code",
   "execution_count": 32,
   "id": "objective-science",
   "metadata": {},
   "outputs": [
    {
     "name": "stdout",
     "output_type": "stream",
     "text": [
      "(5149, 4)\n"
     ]
    }
   ],
   "source": [
    "spdf_pct = spdf_pct.dropDuplicates()\n",
    "#spdf_dx.show(5)\n",
    "print((spdf_pct.count(), len(spdf_pct.columns)))"
   ]
  },
  {
   "cell_type": "code",
   "execution_count": 33,
   "id": "accompanied-twenty",
   "metadata": {},
   "outputs": [
    {
     "name": "stdout",
     "output_type": "stream",
     "text": [
      "+-----+--------+--------------+----+----+\n",
      "|pt_id|     dos|procedure_code| mod|year|\n",
      "+-----+--------+--------------+----+----+\n",
      "|10482|12/28/18|         67028|  LT|2018|\n",
      "|14795| 1/17/19|         67028|null|2019|\n",
      "|15561|12/21/15|         3285F|null|2015|\n",
      "|16910|12/14/14|         92134|null|2014|\n",
      "|18796| 12/8/16|         4177F|null|2016|\n",
      "|18796| 7/13/16|         92134|null|2016|\n",
      "|19922|12/20/16|         92014|null|2016|\n",
      "|21853| 3/29/14|         1036F|null|2014|\n",
      "|25601| 9/15/16|         92134|null|2016|\n",
      "|25601| 9/27/17|         92134|  50|2017|\n",
      "|26375| 2/24/15|         92014|null|2015|\n",
      "|26660| 1/19/17|         2019F|null|2017|\n",
      "|26668| 8/20/13|         99214|null|2013|\n",
      "|27032|  9/2/15|         92014|null|2015|\n",
      "|27468| 7/11/13|         92134|null|2013|\n",
      "|31132|12/30/14|         G8427|null|2014|\n",
      "|34041|12/19/13|         92012|null|2013|\n",
      "|38768|10/16/18|         J9035|null|2018|\n",
      "|39498| 11/7/19|         92083|null|2019|\n",
      "|41892| 4/24/17|         92133|null|2017|\n",
      "+-----+--------+--------------+----+----+\n",
      "only showing top 20 rows\n",
      "\n"
     ]
    }
   ],
   "source": [
    "from pyspark.sql.types import StringType\n",
    "from pyspark.sql.functions import udf, year\n",
    "\n",
    "udf1 = udf(lambda x: '20'+x[-2:], StringType())\n",
    "spdf_pct = spdf_pct.withColumn('year',year(udf1('dos')))\n",
    "spdf_pct.show()"
   ]
  },
  {
   "cell_type": "raw",
   "id": "minus-habitat",
   "metadata": {},
   "source": [
    "from pyspark.sql.functions import to_timestamp, col, unix_timestamp, to_date\n",
    "\n",
    "spdf_pct = spdf_pct.withColumn('date_in_dateFormat', to_date(unix_timestamp(col('dos'), 'M/D/yy').cast(\"timestamp\")))\n",
    "spdf_pct.show(5)"
   ]
  },
  {
   "cell_type": "code",
   "execution_count": 34,
   "id": "objective-ordinance",
   "metadata": {},
   "outputs": [
    {
     "name": "stdout",
     "output_type": "stream",
     "text": [
      "+-----+---+--------------+---+----+\n",
      "|pt_id|dos|procedure_code|mod|year|\n",
      "+-----+---+--------------+---+----+\n",
      "|    0|  0|             0|  0|   0|\n",
      "+-----+---+--------------+---+----+\n",
      "\n",
      "+-----+---+--------------+----+----+\n",
      "|pt_id|dos|procedure_code| mod|year|\n",
      "+-----+---+--------------+----+----+\n",
      "|    0|  0|             0|3709|   0|\n",
      "+-----+---+--------------+----+----+\n",
      "\n"
     ]
    }
   ],
   "source": [
    "from pyspark.sql.functions import isnan, when, count, col, isnull\n",
    "spdf_pct.select([count(when(isnan(c) | col(c).isNull(), c)).alias(c) for c in spdf_pct.columns]).show()\n",
    "spdf_pct.select([count(when(col(c)=='null', c)).alias(c) for c in spdf_pct.columns]).show()"
   ]
  },
  {
   "cell_type": "code",
   "execution_count": 35,
   "id": "equipped-wildlife",
   "metadata": {},
   "outputs": [
    {
     "name": "stdout",
     "output_type": "stream",
     "text": [
      "+--------------+-----+\n",
      "|procedure_code|count|\n",
      "+--------------+-----+\n",
      "|         92134|  757|\n",
      "|         92014|  581|\n",
      "|         67028|  474|\n",
      "|         92012|  442|\n",
      "|         99213|  250|\n",
      "|         92226|  219|\n",
      "|         G8427|  180|\n",
      "|         99214|  160|\n",
      "|         J9035|  144|\n",
      "|         J0178|  132|\n",
      "|         1036F|  127|\n",
      "|         4177F|  118|\n",
      "|         2019F|  118|\n",
      "|         J2778|   83|\n",
      "|         2022F|   78|\n",
      "|         67210|   75|\n",
      "|         92250|   68|\n",
      "|         99499|   54|\n",
      "|         G8397|   50|\n",
      "|         5010F|   50|\n",
      "+--------------+-----+\n",
      "only showing top 20 rows\n",
      "\n",
      "+--------+-----+\n",
      "|     mod|count|\n",
      "+--------+-----+\n",
      "|    null| 3709|\n",
      "|      25|  501|\n",
      "|      RT|  433|\n",
      "|      LT|  291|\n",
      "|      24|   68|\n",
      "|      50|   49|\n",
      "|      79|   35|\n",
      "|      8P|   20|\n",
      "|      57|   20|\n",
      "|      59|   10|\n",
      "|      TC|    8|\n",
      "|18944008|    5|\n",
      "+--------+-----+\n",
      "\n"
     ]
    }
   ],
   "source": [
    "#spdf_dx.dx_code.unique()\n",
    "spdf_pct.groupBy('procedure_code').count().orderBy('count', ascending=False).show()\n",
    "spdf_pct.groupBy('mod').count().orderBy('count', ascending=False).show()\n",
    "#spdf_dx.select('dx_code').distinct().collect()"
   ]
  },
  {
   "cell_type": "markdown",
   "id": "aware-missile",
   "metadata": {},
   "source": [
    "#### There are 11 modifier codes."
   ]
  },
  {
   "cell_type": "markdown",
   "id": "adjacent-sight",
   "metadata": {},
   "source": [
    "# 2. Answers to questions"
   ]
  },
  {
   "cell_type": "markdown",
   "id": "planned-shade",
   "metadata": {},
   "source": [
    "### Q1. What are the types of data quality issues or checks should you consider?"
   ]
  },
  {
   "cell_type": "markdown",
   "id": "tracked-habitat",
   "metadata": {},
   "source": [
    "Data quality checks include: \n",
    "* Duplicate data\n",
    "* Data with missing values \n",
    "* Data accuracy such as data range, closeness of data values with real-world values. \n",
    "* Data type and format\n",
    "* Consistency of data such as medical code over time or across sites\n",
    "* Data distribution and outliers"
   ]
  },
  {
   "cell_type": "markdown",
   "id": "pleasant-lecture",
   "metadata": {},
   "source": [
    "### Q2. How many patients have Wet Age-Related Macular Degeneration (wAMD) in the given dataset?"
   ]
  },
  {
   "cell_type": "code",
   "execution_count": 36,
   "id": "invalid-employment",
   "metadata": {},
   "outputs": [
    {
     "data": {
      "text/plain": [
       "H35.32       402\n",
       "362.52       395\n",
       "E11.9        244\n",
       "H35.033      197\n",
       "H35.3220     155\n",
       "            ... \n",
       "H35.3112       1\n",
       "414173003      1\n",
       "36252          1\n",
       "312956001      1\n",
       "60189009       1\n",
       "Name: dx_code, Length: 152, dtype: int64"
      ]
     },
     "execution_count": 36,
     "metadata": {},
     "output_type": "execute_result"
    }
   ],
   "source": [
    "data_dx.dx_code.value_counts()"
   ]
  },
  {
   "cell_type": "markdown",
   "id": "animal-league",
   "metadata": {},
   "source": [
    "#### The diagnosis code for wAMD is **362.52** in ICD-9-CM, and **H35.32XX** in ICD-10-CM, respectively"
   ]
  },
  {
   "cell_type": "code",
   "execution_count": 37,
   "id": "dutch-august",
   "metadata": {},
   "outputs": [
    {
     "name": "stdout",
     "output_type": "stream",
     "text": [
      "The numbe of records with Wet Age-Related Macular Degeneration (wAMD) diagnosis is: 1251\n",
      "The numbe of patients having Wet Age-Related Macular Degeneration (wAMD) is: 418\n"
     ]
    }
   ],
   "source": [
    "# h is the group of patients diagnozed with wAMD which is coded as H35.32XX and 362.52 in ICD-9-CM\n",
    "h=data_dx[data_dx['dx_code'].str.contains('H35.32|362.52', case=False)]\n",
    "#h\n",
    "print('The numbe of records with Wet Age-Related Macular Degeneration (wAMD) diagnosis is: {}'.format(len(h)))\n",
    "print('The numbe of patients having Wet Age-Related Macular Degeneration (wAMD) is: {}'.format(len(set(h['pt_id']))))"
   ]
  },
  {
   "cell_type": "markdown",
   "id": "premium-breath",
   "metadata": {},
   "source": [
    "> ---------------------------------------------pyspark---------------------------------------------"
   ]
  },
  {
   "cell_type": "code",
   "execution_count": 96,
   "id": "hungarian-bulgaria",
   "metadata": {},
   "outputs": [
    {
     "name": "stdout",
     "output_type": "stream",
     "text": [
      "+---------------------+\n",
      "|count(DISTINCT pt_id)|\n",
      "+---------------------+\n",
      "|                  418|\n",
      "+---------------------+\n",
      "\n"
     ]
    }
   ],
   "source": [
    "from pyspark.sql import SQLContext\n",
    "sqlContext = SQLContext(sc)\n",
    "spdf_dx.registerTempTable('dx_table')\n",
    "sDF = sqlContext.sql('select count(DISTINCT pt_id)\\\n",
    "                    from dx_table \\\n",
    "                    where (upper(dx_code) LIKE upper(\"%H35.32%\") OR dx_code LIKE \"%362.52%\" OR upper(dx_code) LIKE upper(\"%H3532%\")) \\\n",
    "                     ')\n",
    "sDF.show()"
   ]
  },
  {
   "cell_type": "markdown",
   "id": "infrared-gamma",
   "metadata": {},
   "source": [
    "### Q3. How many patients have wAMD in 2019?"
   ]
  },
  {
   "cell_type": "code",
   "execution_count": 39,
   "id": "posted-nursing",
   "metadata": {},
   "outputs": [
    {
     "name": "stdout",
     "output_type": "stream",
     "text": [
      "The numbe of patients having wAMD in 2019 is: 66\n"
     ]
    }
   ],
   "source": [
    "print('The numbe of patients having wAMD in 2019 is: {}'.format(len(set(h[h['year']==2019]['pt_id']))))"
   ]
  },
  {
   "cell_type": "markdown",
   "id": "virgin-reservoir",
   "metadata": {},
   "source": [
    "> ---------------------------------------------pyspark---------------------------------------------"
   ]
  },
  {
   "cell_type": "code",
   "execution_count": 95,
   "id": "romantic-brick",
   "metadata": {},
   "outputs": [
    {
     "name": "stdout",
     "output_type": "stream",
     "text": [
      "+---------------------+\n",
      "|count(DISTINCT pt_id)|\n",
      "+---------------------+\n",
      "|                   66|\n",
      "+---------------------+\n",
      "\n"
     ]
    }
   ],
   "source": [
    "from pyspark.sql import SQLContext\n",
    "sqlContext = SQLContext(sc)\n",
    "spdf_dx.registerTempTable('dx_table')\n",
    "sDF = sqlContext.sql('select count(DISTINCT pt_id) \\\n",
    "                    from dx_table \\\n",
    "                    where (upper(dx_code) LIKE upper(\"%H35.32%\") OR dx_code LIKE \"%362.52%\" OR upper(dx_code) LIKE upper(\"%H3532%\")) \\\n",
    "                    AND year==2019 \\\n",
    "                     ')\n",
    "sDF.show()"
   ]
  },
  {
   "cell_type": "markdown",
   "id": "middle-possession",
   "metadata": {},
   "source": [
    "### Q4. How many patients have wAMD between 2014-2017, stratified by sex?"
   ]
  },
  {
   "cell_type": "markdown",
   "id": "addressed-continent",
   "metadata": {},
   "source": [
    "#### Building a subgroup of patients diagnosed wAMD between 2014 and 2017 by joining patient and diagnosis tables on patient id"
   ]
  },
  {
   "cell_type": "code",
   "execution_count": 41,
   "id": "fabulous-consensus",
   "metadata": {},
   "outputs": [
    {
     "data": {
      "text/html": [
       "<div>\n",
       "<style scoped>\n",
       "    .dataframe tbody tr th:only-of-type {\n",
       "        vertical-align: middle;\n",
       "    }\n",
       "\n",
       "    .dataframe tbody tr th {\n",
       "        vertical-align: top;\n",
       "    }\n",
       "\n",
       "    .dataframe thead th {\n",
       "        text-align: right;\n",
       "    }\n",
       "</style>\n",
       "<table border=\"1\" class=\"dataframe\">\n",
       "  <thead>\n",
       "    <tr style=\"text-align: right;\">\n",
       "      <th></th>\n",
       "      <th>pt_id</th>\n",
       "      <th>sex</th>\n",
       "      <th>dos</th>\n",
       "      <th>dx_code</th>\n",
       "      <th>year</th>\n",
       "    </tr>\n",
       "  </thead>\n",
       "  <tbody>\n",
       "    <tr>\n",
       "      <th>23</th>\n",
       "      <td>42834</td>\n",
       "      <td>M</td>\n",
       "      <td>2017-02-08</td>\n",
       "      <td>H35.3220</td>\n",
       "      <td>2017</td>\n",
       "    </tr>\n",
       "    <tr>\n",
       "      <th>24</th>\n",
       "      <td>42834</td>\n",
       "      <td>M</td>\n",
       "      <td>2017-04-12</td>\n",
       "      <td>H35.3210</td>\n",
       "      <td>2017</td>\n",
       "    </tr>\n",
       "    <tr>\n",
       "      <th>25</th>\n",
       "      <td>42834</td>\n",
       "      <td>M</td>\n",
       "      <td>2017-06-14</td>\n",
       "      <td>H35.3220</td>\n",
       "      <td>2017</td>\n",
       "    </tr>\n",
       "    <tr>\n",
       "      <th>26</th>\n",
       "      <td>42834</td>\n",
       "      <td>M</td>\n",
       "      <td>2017-08-23</td>\n",
       "      <td>H35.3220</td>\n",
       "      <td>2017</td>\n",
       "    </tr>\n",
       "    <tr>\n",
       "      <th>27</th>\n",
       "      <td>42834</td>\n",
       "      <td>M</td>\n",
       "      <td>2017-11-15</td>\n",
       "      <td>H35.3220</td>\n",
       "      <td>2017</td>\n",
       "    </tr>\n",
       "    <tr>\n",
       "      <th>...</th>\n",
       "      <td>...</td>\n",
       "      <td>...</td>\n",
       "      <td>...</td>\n",
       "      <td>...</td>\n",
       "      <td>...</td>\n",
       "    </tr>\n",
       "    <tr>\n",
       "      <th>1243</th>\n",
       "      <td>18683</td>\n",
       "      <td>M</td>\n",
       "      <td>2015-06-22</td>\n",
       "      <td>362.52</td>\n",
       "      <td>2015</td>\n",
       "    </tr>\n",
       "    <tr>\n",
       "      <th>1244</th>\n",
       "      <td>18683</td>\n",
       "      <td>M</td>\n",
       "      <td>2015-07-02</td>\n",
       "      <td>362.52</td>\n",
       "      <td>2015</td>\n",
       "    </tr>\n",
       "    <tr>\n",
       "      <th>1245</th>\n",
       "      <td>17449</td>\n",
       "      <td>F</td>\n",
       "      <td>2015-07-12</td>\n",
       "      <td>362.52</td>\n",
       "      <td>2015</td>\n",
       "    </tr>\n",
       "    <tr>\n",
       "      <th>1246</th>\n",
       "      <td>17449</td>\n",
       "      <td>F</td>\n",
       "      <td>2015-07-22</td>\n",
       "      <td>362.52</td>\n",
       "      <td>2015</td>\n",
       "    </tr>\n",
       "    <tr>\n",
       "      <th>1247</th>\n",
       "      <td>17449</td>\n",
       "      <td>F</td>\n",
       "      <td>2015-08-01</td>\n",
       "      <td>362.52</td>\n",
       "      <td>2015</td>\n",
       "    </tr>\n",
       "  </tbody>\n",
       "</table>\n",
       "<p>690 rows × 5 columns</p>\n",
       "</div>"
      ],
      "text/plain": [
       "      pt_id sex        dos   dx_code  year\n",
       "23    42834   M 2017-02-08  H35.3220  2017\n",
       "24    42834   M 2017-04-12  H35.3210  2017\n",
       "25    42834   M 2017-06-14  H35.3220  2017\n",
       "26    42834   M 2017-08-23  H35.3220  2017\n",
       "27    42834   M 2017-11-15  H35.3220  2017\n",
       "...     ...  ..        ...       ...   ...\n",
       "1243  18683   M 2015-06-22    362.52  2015\n",
       "1244  18683   M 2015-07-02    362.52  2015\n",
       "1245  17449   F 2015-07-12    362.52  2015\n",
       "1246  17449   F 2015-07-22    362.52  2015\n",
       "1247  17449   F 2015-08-01    362.52  2015\n",
       "\n",
       "[690 rows x 5 columns]"
      ]
     },
     "execution_count": 41,
     "metadata": {},
     "output_type": "execute_result"
    }
   ],
   "source": [
    "# pt_h_14to17 is the subgroup of patients diagnozed wAMD between 2014 and 2017 by joining patient data and diagnosis data on patient id\n",
    "pt_h = pd.merge(data_pt, h, on='pt_id', how='right')\n",
    "pt_h_14to17=pt_h[(pt_h['year']>=2014) & (pt_h['year']<=2017)]\n",
    "pt_h_14to17"
   ]
  },
  {
   "cell_type": "code",
   "execution_count": 42,
   "id": "short-heath",
   "metadata": {},
   "outputs": [
    {
     "name": "stdout",
     "output_type": "stream",
     "text": [
      "The numbe of patients having Wet Age-Related Macular Degeneration (wAMD) between 2014 and 2017, stratified by sex\n"
     ]
    },
    {
     "data": {
      "text/html": [
       "<div>\n",
       "<style scoped>\n",
       "    .dataframe tbody tr th:only-of-type {\n",
       "        vertical-align: middle;\n",
       "    }\n",
       "\n",
       "    .dataframe tbody tr th {\n",
       "        vertical-align: top;\n",
       "    }\n",
       "\n",
       "    .dataframe thead th {\n",
       "        text-align: right;\n",
       "    }\n",
       "</style>\n",
       "<table border=\"1\" class=\"dataframe\">\n",
       "  <thead>\n",
       "    <tr style=\"text-align: right;\">\n",
       "      <th></th>\n",
       "      <th>sex</th>\n",
       "      <th>order</th>\n",
       "    </tr>\n",
       "  </thead>\n",
       "  <tbody>\n",
       "    <tr>\n",
       "      <th>0</th>\n",
       "      <td>F</td>\n",
       "      <td>173</td>\n",
       "    </tr>\n",
       "    <tr>\n",
       "      <th>1</th>\n",
       "      <td>M</td>\n",
       "      <td>129</td>\n",
       "    </tr>\n",
       "    <tr>\n",
       "      <th>2</th>\n",
       "      <td>N</td>\n",
       "      <td>1</td>\n",
       "    </tr>\n",
       "  </tbody>\n",
       "</table>\n",
       "</div>"
      ],
      "text/plain": [
       "  sex  order\n",
       "0   F    173\n",
       "1   M    129\n",
       "2   N      1"
      ]
     },
     "execution_count": 42,
     "metadata": {},
     "output_type": "execute_result"
    }
   ],
   "source": [
    "print('The numbe of patients having Wet Age-Related Macular Degeneration (wAMD) between 2014 and 2017, stratified by sex')\n",
    "temp=pt_h_14to17.groupby(['sex'],as_index=False).agg(order=('pt_id', 'nunique'))\n",
    "temp"
   ]
  },
  {
   "cell_type": "markdown",
   "id": "dense-policy",
   "metadata": {},
   "source": [
    "> -------------------------------------------pyspark-------------------------------------------"
   ]
  },
  {
   "cell_type": "code",
   "execution_count": 97,
   "id": "sensitive-lodge",
   "metadata": {},
   "outputs": [
    {
     "name": "stdout",
     "output_type": "stream",
     "text": [
      "+-----+----------+-------+----+-----+------+--------------+\n",
      "|pt_id|       dos|dx_code|year|pt_id|   sex|unified_gender|\n",
      "+-----+----------+-------+----+-----+------+--------------+\n",
      "|14289|2017-12-04| H35.32|2017|14289|  Male|             M|\n",
      "|33971|2017-01-04| H35.32|2017|33971|  Male|             M|\n",
      "|14518|2017-07-06| H35.32|2017|14518|Female|             F|\n",
      "|39000|2016-02-04| H35.32|2016|39000|Female|             F|\n",
      "|28812|2014-08-16| 362.52|2014|28812|  Male|             M|\n",
      "+-----+----------+-------+----+-----+------+--------------+\n",
      "only showing top 5 rows\n",
      "\n"
     ]
    }
   ],
   "source": [
    "spdf_pt.registerTempTable('pt_table')\n",
    "sdf = sqlContext.sql('select *\\\n",
    "                    from dx_table d JOIN pt_table p ON d.pt_id=p.pt_id \\\n",
    "                    where (upper(dx_code) LIKE upper(\"%H35.32%\") OR dx_code LIKE \"%362.52%\" OR upper(dx_code) LIKE upper(\"%H3532%\")) \\\n",
    "                    AND year BETWEEN 2014 AND 2017')\n",
    "sdf.show(5)\n",
    "#spdf_pct.groupBy('mod').count().orderBy('count', ascending=False).show()"
   ]
  },
  {
   "cell_type": "code",
   "execution_count": 98,
   "id": "alert-relation",
   "metadata": {},
   "outputs": [
    {
     "name": "stdout",
     "output_type": "stream",
     "text": [
      "+--------------+--------------+\n",
      "|unified_gender|count(d.pt_id)|\n",
      "+--------------+--------------+\n",
      "|             F|           173|\n",
      "|             M|           129|\n",
      "|             N|             1|\n",
      "+--------------+--------------+\n",
      "\n"
     ]
    }
   ],
   "source": [
    "from pyspark.sql.functions import countDistinct\n",
    "sdf.groupby('unified_gender').agg(countDistinct('d.pt_id')).show()"
   ]
  },
  {
   "cell_type": "code",
   "execution_count": 45,
   "id": "other-planner",
   "metadata": {},
   "outputs": [
    {
     "data": {
      "image/png": "[encoded data removed]",
      "text/plain": [
       "<Figure size 432x288 with 1 Axes>"
      ]
     },
     "metadata": {
      "needs_background": "light"
     },
     "output_type": "display_data"
    }
   ],
   "source": [
    "plt.bar(temp['sex'], temp['order'], color=('red','steelblue','green'))\n",
    "plt.title('Patient with wAMD by Gender between 2014 and 2017')\n",
    "plt.ylabel('Numer of patient');\n",
    "plt.show();"
   ]
  },
  {
   "cell_type": "markdown",
   "id": "invisible-maple",
   "metadata": {},
   "source": [
    "### Q5. How would you determine if sex is associated with an increased risk of wAMD?\n",
    "\n",
    "The total number of wAMD patients and the non-WAMD patient are calculated from patient and diagnosis data, stratified by sex. We perform a Chi-Square test to check whether there is any relationship between **Gender** and **wAMD**. \n",
    "\n",
    "1. Define the hypothesis:\n",
    "* Null Hypothesis: two variables are independent.\n",
    "* Alternate Hypothesis: two variables are not independent.\n",
    "\n",
    "2. Built the contingency table "
   ]
  },
  {
   "cell_type": "code",
   "execution_count": 46,
   "id": "nearby-blame",
   "metadata": {},
   "outputs": [
    {
     "data": {
      "text/html": [
       "<div>\n",
       "<style scoped>\n",
       "    .dataframe tbody tr th:only-of-type {\n",
       "        vertical-align: middle;\n",
       "    }\n",
       "\n",
       "    .dataframe tbody tr th {\n",
       "        vertical-align: top;\n",
       "    }\n",
       "\n",
       "    .dataframe thead th {\n",
       "        text-align: right;\n",
       "    }\n",
       "</style>\n",
       "<table border=\"1\" class=\"dataframe\">\n",
       "  <thead>\n",
       "    <tr style=\"text-align: right;\">\n",
       "      <th></th>\n",
       "      <th>wAMD</th>\n",
       "      <th>non-wAMD</th>\n",
       "    </tr>\n",
       "    <tr>\n",
       "      <th>sex</th>\n",
       "      <th></th>\n",
       "      <th></th>\n",
       "    </tr>\n",
       "  </thead>\n",
       "  <tbody>\n",
       "    <tr>\n",
       "      <th>F</th>\n",
       "      <td>235</td>\n",
       "      <td>292</td>\n",
       "    </tr>\n",
       "    <tr>\n",
       "      <th>M</th>\n",
       "      <td>178</td>\n",
       "      <td>218</td>\n",
       "    </tr>\n",
       "  </tbody>\n",
       "</table>\n",
       "</div>"
      ],
      "text/plain": [
       "     wAMD  non-wAMD\n",
       "sex                \n",
       "F     235       292\n",
       "M     178       218"
      ]
     },
     "execution_count": 46,
     "metadata": {},
     "output_type": "execute_result"
    }
   ],
   "source": [
    "pid=set(h['pt_id'])\n",
    "pos=data_pt.set_index('pt_id').loc[pid, :].reset_index().groupby('sex').agg(cnt=('pt_id', 'nunique'))\n",
    "neg=data_pt.groupby('sex').agg(cnt=('pt_id', 'nunique'))-pos\n",
    "tab=pd.concat([pos.rename(columns={'cnt':'wAMD'}), neg.rename(columns={'cnt': 'non-wAMD'})], axis=1).iloc[:2,:]\n",
    "tab"
   ]
  },
  {
   "cell_type": "markdown",
   "id": "acceptable-craft",
   "metadata": {},
   "source": [
    "3. Calculate the Chi-square statistics"
   ]
  },
  {
   "cell_type": "code",
   "execution_count": 47,
   "id": "celtic-console",
   "metadata": {},
   "outputs": [
    {
     "name": "stdout",
     "output_type": "stream",
     "text": [
      "The p-value of Chi-square test is 0.9671158089335514\n"
     ]
    }
   ],
   "source": [
    "from scipy import stats\n",
    "chi2, pval, dof, expected = stats.chi2_contingency(observed=tab)\n",
    "print('The p-value of Chi-square test is {}'.format(pval))"
   ]
  },
  {
   "cell_type": "markdown",
   "id": "initial-promise",
   "metadata": {},
   "source": [
    "4. Results:\n",
    "\n",
    "With the currently available data, the association between sex and the risk of wAMD can be roughly calculated with Chi-square as shown above. Based on the p-value from the test, we'd accept the Null Hypothesis that there is no association between sex and the risk of wAMD.\n",
    "\n",
    "5. Discussions:\n",
    "\n",
    "However, such conclusion could be misleading for two reasons: \n",
    "* It didn’t take other confounding factors into account.\n",
    "* The sample may poorly represent the general population. \n",
    "\n",
    "To further estimate the association, random sampling in the general population and complete demographic data of the sample such as age, race, and medical history et al are necessary. Using supervised learning algorithms such as logistic regression, the association of individual parameters including sex with the risk of wAMD can be better evaluated."
   ]
  },
  {
   "cell_type": "markdown",
   "id": "confused-ethnic",
   "metadata": {},
   "source": [
    "### Q6. How many women diagnosed with wAMD between 2014-2017 also had an intravitreal injection during that time?"
   ]
  },
  {
   "cell_type": "markdown",
   "id": "usual-snowboard",
   "metadata": {},
   "source": [
    "#### Joining the subgroup of patients diagnosed with wAMD during 2014-2017 with procedure table on patient id and year"
   ]
  },
  {
   "cell_type": "markdown",
   "id": "planned-devon",
   "metadata": {},
   "source": [
    " > <span style=\"color:red\">-----------------------------------WRONG Answer in python---------------------------------------------</span>\n",
    " * NOTE: Using the JOIN ON two keys, pt_id and year filtered out those records in which the diagnosis and injection procedure did not occured in the same year. such as example below: \n",
    " > pt_id\tdos_x\tprocedure_code\tmod\tyear_x\tsex\tdos_y\tdx_code\tyear_y\n",
    " \n",
    " > 1234\t10698\t2017-05-08\t4177F\tNA\t2017\tF\t2014-10-07\t362.52\t2014"
   ]
  },
  {
   "cell_type": "code",
   "execution_count": 75,
   "id": "verified-supervision",
   "metadata": {},
   "outputs": [
    {
     "data": {
      "text/plain": [
       "(1563, 8)"
      ]
     },
     "execution_count": 75,
     "metadata": {},
     "output_type": "execute_result"
    },
    {
     "data": {
      "text/html": [
       "<div>\n",
       "<style scoped>\n",
       "    .dataframe tbody tr th:only-of-type {\n",
       "        vertical-align: middle;\n",
       "    }\n",
       "\n",
       "    .dataframe tbody tr th {\n",
       "        vertical-align: top;\n",
       "    }\n",
       "\n",
       "    .dataframe thead th {\n",
       "        text-align: right;\n",
       "    }\n",
       "</style>\n",
       "<table border=\"1\" class=\"dataframe\">\n",
       "  <thead>\n",
       "    <tr style=\"text-align: right;\">\n",
       "      <th></th>\n",
       "      <th>pt_id</th>\n",
       "      <th>dos_x</th>\n",
       "      <th>procedure_code</th>\n",
       "      <th>mod</th>\n",
       "      <th>year</th>\n",
       "      <th>sex</th>\n",
       "      <th>dos_y</th>\n",
       "      <th>dx_code</th>\n",
       "    </tr>\n",
       "  </thead>\n",
       "  <tbody>\n",
       "    <tr>\n",
       "      <th>247</th>\n",
       "      <td>10534</td>\n",
       "      <td>2014-11-20</td>\n",
       "      <td>2022F</td>\n",
       "      <td>NA</td>\n",
       "      <td>2014</td>\n",
       "      <td>F</td>\n",
       "      <td>2014-11-20</td>\n",
       "      <td>362.52</td>\n",
       "    </tr>\n",
       "    <tr>\n",
       "      <th>256</th>\n",
       "      <td>10698</td>\n",
       "      <td>2014-05-18</td>\n",
       "      <td>67228</td>\n",
       "      <td>NA</td>\n",
       "      <td>2014</td>\n",
       "      <td>F</td>\n",
       "      <td>2014-10-07</td>\n",
       "      <td>362.52</td>\n",
       "    </tr>\n",
       "    <tr>\n",
       "      <th>257</th>\n",
       "      <td>10698</td>\n",
       "      <td>2014-10-07</td>\n",
       "      <td>G8427</td>\n",
       "      <td>NA</td>\n",
       "      <td>2014</td>\n",
       "      <td>F</td>\n",
       "      <td>2014-10-07</td>\n",
       "      <td>362.52</td>\n",
       "    </tr>\n",
       "    <tr>\n",
       "      <th>259</th>\n",
       "      <td>11250</td>\n",
       "      <td>2014-11-20</td>\n",
       "      <td>2024F</td>\n",
       "      <td>NA</td>\n",
       "      <td>2014</td>\n",
       "      <td>F</td>\n",
       "      <td>2014-11-20</td>\n",
       "      <td>362.52</td>\n",
       "    </tr>\n",
       "    <tr>\n",
       "      <th>260</th>\n",
       "      <td>11335</td>\n",
       "      <td>2015-06-02</td>\n",
       "      <td>1036F</td>\n",
       "      <td>NA</td>\n",
       "      <td>2015</td>\n",
       "      <td>F</td>\n",
       "      <td>2015-06-02</td>\n",
       "      <td>362.52</td>\n",
       "    </tr>\n",
       "    <tr>\n",
       "      <th>261</th>\n",
       "      <td>11468</td>\n",
       "      <td>2016-12-20</td>\n",
       "      <td>92136</td>\n",
       "      <td>TC</td>\n",
       "      <td>2016</td>\n",
       "      <td>F</td>\n",
       "      <td>2016-06-07</td>\n",
       "      <td>H35.32</td>\n",
       "    </tr>\n",
       "    <tr>\n",
       "      <th>262</th>\n",
       "      <td>11468</td>\n",
       "      <td>2016-11-09</td>\n",
       "      <td>92226</td>\n",
       "      <td>RT</td>\n",
       "      <td>2016</td>\n",
       "      <td>F</td>\n",
       "      <td>2016-06-07</td>\n",
       "      <td>H35.32</td>\n",
       "    </tr>\n",
       "    <tr>\n",
       "      <th>263</th>\n",
       "      <td>11468</td>\n",
       "      <td>2016-09-20</td>\n",
       "      <td>3072F</td>\n",
       "      <td>NA</td>\n",
       "      <td>2016</td>\n",
       "      <td>F</td>\n",
       "      <td>2016-06-07</td>\n",
       "      <td>H35.32</td>\n",
       "    </tr>\n",
       "    <tr>\n",
       "      <th>264</th>\n",
       "      <td>11468</td>\n",
       "      <td>2016-09-01</td>\n",
       "      <td>2024F</td>\n",
       "      <td>NA</td>\n",
       "      <td>2016</td>\n",
       "      <td>F</td>\n",
       "      <td>2016-06-07</td>\n",
       "      <td>H35.32</td>\n",
       "    </tr>\n",
       "    <tr>\n",
       "      <th>265</th>\n",
       "      <td>11468</td>\n",
       "      <td>2016-07-13</td>\n",
       "      <td>92134</td>\n",
       "      <td>NA</td>\n",
       "      <td>2016</td>\n",
       "      <td>F</td>\n",
       "      <td>2016-06-07</td>\n",
       "      <td>H35.32</td>\n",
       "    </tr>\n",
       "  </tbody>\n",
       "</table>\n",
       "</div>"
      ],
      "text/plain": [
       "     pt_id      dos_x procedure_code mod  year sex      dos_y dx_code\n",
       "247  10534 2014-11-20          2022F  NA  2014   F 2014-11-20  362.52\n",
       "256  10698 2014-05-18          67228  NA  2014   F 2014-10-07  362.52\n",
       "257  10698 2014-10-07          G8427  NA  2014   F 2014-10-07  362.52\n",
       "259  11250 2014-11-20          2024F  NA  2014   F 2014-11-20  362.52\n",
       "260  11335 2015-06-02          1036F  NA  2015   F 2015-06-02  362.52\n",
       "261  11468 2016-12-20          92136  TC  2016   F 2016-06-07  H35.32\n",
       "262  11468 2016-11-09          92226  RT  2016   F 2016-06-07  H35.32\n",
       "263  11468 2016-09-20          3072F  NA  2016   F 2016-06-07  H35.32\n",
       "264  11468 2016-09-01          2024F  NA  2016   F 2016-06-07  H35.32\n",
       "265  11468 2016-07-13          92134  NA  2016   F 2016-06-07  H35.32"
      ]
     },
     "execution_count": 75,
     "metadata": {},
     "output_type": "execute_result"
    }
   ],
   "source": [
    "#pt_h_14to17 is the group having Wet Age-Related Macular Degeneration (wAMD) between 2014 and 2017,\n",
    "pt_h_pct_old = pd.merge(data_pct, pt_h_14to17, on=['pt_id','year'], how='inner')\n",
    "pt_h_pct_F_old=pt_h_pct_old[pt_h_pct_old['sex']=='F']\n",
    "pt_h_pct_F_old.shape\n",
    "pt_h_pct_F_old.head(10)"
   ]
  },
  {
   "cell_type": "markdown",
   "id": "lesser-spanking",
   "metadata": {},
   "source": [
    " > -----------------------------------Right Answer in python---------------------------------------------"
   ]
  },
  {
   "cell_type": "code",
   "execution_count": 76,
   "id": "educated-duncan",
   "metadata": {},
   "outputs": [
    {
     "data": {
      "text/plain": [
       "(3037, 9)"
      ]
     },
     "execution_count": 76,
     "metadata": {},
     "output_type": "execute_result"
    },
    {
     "data": {
      "text/html": [
       "<div>\n",
       "<style scoped>\n",
       "    .dataframe tbody tr th:only-of-type {\n",
       "        vertical-align: middle;\n",
       "    }\n",
       "\n",
       "    .dataframe tbody tr th {\n",
       "        vertical-align: top;\n",
       "    }\n",
       "\n",
       "    .dataframe thead th {\n",
       "        text-align: right;\n",
       "    }\n",
       "</style>\n",
       "<table border=\"1\" class=\"dataframe\">\n",
       "  <thead>\n",
       "    <tr style=\"text-align: right;\">\n",
       "      <th></th>\n",
       "      <th>pt_id</th>\n",
       "      <th>dos_x</th>\n",
       "      <th>procedure_code</th>\n",
       "      <th>mod</th>\n",
       "      <th>year_x</th>\n",
       "      <th>sex</th>\n",
       "      <th>dos_y</th>\n",
       "      <th>dx_code</th>\n",
       "      <th>year_y</th>\n",
       "    </tr>\n",
       "  </thead>\n",
       "  <tbody>\n",
       "    <tr>\n",
       "      <th>1205</th>\n",
       "      <td>10534</td>\n",
       "      <td>2014-11-20</td>\n",
       "      <td>2022F</td>\n",
       "      <td>NA</td>\n",
       "      <td>2014</td>\n",
       "      <td>F</td>\n",
       "      <td>2014-11-20</td>\n",
       "      <td>362.52</td>\n",
       "      <td>2014</td>\n",
       "    </tr>\n",
       "    <tr>\n",
       "      <th>1232</th>\n",
       "      <td>10698</td>\n",
       "      <td>2014-05-18</td>\n",
       "      <td>67228</td>\n",
       "      <td>NA</td>\n",
       "      <td>2014</td>\n",
       "      <td>F</td>\n",
       "      <td>2014-10-07</td>\n",
       "      <td>362.52</td>\n",
       "      <td>2014</td>\n",
       "    </tr>\n",
       "    <tr>\n",
       "      <th>1233</th>\n",
       "      <td>10698</td>\n",
       "      <td>2014-10-07</td>\n",
       "      <td>G8427</td>\n",
       "      <td>NA</td>\n",
       "      <td>2014</td>\n",
       "      <td>F</td>\n",
       "      <td>2014-10-07</td>\n",
       "      <td>362.52</td>\n",
       "      <td>2014</td>\n",
       "    </tr>\n",
       "    <tr>\n",
       "      <th>1234</th>\n",
       "      <td>10698</td>\n",
       "      <td>2017-05-08</td>\n",
       "      <td>4177F</td>\n",
       "      <td>NA</td>\n",
       "      <td>2017</td>\n",
       "      <td>F</td>\n",
       "      <td>2014-10-07</td>\n",
       "      <td>362.52</td>\n",
       "      <td>2014</td>\n",
       "    </tr>\n",
       "    <tr>\n",
       "      <th>1236</th>\n",
       "      <td>11250</td>\n",
       "      <td>2014-11-20</td>\n",
       "      <td>2024F</td>\n",
       "      <td>NA</td>\n",
       "      <td>2014</td>\n",
       "      <td>F</td>\n",
       "      <td>2014-11-20</td>\n",
       "      <td>362.52</td>\n",
       "      <td>2014</td>\n",
       "    </tr>\n",
       "    <tr>\n",
       "      <th>1237</th>\n",
       "      <td>11335</td>\n",
       "      <td>2015-06-02</td>\n",
       "      <td>1036F</td>\n",
       "      <td>NA</td>\n",
       "      <td>2015</td>\n",
       "      <td>F</td>\n",
       "      <td>2015-06-02</td>\n",
       "      <td>362.52</td>\n",
       "      <td>2015</td>\n",
       "    </tr>\n",
       "    <tr>\n",
       "      <th>1239</th>\n",
       "      <td>11335</td>\n",
       "      <td>2017-07-12</td>\n",
       "      <td>99213</td>\n",
       "      <td>NA</td>\n",
       "      <td>2017</td>\n",
       "      <td>F</td>\n",
       "      <td>2015-06-02</td>\n",
       "      <td>362.52</td>\n",
       "      <td>2015</td>\n",
       "    </tr>\n",
       "    <tr>\n",
       "      <th>1248</th>\n",
       "      <td>11468</td>\n",
       "      <td>2017-10-10</td>\n",
       "      <td>92012</td>\n",
       "      <td>24</td>\n",
       "      <td>2017</td>\n",
       "      <td>F</td>\n",
       "      <td>2015-11-18</td>\n",
       "      <td>H35.32</td>\n",
       "      <td>2015</td>\n",
       "    </tr>\n",
       "    <tr>\n",
       "      <th>1249</th>\n",
       "      <td>11468</td>\n",
       "      <td>2017-10-10</td>\n",
       "      <td>92012</td>\n",
       "      <td>24</td>\n",
       "      <td>2017</td>\n",
       "      <td>F</td>\n",
       "      <td>2016-06-07</td>\n",
       "      <td>H35.32</td>\n",
       "      <td>2016</td>\n",
       "    </tr>\n",
       "    <tr>\n",
       "      <th>1250</th>\n",
       "      <td>11468</td>\n",
       "      <td>2017-07-11</td>\n",
       "      <td>92134</td>\n",
       "      <td>NA</td>\n",
       "      <td>2017</td>\n",
       "      <td>F</td>\n",
       "      <td>2015-11-18</td>\n",
       "      <td>H35.32</td>\n",
       "      <td>2015</td>\n",
       "    </tr>\n",
       "  </tbody>\n",
       "</table>\n",
       "</div>"
      ],
      "text/plain": [
       "      pt_id      dos_x procedure_code mod  year_x sex      dos_y dx_code  \\\n",
       "1205  10534 2014-11-20          2022F  NA    2014   F 2014-11-20  362.52   \n",
       "1232  10698 2014-05-18          67228  NA    2014   F 2014-10-07  362.52   \n",
       "1233  10698 2014-10-07          G8427  NA    2014   F 2014-10-07  362.52   \n",
       "1234  10698 2017-05-08          4177F  NA    2017   F 2014-10-07  362.52   \n",
       "1236  11250 2014-11-20          2024F  NA    2014   F 2014-11-20  362.52   \n",
       "1237  11335 2015-06-02          1036F  NA    2015   F 2015-06-02  362.52   \n",
       "1239  11335 2017-07-12          99213  NA    2017   F 2015-06-02  362.52   \n",
       "1248  11468 2017-10-10          92012  24    2017   F 2015-11-18  H35.32   \n",
       "1249  11468 2017-10-10          92012  24    2017   F 2016-06-07  H35.32   \n",
       "1250  11468 2017-07-11          92134  NA    2017   F 2015-11-18  H35.32   \n",
       "\n",
       "      year_y  \n",
       "1205    2014  \n",
       "1232    2014  \n",
       "1233    2014  \n",
       "1234    2014  \n",
       "1236    2014  \n",
       "1237    2015  \n",
       "1239    2015  \n",
       "1248    2015  \n",
       "1249    2016  \n",
       "1250    2015  "
      ]
     },
     "execution_count": 76,
     "metadata": {},
     "output_type": "execute_result"
    }
   ],
   "source": [
    "#pt_h_14to17 is the group having Wet Age-Related Macular Degeneration (wAMD) between 2014 and 2017,\n",
    "pt_h_pct = pd.merge(data_pct, pt_h_14to17, on=['pt_id'], how='inner')\n",
    "pt_h_pct_F=pt_h_pct[(pt_h_pct['sex']=='F') & (pt_h_pct['year_x']>=2014) & (pt_h_pct['year_x']<=2017)]\n",
    "pt_h_pct_F.shape\n",
    "pt_h_pct_F.head(10)"
   ]
  },
  {
   "cell_type": "markdown",
   "id": "unavailable-arrangement",
   "metadata": {},
   "source": [
    "#### The procedure code of intravitreal injection is **67028**"
   ]
  },
  {
   "cell_type": "code",
   "execution_count": 49,
   "id": "vital-lindsay",
   "metadata": {},
   "outputs": [
    {
     "name": "stdout",
     "output_type": "stream",
     "text": [
      "The number of women diagnosed with wAMD between 2014-2017 also had an intravitreal injection during the time is: 13\n"
     ]
    }
   ],
   "source": [
    "#set(pt_h_pct_F[pt_h_pct_F['procedure_code'].isin(['67028'])]['pt_id'])\n",
    "print('The number of women diagnosed with wAMD between 2014-2017 also had an intravitreal injection during the time is: {}'.\\\n",
    "      format(len(set(pt_h_pct_F[pt_h_pct_F['procedure_code'].isin(['67028'])]['pt_id']))))"
   ]
  },
  {
   "cell_type": "markdown",
   "id": "stretch-rendering",
   "metadata": {},
   "source": [
    "> ----------------------------------------------pyspark----------------------------------------------"
   ]
  },
  {
   "cell_type": "code",
   "execution_count": 99,
   "id": "talented-folks",
   "metadata": {},
   "outputs": [
    {
     "name": "stdout",
     "output_type": "stream",
     "text": [
      "+-----+----------+--------+----+-----+------+--------------+-----+--------+--------------+----+----+\n",
      "|pt_id|       dos| dx_code|year|pt_id|   sex|unified_gender|pt_id|     dos|procedure_code| mod|year|\n",
      "+-----+----------+--------+----+-----+------+--------------+-----+--------+--------------+----+----+\n",
      "|49241|2014-10-27|  362.52|2014|49241|Female|             F|49241| 2/20/17|         67028|  RT|2017|\n",
      "|49241|2014-10-27|  362.52|2014|49241|Female|             F|49241|10/27/14|         67028|  RT|2014|\n",
      "|49241|2014-10-27|  362.52|2014|49241|Female|             F|49241|12/12/17|         67028|  RT|2017|\n",
      "|49241|2014-10-27|  362.52|2014|49241|Female|             F|49241|  9/8/17|         67028|  RT|2017|\n",
      "|49241|2014-10-27|  362.52|2014|49241|Female|             F|49241| 10/6/15|         67028|  RT|2015|\n",
      "|49241|2014-10-27|  362.52|2014|49241|Female|             F|49241| 10/3/16|         67028|  RT|2016|\n",
      "|33052|2016-02-17|H35.3292|2016|33052|Female|             F|33052| 3/23/16|         67028|null|2016|\n",
      "|33052|2016-02-17|H35.3292|2016|33052|Female|             F|33052| 12/7/15|         67028|null|2015|\n",
      "|33052|2016-02-17|H35.3292|2016|33052|Female|             F|33052| 2/17/16|         67028|null|2016|\n",
      "|33052|2016-02-17|H35.3292|2016|33052|Female|             F|33052| 4/20/16|         67028|null|2016|\n",
      "|33052|2016-02-17|H35.3292|2016|33052|Female|             F|33052|  1/6/16|         67028|null|2016|\n",
      "|33052|2015-12-07|H35.3291|2015|33052|Female|             F|33052| 3/23/16|         67028|null|2016|\n",
      "|33052|2015-12-07|H35.3291|2015|33052|Female|             F|33052| 12/7/15|         67028|null|2015|\n",
      "|33052|2015-12-07|H35.3291|2015|33052|Female|             F|33052| 2/17/16|         67028|null|2016|\n",
      "|33052|2015-12-07|H35.3291|2015|33052|Female|             F|33052| 4/20/16|         67028|null|2016|\n",
      "|33052|2015-12-07|H35.3291|2015|33052|Female|             F|33052|  1/6/16|         67028|null|2016|\n",
      "|38768|2017-10-06| H35.321|2017|38768|     f|             F|38768| 8/31/16|         67028|  RT|2016|\n",
      "|38768|2017-10-06| H35.321|2017|38768|     f|             F|38768| 6/28/17|         67028|  RT|2017|\n",
      "|38768|2017-10-06| H35.321|2017|38768|     f|             F|38768|10/18/16|         67028|  LT|2016|\n",
      "|38768|2017-10-06| H35.321|2017|38768|     f|             F|38768| 5/24/17|         67028|  RT|2017|\n",
      "+-----+----------+--------+----+-----+------+--------------+-----+--------+--------------+----+----+\n",
      "only showing top 20 rows\n",
      "\n",
      "+--------------+--------------+\n",
      "|unified_gender|count(d.pt_id)|\n",
      "+--------------+--------------+\n",
      "|             F|            13|\n",
      "+--------------+--------------+\n",
      "\n"
     ]
    }
   ],
   "source": [
    "spdf_pct.registerTempTable('pct_table')\n",
    "\n",
    "sdf_f = sqlContext.sql('select *\\\n",
    "                    from dx_table d JOIN pt_table p ON d.pt_id=p.pt_id JOIN pct_table pc ON p.pt_id=pc.pt_id \\\n",
    "                    where (upper(dx_code) LIKE upper(\"%H35.32%\") OR dx_code LIKE \"%362.52%\" OR upper(dx_code) LIKE upper(\"%H3532%\")) \\\n",
    "                    AND d.year BETWEEN 2014 AND 2017 \\\n",
    "                    AND pc.year BETWEEN 2014 AND 2017 AND pc.procedure_code LIKE \"%67028%\" \\\n",
    "                    AND unified_gender LIKE \"F\" \\\n",
    "                    ')\n",
    "sdf_f.show()\n",
    "sdf_f.groupBy('unified_gender').agg(countDistinct('d.pt_id')).show()"
   ]
  },
  {
   "cell_type": "raw",
   "id": "restricted-vietnamese",
   "metadata": {},
   "source": [
    "sdf_f.printSchema()"
   ]
  },
  {
   "cell_type": "markdown",
   "id": "thrown-rochester",
   "metadata": {},
   "source": [
    "### Q7. What is the most common type of intravitreal injection in women diagnosed with wAMD between 2014-2017?"
   ]
  },
  {
   "cell_type": "code",
   "execution_count": 51,
   "id": "liberal-candidate",
   "metadata": {},
   "outputs": [
    {
     "data": {
      "text/plain": [
       "RT    196\n",
       "NA    193\n",
       "LT     40\n",
       "Name: mod, dtype: int64"
      ]
     },
     "execution_count": 51,
     "metadata": {},
     "output_type": "execute_result"
    }
   ],
   "source": [
    "pt_h_pct_F[pt_h_pct_F['procedure_code'].isin(['67028'])]['mod'].value_counts()"
   ]
  },
  {
   "cell_type": "markdown",
   "id": "committed-astronomy",
   "metadata": {},
   "source": [
    " > -----------------------------------pyspark---------------------------------------------"
   ]
  },
  {
   "cell_type": "code",
   "execution_count": 100,
   "id": "trying-julian",
   "metadata": {},
   "outputs": [
    {
     "name": "stdout",
     "output_type": "stream",
     "text": [
      "+----+-------------+\n",
      "| mod|cnt_injection|\n",
      "+----+-------------+\n",
      "|  LT|           40|\n",
      "|null|          193|\n",
      "|  RT|          202|\n",
      "+----+-------------+\n",
      "\n"
     ]
    }
   ],
   "source": [
    "sdf_f.groupBy('mod').agg(count('pc.dos').alias('cnt_injection')).orderBy('cnt_injection').show()"
   ]
  },
  {
   "cell_type": "markdown",
   "id": "noted-conspiracy",
   "metadata": {},
   "source": [
    "* The most common type of intravitreal injection in women diagnosed with wAMD between 2014-2017 is RT"
   ]
  },
  {
   "cell_type": "markdown",
   "id": "athletic-health",
   "metadata": {},
   "source": [
    "### Q8. Stratify the type and count of intravitreal injections by eye laterality (right, left, unspecified) in 2014-2017 for patients with wAMD by year."
   ]
  },
  {
   "cell_type": "code",
   "execution_count": 53,
   "id": "rocky-dietary",
   "metadata": {},
   "outputs": [
    {
     "data": {
      "text/plain": [
       "array(['NA', 'RT', 'LT', '18944008', '50'], dtype=object)"
      ]
     },
     "execution_count": 53,
     "metadata": {},
     "output_type": "execute_result"
    }
   ],
   "source": [
    "pid=set(h['pt_id'])\n",
    "pos_pct=data_pct.set_index('pt_id').loc[pid, :].reset_index()\n",
    "tmp=pos_pct[(pos_pct['year']>=2014) & (pos_pct['year']<=2017) & (pos_pct['procedure_code'].isin(['67028']))].copy()\n",
    "#tmp=pos_pct[(pos_pct['year']>=2014) & (pos_pct['year']<=2017)].copy()\n",
    "tmp['mod'].unique()\n",
    "#df1=df0[df0['procedure_code'].isin(['67028'])].copy()"
   ]
  },
  {
   "cell_type": "raw",
   "id": "welsh-mount",
   "metadata": {},
   "source": [
    "tmp.head(10)\n",
    "tmp.shape"
   ]
  },
  {
   "cell_type": "markdown",
   "id": "danish-commerce",
   "metadata": {},
   "source": [
    "* '18944008' is the Right eye structure (body structure) in SNOMED-CT. \n",
    "* '50' indicates bilaterial injections, including right and left"
   ]
  },
  {
   "cell_type": "code",
   "execution_count": 54,
   "id": "christian-cedar",
   "metadata": {},
   "outputs": [
    {
     "data": {
      "text/html": [
       "<div>\n",
       "<style scoped>\n",
       "    .dataframe tbody tr th:only-of-type {\n",
       "        vertical-align: middle;\n",
       "    }\n",
       "\n",
       "    .dataframe tbody tr th {\n",
       "        vertical-align: top;\n",
       "    }\n",
       "\n",
       "    .dataframe thead th {\n",
       "        text-align: right;\n",
       "    }\n",
       "</style>\n",
       "<table border=\"1\" class=\"dataframe\">\n",
       "  <thead>\n",
       "    <tr style=\"text-align: right;\">\n",
       "      <th></th>\n",
       "      <th></th>\n",
       "      <th>dos</th>\n",
       "    </tr>\n",
       "    <tr>\n",
       "      <th>year</th>\n",
       "      <th>mod</th>\n",
       "      <th></th>\n",
       "    </tr>\n",
       "  </thead>\n",
       "  <tbody>\n",
       "    <tr>\n",
       "      <th>2014</th>\n",
       "      <th>RT</th>\n",
       "      <td>1</td>\n",
       "    </tr>\n",
       "    <tr>\n",
       "      <th rowspan=\"2\" valign=\"top\">2015</th>\n",
       "      <th>NA</th>\n",
       "      <td>11</td>\n",
       "    </tr>\n",
       "    <tr>\n",
       "      <th>RT</th>\n",
       "      <td>1</td>\n",
       "    </tr>\n",
       "    <tr>\n",
       "      <th rowspan=\"4\" valign=\"top\">2016</th>\n",
       "      <th>50</th>\n",
       "      <td>2</td>\n",
       "    </tr>\n",
       "    <tr>\n",
       "      <th>LT</th>\n",
       "      <td>2</td>\n",
       "    </tr>\n",
       "    <tr>\n",
       "      <th>NA</th>\n",
       "      <td>42</td>\n",
       "    </tr>\n",
       "    <tr>\n",
       "      <th>RT</th>\n",
       "      <td>7</td>\n",
       "    </tr>\n",
       "    <tr>\n",
       "      <th rowspan=\"3\" valign=\"top\">2017</th>\n",
       "      <th>LT</th>\n",
       "      <td>29</td>\n",
       "    </tr>\n",
       "    <tr>\n",
       "      <th>NA</th>\n",
       "      <td>30</td>\n",
       "    </tr>\n",
       "    <tr>\n",
       "      <th>RT</th>\n",
       "      <td>24</td>\n",
       "    </tr>\n",
       "  </tbody>\n",
       "</table>\n",
       "</div>"
      ],
      "text/plain": [
       "          dos\n",
       "year mod     \n",
       "2014 RT     1\n",
       "2015 NA    11\n",
       "     RT     1\n",
       "2016 50     2\n",
       "     LT     2\n",
       "     NA    42\n",
       "     RT     7\n",
       "2017 LT    29\n",
       "     NA    30\n",
       "     RT    24"
      ]
     },
     "execution_count": 54,
     "metadata": {},
     "output_type": "execute_result"
    }
   ],
   "source": [
    "tmp['mod']=tmp['mod'].map(lambda x: x.replace('18944008','RT'))\n",
    "columns_to_show =['dos']\n",
    "pd.pivot_table(tmp, index = ['year', 'mod'], values=columns_to_show, aggfunc='count')"
   ]
  },
  {
   "cell_type": "markdown",
   "id": "hollywood-fortune",
   "metadata": {},
   "source": [
    " > -----------------------------------pyspark---------------------------------------------"
   ]
  },
  {
   "cell_type": "code",
   "execution_count": 107,
   "id": "objective-september",
   "metadata": {},
   "outputs": [
    {
     "name": "stdout",
     "output_type": "stream",
     "text": [
      "+-----+--------+--------------+--------+----+\n",
      "|pt_id|     dos|procedure_code|     mod|year|\n",
      "+-----+--------+--------------+--------+----+\n",
      "|14795| 1/25/17|         67028|    null|2017|\n",
      "|14795|10/12/16|         67028|    null|2016|\n",
      "|33052|  1/6/16|         67028|    null|2016|\n",
      "|15659| 1/19/17|         67028|    null|2017|\n",
      "|17546| 9/19/16|         67028|    null|2016|\n",
      "|14795| 4/12/17|         67028|    null|2017|\n",
      "|38768| 10/6/17|         67028|      RT|2017|\n",
      "|26175|10/26/17|         67028|      RT|2017|\n",
      "|34524|  5/8/17|         67028|      LT|2017|\n",
      "|42834|11/15/17|         67028|      LT|2017|\n",
      "|15659|  7/7/16|         67028|    null|2016|\n",
      "|43501|  9/7/17|         67028|      LT|2017|\n",
      "|14795|  5/4/15|         67028|    null|2015|\n",
      "|14795| 12/7/16|         67028|    null|2016|\n",
      "|42834| 6/14/17|         67028|      LT|2017|\n",
      "|43501| 4/14/16|         67028|    null|2016|\n",
      "|43501| 2/16/17|         67028|    null|2017|\n",
      "|42139|10/24/16|         67028|    null|2016|\n",
      "|43502| 4/14/16|         67028|18944008|2016|\n",
      "|10482|12/22/17|         67028|      LT|2017|\n",
      "+-----+--------+--------------+--------+----+\n",
      "only showing top 20 rows\n",
      "\n",
      "root\n",
      " |-- pt_id: integer (nullable = true)\n",
      " |-- dos: string (nullable = true)\n",
      " |-- procedure_code: string (nullable = true)\n",
      " |-- mod: string (nullable = true)\n",
      " |-- year: integer (nullable = true)\n",
      "\n",
      "(149, 5)\n"
     ]
    }
   ],
   "source": [
    "sdf_1417_new = sqlContext.sql('SELECT * \\\n",
    "                    FROM pct_table pc \\\n",
    "                    WHERE pc.year BETWEEN 2014 AND 2017 AND pc.procedure_code LIKE \"%67028%\" \\\n",
    "                    AND pc.pt_id in (SELECT pt_id \\\n",
    "                    FROM dx_table \\\n",
    "                    WHERE (upper(dx_code) LIKE upper(\"%H35.32%\") OR dx_code LIKE \"%362.52%\" OR upper(dx_code) LIKE upper(\"%H3532%\") )) \\\n",
    "                    ')\n",
    "sdf_1417_new.show()\n",
    "sdf_1417_new.printSchema()\n",
    "print((sdf_1417_new.count(), len(sdf_1417_new.columns)))"
   ]
  },
  {
   "cell_type": "code",
   "execution_count": 56,
   "id": "micro-pharmacy",
   "metadata": {},
   "outputs": [
    {
     "name": "stdout",
     "output_type": "stream",
     "text": [
      "+----+--------+-------------+\n",
      "|year|     mod|count(pc.dos)|\n",
      "+----+--------+-------------+\n",
      "|2014|      RT|            1|\n",
      "|2015|      RT|            1|\n",
      "|2015|    null|           11|\n",
      "|2016|18944008|            5|\n",
      "|2016|      LT|            2|\n",
      "|2016|      50|            2|\n",
      "|2016|    null|           42|\n",
      "|2016|      RT|            2|\n",
      "|2017|      LT|           29|\n",
      "|2017|    null|           30|\n",
      "|2017|      RT|           24|\n",
      "+----+--------+-------------+\n",
      "\n"
     ]
    }
   ],
   "source": [
    "sdf_1417_new.groupBy('pc.year', 'mod').agg(count('pc.dos')).orderBy('pc.year').show()"
   ]
  },
  {
   "cell_type": "markdown",
   "id": "involved-screen",
   "metadata": {},
   "source": [
    " > <span style=\"color:red\">-----------------------------------WRONG Answer in pyspark---------------------------------------------</span>\n",
    " \n",
    " * NOTE: Using JOIN ON patient ID, instead of finding the patient subgroup, resulted in duplication of procedure records for patient having multiple diagnosis, see the example as demostrated below. "
   ]
  },
  {
   "cell_type": "code",
   "execution_count": 93,
   "id": "prompt-formation",
   "metadata": {},
   "outputs": [
    {
     "name": "stdout",
     "output_type": "stream",
     "text": [
      "+------+-----+---+--------------+--------+--------+----------+----+\n",
      "|pc_pid|pc_yr|mod|procedure_code|  pc_dos| dx_code|     d_dos|d_yr|\n",
      "+------+-----+---+--------------+--------+--------+----------+----+\n",
      "| 49241| 2017| RT|         67028| 2/20/17|H35.3220|2019-04-18|2019|\n",
      "| 49241| 2014| RT|         67028|10/27/14|H35.3220|2019-04-18|2019|\n",
      "| 49241| 2017| RT|         67028|12/12/17|H35.3220|2019-04-18|2019|\n",
      "| 49241| 2017| RT|         67028|  9/8/17|H35.3220|2019-04-18|2019|\n",
      "| 49241| 2015| RT|         67028| 10/6/15|H35.3220|2019-04-18|2019|\n",
      "| 49241| 2016| RT|         67028| 10/3/16|H35.3220|2019-04-18|2019|\n",
      "| 49241| 2017| RT|         67028| 2/20/17|  362.52|2014-10-27|2014|\n",
      "| 49241| 2014| RT|         67028|10/27/14|  362.52|2014-10-27|2014|\n",
      "| 49241| 2017| RT|         67028|12/12/17|  362.52|2014-10-27|2014|\n",
      "| 49241| 2017| RT|         67028|  9/8/17|  362.52|2014-10-27|2014|\n",
      "| 49241| 2015| RT|         67028| 10/6/15|  362.52|2014-10-27|2014|\n",
      "| 49241| 2016| RT|         67028| 10/3/16|  362.52|2014-10-27|2014|\n",
      "| 14206| 2016| LT|         67028|10/25/16|H35.3220|2018-03-28|2018|\n",
      "| 14206| 2017| LT|         67028| 4/28/17|H35.3220|2018-03-28|2018|\n",
      "| 14206| 2017| LT|         67028|11/27/17|H35.3220|2018-03-28|2018|\n",
      "| 14206| 2017| LT|         67028| 9/26/17|H35.3220|2018-03-28|2018|\n",
      "| 14206| 2017| LT|         67028| 7/24/17|H35.3220|2018-03-28|2018|\n",
      "| 14206| 2016| 50|         67028|  8/5/16|H35.3220|2018-03-28|2018|\n",
      "| 14206| 2016| 50|         67028| 10/6/16|H35.3220|2018-03-28|2018|\n",
      "| 14206| 2017| LT|         67028| 1/27/17|H35.3220|2018-03-28|2018|\n",
      "+------+-----+---+--------------+--------+--------+----------+----+\n",
      "only showing top 20 rows\n",
      "\n",
      "(2581, 8)\n",
      "+-----+--------+-------------+\n",
      "|pc_yr|     mod|count(pc_dos)|\n",
      "+-----+--------+-------------+\n",
      "| 2014|      RT|           10|\n",
      "| 2015|      RT|           10|\n",
      "| 2015|    null|          293|\n",
      "| 2016|      RT|           34|\n",
      "| 2016|    null|          701|\n",
      "| 2016|      LT|           38|\n",
      "| 2016|      50|           28|\n",
      "| 2016|18944008|           30|\n",
      "| 2017|      LT|          561|\n",
      "| 2017|    null|          497|\n",
      "| 2017|      RT|          379|\n",
      "+-----+--------+-------------+\n",
      "\n"
     ]
    }
   ],
   "source": [
    "sdf_1417_od = sqlContext.sql('select pc.pt_id as pc_pid, pc.year as pc_yr, mod, procedure_code, pc.dos as pc_dos, dx_code, d.dos as d_dos, d.year as d_yr \\\n",
    "                    from pct_table pc JOIN dx_table d ON d.pt_id=pc.pt_id \\\n",
    "                    where (upper(dx_code) LIKE upper(\"%H35.32%\") OR dx_code LIKE \"%362.52%\") \\\n",
    "                    AND pc.year BETWEEN 2014 AND 2017 \\\n",
    "                    AND pc.procedure_code LIKE \"%67028%\" \\\n",
    "                    ')\n",
    "#sdf_1417_od.show()\n",
    "print((sdf_1417_od.count(), len(sdf_1417_od.columns)))\n",
    "sdf_1417_od.groupBy('pc_yr', 'mod').agg(count('pc_dos')).orderBy('pc_yr').show()"
   ]
  },
  {
   "cell_type": "code",
   "execution_count": 94,
   "id": "current-pencil",
   "metadata": {},
   "outputs": [
    {
     "name": "stdout",
     "output_type": "stream",
     "text": [
      "+-----+--------+--------------+----+----+\n",
      "|pt_id|     dos|procedure_code| mod|year|\n",
      "+-----+--------+--------------+----+----+\n",
      "|49241|10/27/14|         67028|  RT|2014|\n",
      "|49241|10/27/14|         J9035|null|2014|\n",
      "|49241| 10/3/16|         67028|  RT|2016|\n",
      "|49241| 10/3/16|         J9035|null|2016|\n",
      "|49241| 10/3/19|         67028|  RT|2019|\n",
      "|49241| 10/3/19|         J9035|null|2019|\n",
      "|49241| 10/6/15|         67028|  RT|2015|\n",
      "|49241| 10/6/15|         J9035|null|2015|\n",
      "|49241|12/12/17|         67028|  RT|2017|\n",
      "|49241|12/12/17|         J9035|null|2017|\n",
      "|49241| 2/15/18|         J7999|null|2018|\n",
      "|49241| 2/15/18|         67028|  LT|2018|\n",
      "|49241| 2/15/18|         J9035|null|2018|\n",
      "|49241| 2/20/17|         J9035|null|2017|\n",
      "|49241| 2/20/17|         67028|  RT|2017|\n",
      "|49241| 4/18/19|         67028|  LT|2019|\n",
      "|49241| 4/18/19|         J9035|null|2019|\n",
      "|49241| 6/18/18|         67028|  RT|2018|\n",
      "|49241| 6/18/18|         J9035|null|2018|\n",
      "|49241| 7/30/19|         67028|  RT|2019|\n",
      "+-----+--------+--------------+----+----+\n",
      "only showing top 20 rows\n",
      "\n",
      "+-----+----------+--------+----+\n",
      "|pt_id|       dos| dx_code|year|\n",
      "+-----+----------+--------+----+\n",
      "|49241|2014-10-27|  362.52|2014|\n",
      "|49241|2015-10-06| H35.321|2015|\n",
      "|49241|2016-10-03|  H35321|2016|\n",
      "|49241|2017-02-20| H35.321|2017|\n",
      "|49241|2017-09-08| H35.321|2017|\n",
      "|49241|2017-12-12| H35.321|2017|\n",
      "|49241|2018-02-15|H35.3220|2018|\n",
      "|49241|2018-06-18| H35.321|2018|\n",
      "|49241|2019-04-18|H35.3220|2019|\n",
      "|49241|2019-07-30| H35.321|2019|\n",
      "|49241|2019-10-03| H35.321|2019|\n",
      "+-----+----------+--------+----+\n",
      "\n",
      "+------+-----+---+--------------+--------+--------+----------+----+\n",
      "|pc_pid|pc_yr|mod|procedure_code|  pc_dos| dx_code|     d_dos|d_yr|\n",
      "+------+-----+---+--------------+--------+--------+----------+----+\n",
      "| 49241| 2014| RT|         67028|10/27/14|H35.3220|2018-02-15|2018|\n",
      "| 49241| 2014| RT|         67028|10/27/14| H35.321|2017-09-08|2017|\n",
      "| 49241| 2014| RT|         67028|10/27/14|H35.3220|2019-04-18|2019|\n",
      "| 49241| 2014| RT|         67028|10/27/14| H35.321|2019-10-03|2019|\n",
      "| 49241| 2014| RT|         67028|10/27/14| H35.321|2018-06-18|2018|\n",
      "| 49241| 2014| RT|         67028|10/27/14| H35.321|2019-07-30|2019|\n",
      "| 49241| 2014| RT|         67028|10/27/14| H35.321|2017-12-12|2017|\n",
      "| 49241| 2014| RT|         67028|10/27/14|  362.52|2014-10-27|2014|\n",
      "| 49241| 2014| RT|         67028|10/27/14| H35.321|2015-10-06|2015|\n",
      "| 49241| 2014| RT|         67028|10/27/14| H35.321|2017-02-20|2017|\n",
      "| 49241| 2016| RT|         67028| 10/3/16| H35.321|2015-10-06|2015|\n",
      "| 49241| 2016| RT|         67028| 10/3/16| H35.321|2017-02-20|2017|\n",
      "| 49241| 2016| RT|         67028| 10/3/16| H35.321|2018-06-18|2018|\n",
      "| 49241| 2016| RT|         67028| 10/3/16| H35.321|2017-09-08|2017|\n",
      "| 49241| 2016| RT|         67028| 10/3/16|  362.52|2014-10-27|2014|\n",
      "| 49241| 2016| RT|         67028| 10/3/16|H35.3220|2018-02-15|2018|\n",
      "| 49241| 2016| RT|         67028| 10/3/16| H35.321|2017-12-12|2017|\n",
      "| 49241| 2016| RT|         67028| 10/3/16| H35.321|2019-07-30|2019|\n",
      "| 49241| 2016| RT|         67028| 10/3/16|H35.3220|2019-04-18|2019|\n",
      "| 49241| 2016| RT|         67028| 10/3/16| H35.321|2019-10-03|2019|\n",
      "+------+-----+---+--------------+--------+--------+----------+----+\n",
      "only showing top 20 rows\n",
      "\n"
     ]
    }
   ],
   "source": [
    "spdf_pct.filter(spdf_pct.pt_id=='49241').orderBy('dos').show()\n",
    "spdf_dx.filter(spdf_dx.pt_id=='49241').orderBy('dos').show()\n",
    "sdf_1417_od.filter(sdf_1417_od.pc_pid=='49241').orderBy('pc_dos').show()\n",
    "#sdf_1417_od.filter(sdf_1417_od.pt_id=='42834').orderBy('dos').show()"
   ]
  },
  {
   "cell_type": "markdown",
   "id": "great-railway",
   "metadata": {},
   "source": [
    "### Q9. Find the ratio of patient diagnosis dates that have a corresponding procedure date? Does this ratio tell you anything about the data? If so, what might it indicate?"
   ]
  },
  {
   "cell_type": "code",
   "execution_count": 57,
   "id": "recognized-nelson",
   "metadata": {},
   "outputs": [
    {
     "data": {
      "text/html": [
       "<div>\n",
       "<style scoped>\n",
       "    .dataframe tbody tr th:only-of-type {\n",
       "        vertical-align: middle;\n",
       "    }\n",
       "\n",
       "    .dataframe tbody tr th {\n",
       "        vertical-align: top;\n",
       "    }\n",
       "\n",
       "    .dataframe thead th {\n",
       "        text-align: right;\n",
       "    }\n",
       "</style>\n",
       "<table border=\"1\" class=\"dataframe\">\n",
       "  <thead>\n",
       "    <tr style=\"text-align: right;\">\n",
       "      <th></th>\n",
       "      <th>pt_id</th>\n",
       "      <th>dos</th>\n",
       "      <th>dx_code</th>\n",
       "      <th>year_x</th>\n",
       "      <th>procedure_code</th>\n",
       "      <th>mod</th>\n",
       "      <th>year_y</th>\n",
       "    </tr>\n",
       "  </thead>\n",
       "  <tbody>\n",
       "    <tr>\n",
       "      <th>0</th>\n",
       "      <td>13151</td>\n",
       "      <td>2018-04-10</td>\n",
       "      <td>H35.3231</td>\n",
       "      <td>2018</td>\n",
       "      <td>J0178</td>\n",
       "      <td>NA</td>\n",
       "      <td>2018.0</td>\n",
       "    </tr>\n",
       "    <tr>\n",
       "      <th>1</th>\n",
       "      <td>13151</td>\n",
       "      <td>2018-04-10</td>\n",
       "      <td>H35.3231</td>\n",
       "      <td>2018</td>\n",
       "      <td>67028</td>\n",
       "      <td>59</td>\n",
       "      <td>2018.0</td>\n",
       "    </tr>\n",
       "    <tr>\n",
       "      <th>2</th>\n",
       "      <td>13151</td>\n",
       "      <td>2018-05-22</td>\n",
       "      <td>H35.3231</td>\n",
       "      <td>2018</td>\n",
       "      <td>J0178</td>\n",
       "      <td>NA</td>\n",
       "      <td>2018.0</td>\n",
       "    </tr>\n",
       "    <tr>\n",
       "      <th>3</th>\n",
       "      <td>13151</td>\n",
       "      <td>2018-05-22</td>\n",
       "      <td>H35.3231</td>\n",
       "      <td>2018</td>\n",
       "      <td>67028</td>\n",
       "      <td>59</td>\n",
       "      <td>2018.0</td>\n",
       "    </tr>\n",
       "    <tr>\n",
       "      <th>4</th>\n",
       "      <td>13151</td>\n",
       "      <td>2018-07-17</td>\n",
       "      <td>H35.3220</td>\n",
       "      <td>2018</td>\n",
       "      <td>67028</td>\n",
       "      <td>LT</td>\n",
       "      <td>2018.0</td>\n",
       "    </tr>\n",
       "  </tbody>\n",
       "</table>\n",
       "</div>"
      ],
      "text/plain": [
       "   pt_id        dos   dx_code  year_x procedure_code mod  year_y\n",
       "0  13151 2018-04-10  H35.3231    2018          J0178  NA  2018.0\n",
       "1  13151 2018-04-10  H35.3231    2018          67028  59  2018.0\n",
       "2  13151 2018-05-22  H35.3231    2018          J0178  NA  2018.0\n",
       "3  13151 2018-05-22  H35.3231    2018          67028  59  2018.0\n",
       "4  13151 2018-07-17  H35.3220    2018          67028  LT  2018.0"
      ]
     },
     "execution_count": 57,
     "metadata": {},
     "output_type": "execute_result"
    }
   ],
   "source": [
    "dx_pct = pd.merge(data_dx, data_pct, on=['pt_id', 'dos'], how='left')\n",
    "dx_pct.head()"
   ]
  },
  {
   "cell_type": "code",
   "execution_count": 58,
   "id": "interstate-second",
   "metadata": {},
   "outputs": [
    {
     "name": "stdout",
     "output_type": "stream",
     "text": [
      "\n",
      "Missing Value Summary\n",
      "-----------------------------------\n",
      "pt_id             0\n",
      "dos               0\n",
      "dx_code           0\n",
      "year_x            0\n",
      "procedure_code    1\n",
      "mod               1\n",
      "year_y            1\n",
      "dtype: int64\n",
      "      pt_id        dos   dx_code  year_x procedure_code  mod  year_y\n",
      "1041  43502 2017-02-16  H35.3210    2017            NaN  NaN     NaN\n"
     ]
    }
   ],
   "source": [
    "#Check missing values in specified columns. \n",
    "columns_to_check =['procedure_code']\n",
    "row_with_missing = [row_idx for row_idx, row in dx_pct[columns_to_check].isnull().iterrows() if True in row.values]\n",
    "print(\"\\nMissing Value Summary\\n{}\".format(\"-\"*35))\n",
    "print(dx_pct.isnull().sum(axis = 0))\n",
    "print(dx_pct.iloc[row_with_missing])"
   ]
  },
  {
   "cell_type": "code",
   "execution_count": 59,
   "id": "weird-activation",
   "metadata": {},
   "outputs": [
    {
     "data": {
      "text/html": [
       "<div>\n",
       "<style scoped>\n",
       "    .dataframe tbody tr th:only-of-type {\n",
       "        vertical-align: middle;\n",
       "    }\n",
       "\n",
       "    .dataframe tbody tr th {\n",
       "        vertical-align: top;\n",
       "    }\n",
       "\n",
       "    .dataframe thead th {\n",
       "        text-align: right;\n",
       "    }\n",
       "</style>\n",
       "<table border=\"1\" class=\"dataframe\">\n",
       "  <thead>\n",
       "    <tr style=\"text-align: right;\">\n",
       "      <th></th>\n",
       "      <th>pt_id</th>\n",
       "      <th>dos</th>\n",
       "      <th>dx_code</th>\n",
       "      <th>year</th>\n",
       "    </tr>\n",
       "  </thead>\n",
       "  <tbody>\n",
       "    <tr>\n",
       "      <th>458</th>\n",
       "      <td>43502</td>\n",
       "      <td>2016-04-14</td>\n",
       "      <td>H35.3210</td>\n",
       "      <td>2016</td>\n",
       "    </tr>\n",
       "    <tr>\n",
       "      <th>459</th>\n",
       "      <td>43502</td>\n",
       "      <td>2016-05-19</td>\n",
       "      <td>H35.3210</td>\n",
       "      <td>2016</td>\n",
       "    </tr>\n",
       "    <tr>\n",
       "      <th>460</th>\n",
       "      <td>43502</td>\n",
       "      <td>2016-07-21</td>\n",
       "      <td>H35.3210</td>\n",
       "      <td>2016</td>\n",
       "    </tr>\n",
       "    <tr>\n",
       "      <th>461</th>\n",
       "      <td>43502</td>\n",
       "      <td>2016-09-01</td>\n",
       "      <td>H35.3210</td>\n",
       "      <td>2016</td>\n",
       "    </tr>\n",
       "    <tr>\n",
       "      <th>462</th>\n",
       "      <td>43502</td>\n",
       "      <td>2016-10-06</td>\n",
       "      <td>H35.3210</td>\n",
       "      <td>2016</td>\n",
       "    </tr>\n",
       "    <tr>\n",
       "      <th>463</th>\n",
       "      <td>43502</td>\n",
       "      <td>2017-02-16</td>\n",
       "      <td>H35.3210</td>\n",
       "      <td>2017</td>\n",
       "    </tr>\n",
       "  </tbody>\n",
       "</table>\n",
       "</div>"
      ],
      "text/plain": [
       "     pt_id        dos   dx_code  year\n",
       "458  43502 2016-04-14  H35.3210  2016\n",
       "459  43502 2016-05-19  H35.3210  2016\n",
       "460  43502 2016-07-21  H35.3210  2016\n",
       "461  43502 2016-09-01  H35.3210  2016\n",
       "462  43502 2016-10-06  H35.3210  2016\n",
       "463  43502 2017-02-16  H35.3210  2017"
      ]
     },
     "execution_count": 59,
     "metadata": {},
     "output_type": "execute_result"
    },
    {
     "data": {
      "text/html": [
       "<div>\n",
       "<style scoped>\n",
       "    .dataframe tbody tr th:only-of-type {\n",
       "        vertical-align: middle;\n",
       "    }\n",
       "\n",
       "    .dataframe tbody tr th {\n",
       "        vertical-align: top;\n",
       "    }\n",
       "\n",
       "    .dataframe thead th {\n",
       "        text-align: right;\n",
       "    }\n",
       "</style>\n",
       "<table border=\"1\" class=\"dataframe\">\n",
       "  <thead>\n",
       "    <tr style=\"text-align: right;\">\n",
       "      <th></th>\n",
       "      <th>pt_id</th>\n",
       "      <th>dos</th>\n",
       "      <th>procedure_code</th>\n",
       "      <th>mod</th>\n",
       "      <th>year</th>\n",
       "    </tr>\n",
       "  </thead>\n",
       "  <tbody>\n",
       "    <tr>\n",
       "      <th>5144</th>\n",
       "      <td>43502</td>\n",
       "      <td>2016-04-14</td>\n",
       "      <td>67028</td>\n",
       "      <td>18944008</td>\n",
       "      <td>2016</td>\n",
       "    </tr>\n",
       "    <tr>\n",
       "      <th>5145</th>\n",
       "      <td>43502</td>\n",
       "      <td>2016-05-19</td>\n",
       "      <td>67028</td>\n",
       "      <td>18944008</td>\n",
       "      <td>2016</td>\n",
       "    </tr>\n",
       "    <tr>\n",
       "      <th>5146</th>\n",
       "      <td>43502</td>\n",
       "      <td>2016-07-21</td>\n",
       "      <td>67028</td>\n",
       "      <td>18944008</td>\n",
       "      <td>2016</td>\n",
       "    </tr>\n",
       "    <tr>\n",
       "      <th>5147</th>\n",
       "      <td>43502</td>\n",
       "      <td>2016-09-01</td>\n",
       "      <td>67028</td>\n",
       "      <td>18944008</td>\n",
       "      <td>2016</td>\n",
       "    </tr>\n",
       "    <tr>\n",
       "      <th>5148</th>\n",
       "      <td>43502</td>\n",
       "      <td>2016-10-06</td>\n",
       "      <td>67028</td>\n",
       "      <td>18944008</td>\n",
       "      <td>2016</td>\n",
       "    </tr>\n",
       "  </tbody>\n",
       "</table>\n",
       "</div>"
      ],
      "text/plain": [
       "      pt_id        dos procedure_code       mod  year\n",
       "5144  43502 2016-04-14          67028  18944008  2016\n",
       "5145  43502 2016-05-19          67028  18944008  2016\n",
       "5146  43502 2016-07-21          67028  18944008  2016\n",
       "5147  43502 2016-09-01          67028  18944008  2016\n",
       "5148  43502 2016-10-06          67028  18944008  2016"
      ]
     },
     "execution_count": 59,
     "metadata": {},
     "output_type": "execute_result"
    }
   ],
   "source": [
    "data_dx[data_dx['pt_id']==43502]\n",
    "data_pct[data_pct['pt_id']==43502]"
   ]
  },
  {
   "cell_type": "code",
   "execution_count": 60,
   "id": "postal-suicide",
   "metadata": {},
   "outputs": [
    {
     "name": "stdout",
     "output_type": "stream",
     "text": [
      "The ratio of patient diagnosis dates that have a corresponding procedure date is: 0.9998301053346925\n"
     ]
    }
   ],
   "source": [
    "print('The ratio of patient diagnosis dates that have a corresponding procedure date is: {}'.format((len(dx_pct)-len(row_with_missing))/len(dx_pct)))"
   ]
  },
  {
   "cell_type": "markdown",
   "id": "female-attraction",
   "metadata": {},
   "source": [
    "> ----------------------------------------pyspark ---------------------------------------------"
   ]
  },
  {
   "cell_type": "code",
   "execution_count": 61,
   "id": "inside-bridges",
   "metadata": {},
   "outputs": [
    {
     "name": "stdout",
     "output_type": "stream",
     "text": [
      "root\n",
      " |-- pt_id: integer (nullable = true)\n",
      " |-- dos: string (nullable = true)\n",
      " |-- procedure_code: string (nullable = true)\n",
      " |-- mod: string (nullable = true)\n",
      " |-- year: integer (nullable = true)\n",
      "\n",
      "root\n",
      " |-- pt_id: integer (nullable = true)\n",
      " |-- dos: string (nullable = true)\n",
      " |-- dx_code: string (nullable = true)\n",
      " |-- year: integer (nullable = true)\n",
      "\n"
     ]
    }
   ],
   "source": [
    "spdf_pct.printSchema()\n",
    "spdf_dx.printSchema()"
   ]
  },
  {
   "cell_type": "code",
   "execution_count": 62,
   "id": "artistic-excellence",
   "metadata": {},
   "outputs": [
    {
     "name": "stdout",
     "output_type": "stream",
     "text": [
      "+------+----------+------+--------+--------------+-----+\n",
      "|ds_pid|    ds_dos|pc_pid|  pc_dos|procedure_code|pc_yr|\n",
      "+------+----------+------+--------+--------------+-----+\n",
      "| 37531|2019-07-23| 37531|12/10/19|        J2778P| 2019|\n",
      "| 37531|2019-07-23| 37531|12/10/19|         67028| 2019|\n",
      "| 37531|2019-07-23| 37531| 7/23/19|         67028| 2019|\n",
      "| 37531|2019-07-23| 37531| 7/23/19|         J2778| 2019|\n",
      "| 37531|2019-07-23| 37531|  1/8/19|         67028| 2019|\n",
      "| 37531|2019-07-23| 37531| 5/28/19|        J2778P| 2019|\n",
      "| 37531|2019-07-23| 37531|12/10/19|         J2778| 2019|\n",
      "| 37531|2019-07-23| 37531| 7/23/19|        J2778P| 2019|\n",
      "| 37531|2019-07-23| 37531| 5/28/19|         67028| 2019|\n",
      "| 37531|2019-07-23| 37531| 10/1/19|         67028| 2019|\n",
      "| 37531|2019-07-23| 37531|  1/8/19|         67028| 2019|\n",
      "| 37531|2019-07-23| 37531|12/10/19|         67028| 2019|\n",
      "| 37531|2019-07-23| 37531|  1/8/19|        J2778P| 2019|\n",
      "| 37531|2019-07-23| 37531| 7/23/19|         67028| 2019|\n",
      "| 37531|2019-07-23| 37531| 5/28/19|         J2778| 2019|\n",
      "| 37531|2019-07-23| 37531|  4/2/19|        J2778P| 2019|\n",
      "| 37531|2019-07-23| 37531|  4/2/19|         67028| 2019|\n",
      "| 37531|2019-07-23| 37531| 5/28/19|         67028| 2019|\n",
      "| 37531|2019-07-23| 37531| 10/1/19|         J2778| 2019|\n",
      "| 37531|2019-07-23| 37531|  4/2/19|         67028| 2019|\n",
      "+------+----------+------+--------+--------------+-----+\n",
      "only showing top 20 rows\n",
      "\n"
     ]
    }
   ],
   "source": [
    "sdf_all = sqlContext.sql('select d.pt_id AS ds_pid, d.dos AS ds_dos, pc.pt_id AS pc_pid, pc.dos AS pc_dos, procedure_code, pc.year AS pc_yr \\\n",
    "                    from dx_table d LEFT JOIN pct_table pc ON d.pt_id=pc.pt_id AND d.year=pc.year \\\n",
    "                    ')\n",
    "sdf_all.show()"
   ]
  },
  {
   "cell_type": "code",
   "execution_count": 63,
   "id": "improving-dynamics",
   "metadata": {},
   "outputs": [
    {
     "name": "stdout",
     "output_type": "stream",
     "text": [
      "ds_pid            0\n",
      "ds_dos            0\n",
      "pc_pid            1\n",
      "pc_dos            1\n",
      "procedure_code    1\n",
      "pc_yr             1\n",
      "dtype: int64\n"
     ]
    }
   ],
   "source": [
    "pdf=sdf_all.toPandas();\n",
    "print(pdf.isnull().sum(axis = 0))"
   ]
  },
  {
   "cell_type": "code",
   "execution_count": 64,
   "id": "loose-nothing",
   "metadata": {},
   "outputs": [
    {
     "name": "stdout",
     "output_type": "stream",
     "text": [
      "+------+------+------+------+--------------+-----+\n",
      "|ds_pid|ds_dos|pc_pid|pc_dos|procedure_code|pc_yr|\n",
      "+------+------+------+------+--------------+-----+\n",
      "|     0|     0|     1|     1|             1|    1|\n",
      "+------+------+------+------+--------------+-----+\n",
      "\n",
      "+------+------+------+------+--------------+-----+\n",
      "|ds_pid|ds_dos|pc_pid|pc_dos|procedure_code|pc_yr|\n",
      "+------+------+------+------+--------------+-----+\n",
      "|     0|     0|     0|     0|             0|    0|\n",
      "+------+------+------+------+--------------+-----+\n",
      "\n"
     ]
    }
   ],
   "source": [
    "from pyspark.sql.functions import isnan, when, count, col, isnull\n",
    "sdf_all.select([count(when(isnan(c) | col(c).isNull(), c)).alias(c) for c in sdf_all.columns]).show()\n",
    "sdf_all.select([count(when(col(c)=='null', c)).alias(c) for c in sdf_all.columns]).show()"
   ]
  },
  {
   "cell_type": "markdown",
   "id": "based-burner",
   "metadata": {},
   "source": [
    "* The ratio is close to 1, indicating that the majority of the patient received the procedure on the same day of the diagnosis. The patient data is complete in terms of procedures and diagnosis codes. "
   ]
  },
  {
   "cell_type": "markdown",
   "id": "successful-consistency",
   "metadata": {},
   "source": [
    "### Q10. Are there any issues with the data? If so, what issues did you notice?"
   ]
  },
  {
   "cell_type": "markdown",
   "id": "vital-velvet",
   "metadata": {},
   "source": [
    "The following data quality issues are found\n",
    "1. There are duplicate values in patient, diagnosis, and procedure data\n",
    "2. In patient table, the sex values are not standard.\n",
    "3. In patient table, there are 8 patient_ids having multiple sex values.\n",
    "4. There are missing modifier values in procedure table\n",
    "5. The medical terms used in the modifier in the procedure table are not consistent. For example, '18944008' and 'RT' are both referred to the Right eye structure\n",
    "6. Both ICD-9-CM and ICD-10-CM diagnosis code for wAMD are used in diagnosis table."
   ]
  },
  {
   "cell_type": "markdown",
   "id": "broke-clearing",
   "metadata": {},
   "source": [
    "### Q11. How would you define completeness of patient notes and how would you go about validating it?"
   ]
  },
  {
   "cell_type": "markdown",
   "id": "atmospheric-retail",
   "metadata": {},
   "source": [
    "The completeness of patient notes can be defined in three dimensions: \n",
    "* Documentation: patient notes contain all the observations during every patient clinical encounter. \n",
    "* Breadth: There are multiple types of data, including diagnoses, laboratory test results, medications, and procedure codes. \n",
    "* Density: Patient notes contain sufficient numbers and density of data points over the time. \n",
    "\n",
    "Based on the above definitions, data completeness can be evaluated as follows.  \n",
    "* To check if there is data point at every patient's encounter by validating different data sources. \n",
    "* To examine the necessary data types are present in patient records such as laboratory results, medication orders, diagnoses, sex, and date of birth. \n",
    "* To check the availability data points at each patient visits over time. \n",
    "\n",
    "Reference: \n",
    "* N.G. Weiskopf et al. / Journal of Biomedical Informatics 46 (2013) 830–836\n"
   ]
  },
  {
   "cell_type": "markdown",
   "id": "existing-domain",
   "metadata": {},
   "source": [
    "### Q12. If you were to build a threshold for acceptable data quality, what would you take into consideration and how would you approach it?"
   ]
  },
  {
   "cell_type": "markdown",
   "id": "former-burner",
   "metadata": {},
   "source": [
    "The data quality is often accessed in the following dimensions\n",
    "* Completeness: Presence of the necessary data\n",
    "* Consistency: Uniformity in data across different data sources, sites and providers. \n",
    "* Accuracy: Closeness of agreement between data value and the true value\n",
    "\n",
    "We can define metrics in the specific dimensions and measure those metrics to evaluate data quality. Some of working examples are:\n",
    "* Completeness can be measured by the presence of necessary data elements for the study, percent of missing values for a data element to define the completeness of the data. \n",
    "* Consistency can be measured by comparable proportions of relevant code across data sources \n",
    "* Accuracy can be measured by percent of data values found to be in error, percent of implausible values, percent of data values that do not conform to range expectations. \n",
    "\n",
    "Depending on the application and the objective, we can use some of above measures and prioritize them by assigning different weights to built a score to access  data quality.   "
   ]
  },
  {
   "cell_type": "code",
   "execution_count": null,
   "id": "electronic-preservation",
   "metadata": {},
   "outputs": [],
   "source": []
  }
 ],
 "metadata": {
  "kernelspec": {
   "display_name": "nlp",
   "language": "python",
   "name": "nlp"
  },
  "language_info": {
   "codemirror_mode": {
    "name": "ipython",
    "version": 3
   },
   "file_extension": ".py",
   "mimetype": "text/x-python",
   "name": "python",
   "nbconvert_exporter": "python",
   "pygments_lexer": "ipython3",
   "version": "3.8.5"
  }
 },
 "nbformat": 4,
 "nbformat_minor": 5
}
