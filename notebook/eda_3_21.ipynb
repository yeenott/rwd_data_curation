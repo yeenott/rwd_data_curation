{
 "cells": [
  {
   "cell_type": "code",
   "execution_count": 1,
   "id": "continuous-number",
   "metadata": {},
   "outputs": [],
   "source": [
    "import numpy as np\n",
    "import pandas as pd\n",
    "import matplotlib.pyplot as plt\n",
    "import os\n",
    "from matplotlib import rcParams\n",
    "from IPython.core.interactiveshell import InteractiveShell\n",
    "InteractiveShell.ast_node_interactivity = \"all\""
   ]
  },
  {
   "cell_type": "markdown",
   "id": "according-combine",
   "metadata": {},
   "source": [
    "# 1. Load data and check data quality"
   ]
  },
  {
   "cell_type": "markdown",
   "id": "sharing-gathering",
   "metadata": {},
   "source": [
    "## 1.1 Patient data"
   ]
  },
  {
   "cell_type": "code",
   "execution_count": 2,
   "id": "coated-validity",
   "metadata": {},
   "outputs": [],
   "source": [
    "# The csv files are stored in a folder named data in the current working directory\n",
    "DATA_DIR = os.path.join('.',\"data\")"
   ]
  },
  {
   "cell_type": "code",
   "execution_count": 3,
   "id": "extra-soldier",
   "metadata": {},
   "outputs": [
    {
     "data": {
      "text/html": [
       "<div>\n",
       "<style scoped>\n",
       "    .dataframe tbody tr th:only-of-type {\n",
       "        vertical-align: middle;\n",
       "    }\n",
       "\n",
       "    .dataframe tbody tr th {\n",
       "        vertical-align: top;\n",
       "    }\n",
       "\n",
       "    .dataframe thead th {\n",
       "        text-align: right;\n",
       "    }\n",
       "</style>\n",
       "<table border=\"1\" class=\"dataframe\">\n",
       "  <thead>\n",
       "    <tr style=\"text-align: right;\">\n",
       "      <th></th>\n",
       "      <th>pt_id</th>\n",
       "      <th>sex</th>\n",
       "    </tr>\n",
       "  </thead>\n",
       "  <tbody>\n",
       "    <tr>\n",
       "      <th>0</th>\n",
       "      <td>13151</td>\n",
       "      <td>Female</td>\n",
       "    </tr>\n",
       "    <tr>\n",
       "      <th>1</th>\n",
       "      <td>43463</td>\n",
       "      <td>Female</td>\n",
       "    </tr>\n",
       "    <tr>\n",
       "      <th>2</th>\n",
       "      <td>42834</td>\n",
       "      <td>Male</td>\n",
       "    </tr>\n",
       "    <tr>\n",
       "      <th>3</th>\n",
       "      <td>37531</td>\n",
       "      <td>Female</td>\n",
       "    </tr>\n",
       "    <tr>\n",
       "      <th>4</th>\n",
       "      <td>31613</td>\n",
       "      <td>Female</td>\n",
       "    </tr>\n",
       "  </tbody>\n",
       "</table>\n",
       "</div>"
      ],
      "text/plain": [
       "   pt_id     sex\n",
       "0  13151  Female\n",
       "1  43463  Female\n",
       "2  42834    Male\n",
       "3  37531  Female\n",
       "4  31613  Female"
      ]
     },
     "execution_count": 3,
     "metadata": {},
     "output_type": "execute_result"
    },
    {
     "data": {
      "text/plain": [
       "(945, 2)"
      ]
     },
     "execution_count": 3,
     "metadata": {},
     "output_type": "execute_result"
    },
    {
     "data": {
      "text/plain": [
       "pt_id     int64\n",
       "sex      object\n",
       "dtype: object"
      ]
     },
     "execution_count": 3,
     "metadata": {},
     "output_type": "execute_result"
    }
   ],
   "source": [
    "data_pt = pd.read_csv(os.path.join(DATA_DIR, 'patient.csv'), sep='\\t')\n",
    "data_pt.rename(columns={'patientid': 'pt_id'}, inplace=True)\n",
    "data_pt.head()\n",
    "data_pt.shape\n",
    "data_pt.dtypes"
   ]
  },
  {
   "cell_type": "markdown",
   "id": "reliable-reach",
   "metadata": {},
   "source": [
    "#### Check and remove the duplicate values"
   ]
  },
  {
   "cell_type": "code",
   "execution_count": 8,
   "id": "thrown-monitoring",
   "metadata": {},
   "outputs": [
    {
     "data": {
      "application/vnd.jupyter.widget-view+json": {
       "model_id": "474473be9d1e452bb33216fb5ebe46a5",
       "version_major": 2,
       "version_minor": 0
      },
      "text/plain": [
       "                                             |          | [  0%]   00:00 -> (? left)"
      ]
     },
     "metadata": {},
     "output_type": "display_data"
    }
   ],
   "source": [
    "import sweetviz as sv\n",
    "report = sv.analyze(data_pt, target_feat='pt_id')"
   ]
  },
  {
   "cell_type": "code",
   "execution_count": 15,
   "id": "numeric-documentary",
   "metadata": {},
   "outputs": [
    {
     "name": "stdout",
     "output_type": "stream",
     "text": [
      "Report SWEETVIZ_REPORT.html was generated! NOTEBOOK/COLAB USERS: the web browser MAY not pop up, regardless, the report IS saved in your notebook/colab files.\n"
     ]
    }
   ],
   "source": [
    "report.show_html()"
   ]
  },
  {
   "cell_type": "code",
   "execution_count": 4,
   "id": "involved-birthday",
   "metadata": {},
   "outputs": [
    {
     "data": {
      "text/plain": [
       "(940, 2)"
      ]
     },
     "execution_count": 4,
     "metadata": {},
     "output_type": "execute_result"
    }
   ],
   "source": [
    "data_pt.drop_duplicates(inplace=True)\n",
    "data_pt.shape"
   ]
  },
  {
   "cell_type": "code",
   "execution_count": 5,
   "id": "animal-aspect",
   "metadata": {
    "pycharm": {
     "name": "#%%\n"
    }
   },
   "outputs": [
    {
     "data": {
      "text/html": [
       "<div>\n",
       "<style scoped>\n",
       "    .dataframe tbody tr th:only-of-type {\n",
       "        vertical-align: middle;\n",
       "    }\n",
       "\n",
       "    .dataframe tbody tr th {\n",
       "        vertical-align: top;\n",
       "    }\n",
       "\n",
       "    .dataframe thead th {\n",
       "        text-align: right;\n",
       "    }\n",
       "</style>\n",
       "<table border=\"1\" class=\"dataframe\">\n",
       "  <thead>\n",
       "    <tr style=\"text-align: right;\">\n",
       "      <th></th>\n",
       "      <th>pt_id</th>\n",
       "      <th>genderNum</th>\n",
       "    </tr>\n",
       "  </thead>\n",
       "  <tbody>\n",
       "    <tr>\n",
       "      <th>0</th>\n",
       "      <td>10026</td>\n",
       "      <td>2</td>\n",
       "    </tr>\n",
       "    <tr>\n",
       "      <th>171</th>\n",
       "      <td>16661</td>\n",
       "      <td>2</td>\n",
       "    </tr>\n",
       "    <tr>\n",
       "      <th>385</th>\n",
       "      <td>25601</td>\n",
       "      <td>2</td>\n",
       "    </tr>\n",
       "    <tr>\n",
       "      <th>580</th>\n",
       "      <td>33971</td>\n",
       "      <td>2</td>\n",
       "    </tr>\n",
       "    <tr>\n",
       "      <th>583</th>\n",
       "      <td>34041</td>\n",
       "      <td>2</td>\n",
       "    </tr>\n",
       "    <tr>\n",
       "      <th>669</th>\n",
       "      <td>37952</td>\n",
       "      <td>2</td>\n",
       "    </tr>\n",
       "    <tr>\n",
       "      <th>714</th>\n",
       "      <td>39510</td>\n",
       "      <td>2</td>\n",
       "    </tr>\n",
       "    <tr>\n",
       "      <th>824</th>\n",
       "      <td>44456</td>\n",
       "      <td>2</td>\n",
       "    </tr>\n",
       "  </tbody>\n",
       "</table>\n",
       "</div>"
      ],
      "text/plain": [
       "     pt_id  genderNum\n",
       "0    10026          2\n",
       "171  16661          2\n",
       "385  25601          2\n",
       "580  33971          2\n",
       "583  34041          2\n",
       "669  37952          2\n",
       "714  39510          2\n",
       "824  44456          2"
      ]
     },
     "execution_count": 5,
     "metadata": {},
     "output_type": "execute_result"
    }
   ],
   "source": [
    "data1 = data_pt.groupby([\"pt_id\"], as_index=False).agg(genderNum = (\"sex\", \"count\"))\n",
    "data1[data1['genderNum'] > 1]"
   ]
  },
  {
   "cell_type": "markdown",
   "id": "departmental-netherlands",
   "metadata": {},
   "source": [
    "#### Note: there are patients with multiple sex values. Remove those duplicates"
   ]
  },
  {
   "cell_type": "code",
   "execution_count": 10,
   "id": "fixed-china",
   "metadata": {},
   "outputs": [
    {
     "data": {
      "text/plain": [
       "(932, 2)"
      ]
     },
     "execution_count": 10,
     "metadata": {},
     "output_type": "execute_result"
    }
   ],
   "source": [
    "data_pt.drop_duplicates(subset=['pt_id'], inplace=True)\n",
    "data_pt.shape"
   ]
  },
  {
   "cell_type": "code",
   "execution_count": 11,
   "id": "cloudy-wayne",
   "metadata": {},
   "outputs": [
    {
     "data": {
      "text/plain": [
       "Female          515\n",
       "Male            384\n",
       "male             10\n",
       "female            9\n",
       "Not Reported      9\n",
       "f                 3\n",
       "m                 1\n",
       "M                 1\n",
       "Name: sex, dtype: int64"
      ]
     },
     "execution_count": 11,
     "metadata": {},
     "output_type": "execute_result"
    }
   ],
   "source": [
    "data_pt.sex.value_counts()"
   ]
  },
  {
   "cell_type": "markdown",
   "id": "choice-daniel",
   "metadata": {},
   "source": [
    "#### We standardize the values of sex, F for Female, M for Male, N for Not Reported. The gender distribution is imbalanced"
   ]
  },
  {
   "cell_type": "code",
   "execution_count": 12,
   "id": "minor-relative",
   "metadata": {},
   "outputs": [
    {
     "data": {
      "text/plain": [
       "F    527\n",
       "M    396\n",
       "N      9\n",
       "Name: sex, dtype: int64"
      ]
     },
     "execution_count": 12,
     "metadata": {},
     "output_type": "execute_result"
    }
   ],
   "source": [
    "data_pt['sex'] = data_pt['sex'].astype(str).str.upper().str[0]\n",
    "data_pt.sex.value_counts()"
   ]
  },
  {
   "cell_type": "code",
   "execution_count": 13,
   "id": "accepted-cause",
   "metadata": {},
   "outputs": [
    {
     "name": "stdout",
     "output_type": "stream",
     "text": [
      "\n",
      "Missing Value Summary\n",
      "-----------------------------------\n",
      "pt_id    0\n",
      "sex      0\n",
      "dtype: int64\n",
      "There were no rows with missing data\n"
     ]
    }
   ],
   "source": [
    "#Check missing values in specified columns.  \n",
    "columns_to_check =['pt_id', 'sex']\n",
    "row_with_missing = [row_idx for row_idx, row in data_pt[columns_to_check].isnull().iterrows() if True in row.values]\n",
    "print(\"\\nMissing Value Summary\\n{}\".format(\"-\"*35))\n",
    "print(data_pt.isnull().sum(axis = 0))\n",
    "if len(row_with_missing) > 0:\n",
    "    print(\"There were {} rows with missing diagnosis in data_pct dataset\".format(len(row_with_missing)))\n",
    "else:\n",
    "    print(\"There were no rows with missing data\")"
   ]
  },
  {
   "cell_type": "markdown",
   "id": "seeing-retention",
   "metadata": {},
   "source": [
    "## 1.2. Check diagnosis data"
   ]
  },
  {
   "cell_type": "code",
   "execution_count": 16,
   "id": "virgin-investor",
   "metadata": {},
   "outputs": [
    {
     "data": {
      "text/html": [
       "<div>\n",
       "<style scoped>\n",
       "    .dataframe tbody tr th:only-of-type {\n",
       "        vertical-align: middle;\n",
       "    }\n",
       "\n",
       "    .dataframe tbody tr th {\n",
       "        vertical-align: top;\n",
       "    }\n",
       "\n",
       "    .dataframe thead th {\n",
       "        text-align: right;\n",
       "    }\n",
       "</style>\n",
       "<table border=\"1\" class=\"dataframe\">\n",
       "  <thead>\n",
       "    <tr style=\"text-align: right;\">\n",
       "      <th></th>\n",
       "      <th>pt_id</th>\n",
       "      <th>dos</th>\n",
       "      <th>dx_code</th>\n",
       "    </tr>\n",
       "  </thead>\n",
       "  <tbody>\n",
       "    <tr>\n",
       "      <th>0</th>\n",
       "      <td>13151</td>\n",
       "      <td>2018-04-10</td>\n",
       "      <td>H35.3231</td>\n",
       "    </tr>\n",
       "    <tr>\n",
       "      <th>1</th>\n",
       "      <td>13151</td>\n",
       "      <td>2018-05-22</td>\n",
       "      <td>H35.3231</td>\n",
       "    </tr>\n",
       "    <tr>\n",
       "      <th>2</th>\n",
       "      <td>13151</td>\n",
       "      <td>2018-07-17</td>\n",
       "      <td>H35.3220</td>\n",
       "    </tr>\n",
       "    <tr>\n",
       "      <th>3</th>\n",
       "      <td>13151</td>\n",
       "      <td>2018-09-25</td>\n",
       "      <td>H35.3220</td>\n",
       "    </tr>\n",
       "    <tr>\n",
       "      <th>4</th>\n",
       "      <td>13151</td>\n",
       "      <td>2018-12-18</td>\n",
       "      <td>H35.3220</td>\n",
       "    </tr>\n",
       "  </tbody>\n",
       "</table>\n",
       "</div>"
      ],
      "text/plain": [
       "   pt_id         dos   dx_code\n",
       "0  13151  2018-04-10  H35.3231\n",
       "1  13151  2018-05-22  H35.3231\n",
       "2  13151  2018-07-17  H35.3220\n",
       "3  13151  2018-09-25  H35.3220\n",
       "4  13151  2018-12-18  H35.3220"
      ]
     },
     "execution_count": 16,
     "metadata": {},
     "output_type": "execute_result"
    },
    {
     "data": {
      "text/plain": [
       "(4672, 3)"
      ]
     },
     "execution_count": 16,
     "metadata": {},
     "output_type": "execute_result"
    },
    {
     "data": {
      "text/plain": [
       "pt_id       int64\n",
       "dos        object\n",
       "dx_code    object\n",
       "dtype: object"
      ]
     },
     "execution_count": 16,
     "metadata": {},
     "output_type": "execute_result"
    }
   ],
   "source": [
    "data_dx = pd.read_csv(os.path.join(DATA_DIR, 'diagnosis.csv'), sep='\\t')\n",
    "data_dx.head()\n",
    "data_dx.shape\n",
    "data_dx.dtypes"
   ]
  },
  {
   "cell_type": "code",
   "execution_count": 20,
   "id": "formal-million",
   "metadata": {},
   "outputs": [
    {
     "data": {
      "application/vnd.jupyter.widget-view+json": {
       "model_id": "0a18e2faa2e2466a9ff61f3d1e3c915a",
       "version_major": 2,
       "version_minor": 0
      },
      "text/plain": [
       "                                             |          | [  0%]   00:00 -> (? left)"
      ]
     },
     "metadata": {},
     "output_type": "display_data"
    },
    {
     "name": "stdout",
     "output_type": "stream",
     "text": [
      "Report SWEETVIZ_REPORT.html was generated! NOTEBOOK/COLAB USERS: the web browser MAY not pop up, regardless, the report IS saved in your notebook/colab files.\n"
     ]
    }
   ],
   "source": [
    "report = sv.analyze(data_dx)\n",
    "report.show_html()"
   ]
  },
  {
   "cell_type": "code",
   "execution_count": 17,
   "id": "constitutional-noise",
   "metadata": {},
   "outputs": [],
   "source": [
    "# change the dos type to datatime and creat a new column of year \n",
    "data_dx[\"dos\"] = pd.to_datetime(data_dx['dos'])\n",
    "data_dx['year']=data_dx['dos'].dt.year"
   ]
  },
  {
   "cell_type": "code",
   "execution_count": 18,
   "id": "scheduled-brazilian",
   "metadata": {},
   "outputs": [
    {
     "data": {
      "text/plain": [
       "(4484, 4)"
      ]
     },
     "execution_count": 18,
     "metadata": {},
     "output_type": "execute_result"
    }
   ],
   "source": [
    "data_dx.drop_duplicates(inplace=True)\n",
    "data_dx.shape"
   ]
  },
  {
   "cell_type": "markdown",
   "id": "fallen-grass",
   "metadata": {},
   "source": [
    "#### There are 152 diagnosis codes. The top 3 are H35.32, 362.52, E11.9"
   ]
  },
  {
   "cell_type": "code",
   "execution_count": 13,
   "id": "pursuant-phone",
   "metadata": {},
   "outputs": [
    {
     "data": {
      "text/plain": [
       "H35.32       402\n",
       "362.52       395\n",
       "E11.9        244\n",
       "H35.033      197\n",
       "H35.3220     155\n",
       "            ... \n",
       "H35.322        1\n",
       "312956001      1\n",
       "H35321         1\n",
       "h35.329        1\n",
       "369.9          1\n",
       "Name: dx_code, Length: 152, dtype: int64"
      ]
     },
     "execution_count": 13,
     "metadata": {},
     "output_type": "execute_result"
    }
   ],
   "source": [
    "data_dx.dx_code.value_counts()"
   ]
  },
  {
   "cell_type": "code",
   "execution_count": 41,
   "id": "adapted-princess",
   "metadata": {},
   "outputs": [
    {
     "data": {
      "text/plain": [
       "array(['H35.3231', 'H35.3220', 'H35.3290', '312912001', 'H35.321',\n",
       "       'H35.3210', '36252', '362.52', 'h35.329', 'H35.3291', 'H35.3293',\n",
       "       'H35.3112', 'H35.3232', 'H35321', 'H35.3230', 'H35.3292',\n",
       "       'H35.322', 'h35.321', 'H35.32', 'H43.811', 'H34.12', 'H35.81',\n",
       "       'H02.403', '362.02', '374.3', 'H43.812', 'H04.123', 'H25.13',\n",
       "       'H43.813', 'H43.13', 'E78.00', '366.16', '362.11', '367.4',\n",
       "       'E11.9', 'E11.319', 'H31.013', 'H20.9', 'E11.359', 'H35.033',\n",
       "       'H43.12', 'H18.20', 'H35.051', '368.9', '365.11', '362.16',\n",
       "       'E11.331', 'H43.393', 'H18.59', 'E11.341', 'E11.311', 'H40.033',\n",
       "       'H25.9', 'H26.493', '362.07', 'H35.059', 'H34.231', 'H52.13',\n",
       "       'H52.4', 'H33.321', '362.81', 'H16.223', 'H53.2', 'H35.031',\n",
       "       'H21.01', 'H04.122', '365.05', 'H40.11X', 'H18.51', 'H43.11',\n",
       "       'H35.373', 'E11.329', '362.31', 'H52.223', 'H25.89', 'H31.093',\n",
       "       'H53.40', 'H54.7', 'E11.339', 'H59.023', '373.12', 'H35.40',\n",
       "       'H25.811', 'H35.372', 'H25.11', 'H40.021', 'H35.352', '362.83',\n",
       "       '362.36', '362.51', '362.05', 'H43.391', '364.3', 'H11.003',\n",
       "       'H35.032', 'H35.31', 'H40.013', '379.21', 'H35.323', '379.23',\n",
       "       'E10.9', 'H21.1X1', 'H04.129', 'H00.026', 'H34.819', 'H34.811',\n",
       "       'H26.491', '368.8', 'E11.351', 'E11.39', 'H52.221', 'H54.8',\n",
       "       'H40.89', 'H25.012', 'H35.723', 'H02.883', 'H33.41', 'H35.60',\n",
       "       'H00.023', 'H35.363', 'H40.9', 'H35.61', 'H35.371', 'H34.813',\n",
       "       'H25.12', 'H18.50', '375.15', '362.56', '362.35', '362.53',\n",
       "       '367.21', '365.74', '373', '367.1', '363.32', '371.2', '361.81',\n",
       "       '379.24', '366.53', '365.7', '362.01', '379.27', '366.1', '365.1',\n",
       "       '368.4', '360.21', '362.32', '374.87', '369.9', '312956001',\n",
       "       '414173003', '60189009'], dtype=object)"
      ]
     },
     "execution_count": 41,
     "metadata": {},
     "output_type": "execute_result"
    }
   ],
   "source": [
    "data_dx.dx_code.unique()"
   ]
  },
  {
   "cell_type": "code",
   "execution_count": 14,
   "id": "possible-clark",
   "metadata": {},
   "outputs": [
    {
     "data": {
      "text/plain": [
       "2016-06-29    51\n",
       "2016-01-08    46\n",
       "2016-08-16    43\n",
       "2015-12-21    43\n",
       "2015-11-23    40\n",
       "              ..\n",
       "2019-12-23     1\n",
       "2017-04-28     1\n",
       "2016-03-07     1\n",
       "2017-10-03     1\n",
       "2019-07-26     1\n",
       "Name: dos, Length: 685, dtype: int64"
      ]
     },
     "execution_count": 14,
     "metadata": {},
     "output_type": "execute_result"
    },
    {
     "data": {
      "text/plain": [
       "2016    867\n",
       "2018    699\n",
       "2017    655\n",
       "2019    626\n",
       "2015    620\n",
       "2014    571\n",
       "2013    446\n",
       "Name: year, dtype: int64"
      ]
     },
     "execution_count": 14,
     "metadata": {},
     "output_type": "execute_result"
    }
   ],
   "source": [
    "data_dx.dos.value_counts()\n",
    "data_dx.year.value_counts()"
   ]
  },
  {
   "cell_type": "code",
   "execution_count": 15,
   "id": "unsigned-cloud",
   "metadata": {},
   "outputs": [
    {
     "name": "stdout",
     "output_type": "stream",
     "text": [
      "\n",
      "Missing Value Summary\n",
      "-----------------------------------\n",
      "pt_id      0\n",
      "dos        0\n",
      "dx_code    0\n",
      "year       0\n",
      "dtype: int64\n",
      "There were no rows with missing data\n"
     ]
    }
   ],
   "source": [
    "#Check missing values in specified columns. Note the missing value in Treatment Plan is not counted. \n",
    "columns_to_check =['pt_id', 'dos', 'dx_code']\n",
    "row_with_missing = [row_idx for row_idx, row in data_dx[columns_to_check].isnull().iterrows() if True in row.values]\n",
    "print(\"\\nMissing Value Summary\\n{}\".format(\"-\"*35))\n",
    "print(data_dx.isnull().sum(axis = 0))\n",
    "if len(row_with_missing) > 0:\n",
    "    print(\"There were {} rows with missing diagnosis in data_pct dataset\".format(len(row_with_missing)))\n",
    "else:\n",
    "    print(\"There were no rows with missing data\")"
   ]
  },
  {
   "cell_type": "markdown",
   "id": "international-house",
   "metadata": {},
   "source": [
    "## 1.3. Check the procedure dataset"
   ]
  },
  {
   "cell_type": "code",
   "execution_count": 16,
   "id": "allied-inclusion",
   "metadata": {},
   "outputs": [
    {
     "data": {
      "text/html": [
       "<div>\n",
       "<style scoped>\n",
       "    .dataframe tbody tr th:only-of-type {\n",
       "        vertical-align: middle;\n",
       "    }\n",
       "\n",
       "    .dataframe tbody tr th {\n",
       "        vertical-align: top;\n",
       "    }\n",
       "\n",
       "    .dataframe thead th {\n",
       "        text-align: right;\n",
       "    }\n",
       "</style>\n",
       "<table border=\"1\" class=\"dataframe\">\n",
       "  <thead>\n",
       "    <tr style=\"text-align: right;\">\n",
       "      <th></th>\n",
       "      <th>pt_id</th>\n",
       "      <th>dos</th>\n",
       "      <th>procedure_code</th>\n",
       "      <th>mod</th>\n",
       "    </tr>\n",
       "  </thead>\n",
       "  <tbody>\n",
       "    <tr>\n",
       "      <th>0</th>\n",
       "      <td>10026</td>\n",
       "      <td>12/14/19</td>\n",
       "      <td>2027F</td>\n",
       "      <td>NaN</td>\n",
       "    </tr>\n",
       "    <tr>\n",
       "      <th>1</th>\n",
       "      <td>10026</td>\n",
       "      <td>11/13/19</td>\n",
       "      <td>92014</td>\n",
       "      <td>25</td>\n",
       "    </tr>\n",
       "    <tr>\n",
       "      <th>2</th>\n",
       "      <td>10026</td>\n",
       "      <td>11/6/19</td>\n",
       "      <td>G8427</td>\n",
       "      <td>NaN</td>\n",
       "    </tr>\n",
       "    <tr>\n",
       "      <th>3</th>\n",
       "      <td>10026</td>\n",
       "      <td>10/2/19</td>\n",
       "      <td>92134</td>\n",
       "      <td>NaN</td>\n",
       "    </tr>\n",
       "    <tr>\n",
       "      <th>4</th>\n",
       "      <td>10026</td>\n",
       "      <td>9/23/19</td>\n",
       "      <td>92014</td>\n",
       "      <td>25</td>\n",
       "    </tr>\n",
       "  </tbody>\n",
       "</table>\n",
       "</div>"
      ],
      "text/plain": [
       "   pt_id       dos procedure_code  mod\n",
       "0  10026  12/14/19          2027F  NaN\n",
       "1  10026  11/13/19          92014   25\n",
       "2  10026   11/6/19          G8427  NaN\n",
       "3  10026   10/2/19          92134  NaN\n",
       "4  10026   9/23/19          92014   25"
      ]
     },
     "execution_count": 16,
     "metadata": {},
     "output_type": "execute_result"
    },
    {
     "data": {
      "text/plain": [
       "pt_id              int64\n",
       "dos               object\n",
       "procedure_code    object\n",
       "mod               object\n",
       "dtype: object"
      ]
     },
     "execution_count": 16,
     "metadata": {},
     "output_type": "execute_result"
    },
    {
     "data": {
      "text/plain": [
       "(5222, 4)"
      ]
     },
     "execution_count": 16,
     "metadata": {},
     "output_type": "execute_result"
    }
   ],
   "source": [
    "data_pct = pd.read_csv(os.path.join(DATA_DIR, 'procedure.csv'), sep='\\t')\n",
    "data_pct.rename(columns={'patient_id': 'pt_id'}, inplace=True)\n",
    "data_pct.head()\n",
    "data_pct.dtypes\n",
    "data_pct.shape"
   ]
  },
  {
   "cell_type": "code",
   "execution_count": 17,
   "id": "absent-aircraft",
   "metadata": {},
   "outputs": [
    {
     "data": {
      "text/plain": [
       "(5149, 4)"
      ]
     },
     "execution_count": 17,
     "metadata": {},
     "output_type": "execute_result"
    }
   ],
   "source": [
    "data_pct.drop_duplicates(inplace=True)\n",
    "data_pct.shape"
   ]
  },
  {
   "cell_type": "code",
   "execution_count": 18,
   "id": "moving-philip",
   "metadata": {},
   "outputs": [
    {
     "data": {
      "text/html": [
       "<div>\n",
       "<style scoped>\n",
       "    .dataframe tbody tr th:only-of-type {\n",
       "        vertical-align: middle;\n",
       "    }\n",
       "\n",
       "    .dataframe tbody tr th {\n",
       "        vertical-align: top;\n",
       "    }\n",
       "\n",
       "    .dataframe thead th {\n",
       "        text-align: right;\n",
       "    }\n",
       "</style>\n",
       "<table border=\"1\" class=\"dataframe\">\n",
       "  <thead>\n",
       "    <tr style=\"text-align: right;\">\n",
       "      <th></th>\n",
       "      <th>pt_id</th>\n",
       "      <th>dos</th>\n",
       "      <th>procedure_code</th>\n",
       "      <th>mod</th>\n",
       "      <th>year</th>\n",
       "    </tr>\n",
       "  </thead>\n",
       "  <tbody>\n",
       "    <tr>\n",
       "      <th>0</th>\n",
       "      <td>10026</td>\n",
       "      <td>2019-12-14</td>\n",
       "      <td>2027F</td>\n",
       "      <td>NaN</td>\n",
       "      <td>2019</td>\n",
       "    </tr>\n",
       "    <tr>\n",
       "      <th>1</th>\n",
       "      <td>10026</td>\n",
       "      <td>2019-11-13</td>\n",
       "      <td>92014</td>\n",
       "      <td>25</td>\n",
       "      <td>2019</td>\n",
       "    </tr>\n",
       "    <tr>\n",
       "      <th>2</th>\n",
       "      <td>10026</td>\n",
       "      <td>2019-11-06</td>\n",
       "      <td>G8427</td>\n",
       "      <td>NaN</td>\n",
       "      <td>2019</td>\n",
       "    </tr>\n",
       "    <tr>\n",
       "      <th>3</th>\n",
       "      <td>10026</td>\n",
       "      <td>2019-10-02</td>\n",
       "      <td>92134</td>\n",
       "      <td>NaN</td>\n",
       "      <td>2019</td>\n",
       "    </tr>\n",
       "    <tr>\n",
       "      <th>4</th>\n",
       "      <td>10026</td>\n",
       "      <td>2019-09-23</td>\n",
       "      <td>92014</td>\n",
       "      <td>25</td>\n",
       "      <td>2019</td>\n",
       "    </tr>\n",
       "  </tbody>\n",
       "</table>\n",
       "</div>"
      ],
      "text/plain": [
       "   pt_id        dos procedure_code  mod  year\n",
       "0  10026 2019-12-14          2027F  NaN  2019\n",
       "1  10026 2019-11-13          92014   25  2019\n",
       "2  10026 2019-11-06          G8427  NaN  2019\n",
       "3  10026 2019-10-02          92134  NaN  2019\n",
       "4  10026 2019-09-23          92014   25  2019"
      ]
     },
     "execution_count": 18,
     "metadata": {},
     "output_type": "execute_result"
    }
   ],
   "source": [
    "# change the dos type to datatime and creat a new column of year \n",
    "data_pct[\"dos\"] = pd.to_datetime(data_pct['dos'])\n",
    "data_pct['year']=data_pct['dos'].dt.year\n",
    "data_pct.head()"
   ]
  },
  {
   "cell_type": "markdown",
   "id": "assigned-mobility",
   "metadata": {},
   "source": [
    "#### There are 86 procedure codes."
   ]
  },
  {
   "cell_type": "code",
   "execution_count": 19,
   "id": "funky-restaurant",
   "metadata": {},
   "outputs": [
    {
     "data": {
      "text/plain": [
       "92134         757\n",
       "92014         581\n",
       "67028         474\n",
       "92012         442\n",
       "99213         250\n",
       "             ... \n",
       "LUC5MG          1\n",
       "J2778,05MG      1\n",
       "J0178OU         1\n",
       "J2778-5         1\n",
       "J3490           1\n",
       "Name: procedure_code, Length: 86, dtype: int64"
      ]
     },
     "execution_count": 19,
     "metadata": {},
     "output_type": "execute_result"
    }
   ],
   "source": [
    "data_pct.procedure_code.value_counts()\n",
    "#data_pct.dos.value_counts()\n",
    "#data_pct.year.value_counts()"
   ]
  },
  {
   "cell_type": "code",
   "execution_count": 20,
   "id": "completed-carroll",
   "metadata": {},
   "outputs": [
    {
     "data": {
      "text/plain": [
       "array(['2027F', '92014', 'G8427', '92134', '2026F', '1036F', '92012',\n",
       "       '92226', 'EYLEAX1', '99213', '92015', '99212', '3072F', '2019F',\n",
       "       '4177F', '92083', '67210', '92250', 'C9257', '92235', 'G8397',\n",
       "       '92135', '99214', '76512', '67228', '92133', '2022F', '5010F',\n",
       "       '2024F', '4040F', '3284F', '92225', '67028', 'J2778PF', 'J3590',\n",
       "       'J9035', '92273', 'G8482', '67040', '92020', 'G8420', '99499',\n",
       "       '92136', 'G8950', '67028MCR', 'J0178OU', 'J0178', 'LACS', '92002',\n",
       "       '99024', 'G8753', 'LUC5SYRX1', 'G8756', 'G8754', 'G9974', 'J2778',\n",
       "       'J7312', '92242', '67041', '92081', 'G9744', '66984', 'J7999',\n",
       "       '3285F', '2021F', 'J2778-5', 'J2778,05MG', 'J2778-5P', 'G8752',\n",
       "       'AVASTIN', 'G9903', 'RS000', '66821', 'G8918', 'G8907', 'J3490',\n",
       "       '1', 'J9035,J3490,Q9977', 'D0000', '92283', 'J2778P', 'LUC5MG',\n",
       "       'G8428', 'J2778DME', '92240', 'J2778POU'], dtype=object)"
      ]
     },
     "execution_count": 20,
     "metadata": {},
     "output_type": "execute_result"
    }
   ],
   "source": [
    "data_pct['procedure_code'].unique()"
   ]
  },
  {
   "cell_type": "code",
   "execution_count": 21,
   "id": "known-magnet",
   "metadata": {},
   "outputs": [
    {
     "name": "stdout",
     "output_type": "stream",
     "text": [
      "\n",
      "Missing Value Summary\n",
      "-----------------------------------\n",
      "pt_id                0\n",
      "dos                  0\n",
      "procedure_code       0\n",
      "mod               3709\n",
      "year                 0\n",
      "dtype: int64\n",
      "There were 3709 rows with missing values in data_pct dataset\n"
     ]
    }
   ],
   "source": [
    "#Check missing values in specified columns. Note the missing value in Treatment Plan is not counted. \n",
    "columns_to_check =['pt_id', 'dos', 'procedure_code', 'mod']\n",
    "row_with_missing = [row_idx for row_idx,row in data_pct[columns_to_check].isnull().iterrows() if True in row.values]\n",
    "print(\"\\nMissing Value Summary\\n{}\".format(\"-\"*35))\n",
    "print(data_pct.isnull().sum(axis = 0))\n",
    "if len(row_with_missing) > 0:\n",
    "    print(\"There were {} rows with missing values in data_pct dataset\".format(len(row_with_missing)))\n",
    "else:\n",
    "    print(\"There were no rows with missing data\")"
   ]
  },
  {
   "cell_type": "markdown",
   "id": "portuguese-petite",
   "metadata": {},
   "source": [
    "#### Fill missing values with NA"
   ]
  },
  {
   "cell_type": "code",
   "execution_count": 22,
   "id": "delayed-sentence",
   "metadata": {},
   "outputs": [],
   "source": [
    "data_pct = data_pct.fillna(\"NA\").reset_index(drop = True)"
   ]
  },
  {
   "cell_type": "code",
   "execution_count": 23,
   "id": "operational-perfume",
   "metadata": {},
   "outputs": [
    {
     "data": {
      "text/plain": [
       "NA          3709\n",
       "25           501\n",
       "RT           433\n",
       "LT           291\n",
       "24            68\n",
       "50            49\n",
       "79            35\n",
       "57            20\n",
       "8P            20\n",
       "59            10\n",
       "TC             8\n",
       "18944008       5\n",
       "Name: mod, dtype: int64"
      ]
     },
     "execution_count": 23,
     "metadata": {},
     "output_type": "execute_result"
    }
   ],
   "source": [
    "data_pct['mod'].value_counts()"
   ]
  },
  {
   "cell_type": "markdown",
   "id": "chicken-audio",
   "metadata": {},
   "source": [
    "#### There are 11 modifier codes."
   ]
  },
  {
   "cell_type": "markdown",
   "id": "southeast-palmer",
   "metadata": {},
   "source": [
    "# 2. Answers to questions"
   ]
  },
  {
   "cell_type": "markdown",
   "id": "ahead-sydney",
   "metadata": {},
   "source": [
    "### Q1. What are the types of data quality issues or checks should you consider?"
   ]
  },
  {
   "cell_type": "markdown",
   "id": "numeric-globe",
   "metadata": {},
   "source": [
    "Data quality checks include: \n",
    "* Duplicate data\n",
    "* Data with missing values \n",
    "* Data accuracy such as data range, closeness of data values with real-world values. \n",
    "* Data type and format\n",
    "* Consistency of data such as medical code over time or across sites\n",
    "* Data distribution and outliers"
   ]
  },
  {
   "cell_type": "markdown",
   "id": "dynamic-airplane",
   "metadata": {},
   "source": [
    "### Q2. How many patients have Wet Age-Related Macular Degeneration (wAMD) in the given dataset?"
   ]
  },
  {
   "cell_type": "code",
   "execution_count": 24,
   "id": "robust-exclusion",
   "metadata": {},
   "outputs": [
    {
     "data": {
      "text/plain": [
       "H35.32       402\n",
       "362.52       395\n",
       "E11.9        244\n",
       "H35.033      197\n",
       "H35.3220     155\n",
       "            ... \n",
       "H35.322        1\n",
       "312956001      1\n",
       "H35321         1\n",
       "h35.329        1\n",
       "369.9          1\n",
       "Name: dx_code, Length: 152, dtype: int64"
      ]
     },
     "execution_count": 24,
     "metadata": {},
     "output_type": "execute_result"
    }
   ],
   "source": [
    "data_dx.dx_code.value_counts()"
   ]
  },
  {
   "cell_type": "markdown",
   "id": "quantitative-motorcycle",
   "metadata": {},
   "source": [
    "#### The diagnosis code for wAMD is **362.52** in ICD-9-CM, and **H35.32XX** in ICD-10-CM, respectively"
   ]
  },
  {
   "cell_type": "code",
   "execution_count": 25,
   "id": "british-bandwidth",
   "metadata": {},
   "outputs": [
    {
     "name": "stdout",
     "output_type": "stream",
     "text": [
      "The numbe of records with Wet Age-Related Macular Degeneration (wAMD) diagnosis is: 1251\n",
      "The numbe of patients having Wet Age-Related Macular Degeneration (wAMD) is: 418\n"
     ]
    }
   ],
   "source": [
    "# h is the group of patients diagnozed with wAMD which is coded as H35.32XX and 362.52 in ICD-9-CM\n",
    "h=data_dx[data_dx['dx_code'].str.contains('H35.32|362.52', case=False)]\n",
    "#h\n",
    "print('The numbe of records with Wet Age-Related Macular Degeneration (wAMD) diagnosis is: {}'.format(len(h)))\n",
    "print('The numbe of patients having Wet Age-Related Macular Degeneration (wAMD) is: {}'.format(len(set(h['pt_id']))))"
   ]
  },
  {
   "cell_type": "markdown",
   "id": "biblical-tuition",
   "metadata": {},
   "source": [
    "### Q3. How many patients have wAMD in 2019?"
   ]
  },
  {
   "cell_type": "code",
   "execution_count": 26,
   "id": "immune-subject",
   "metadata": {},
   "outputs": [
    {
     "name": "stdout",
     "output_type": "stream",
     "text": [
      "The numbe of patients having wAMD in 2019 is: 66\n"
     ]
    }
   ],
   "source": [
    "print('The numbe of patients having wAMD in 2019 is: {}'.format(len(set(h[h['year']==2019]['pt_id']))))"
   ]
  },
  {
   "cell_type": "markdown",
   "id": "moved-briefs",
   "metadata": {},
   "source": [
    "### Q4. How many patients have wAMD between 2014-2017, stratified by sex?"
   ]
  },
  {
   "cell_type": "markdown",
   "id": "removable-membrane",
   "metadata": {},
   "source": [
    "#### Building a subgroup of patients diagnosed wAMD between 2014 and 2017 by joining patient and diagnosis tables on patient id"
   ]
  },
  {
   "cell_type": "code",
   "execution_count": 27,
   "id": "registered-width",
   "metadata": {},
   "outputs": [
    {
     "data": {
      "text/html": [
       "<div>\n",
       "<style scoped>\n",
       "    .dataframe tbody tr th:only-of-type {\n",
       "        vertical-align: middle;\n",
       "    }\n",
       "\n",
       "    .dataframe tbody tr th {\n",
       "        vertical-align: top;\n",
       "    }\n",
       "\n",
       "    .dataframe thead th {\n",
       "        text-align: right;\n",
       "    }\n",
       "</style>\n",
       "<table border=\"1\" class=\"dataframe\">\n",
       "  <thead>\n",
       "    <tr style=\"text-align: right;\">\n",
       "      <th></th>\n",
       "      <th>pt_id</th>\n",
       "      <th>sex</th>\n",
       "      <th>dos</th>\n",
       "      <th>dx_code</th>\n",
       "      <th>year</th>\n",
       "    </tr>\n",
       "  </thead>\n",
       "  <tbody>\n",
       "    <tr>\n",
       "      <th>23</th>\n",
       "      <td>42834</td>\n",
       "      <td>M</td>\n",
       "      <td>2017-02-08</td>\n",
       "      <td>H35.3220</td>\n",
       "      <td>2017</td>\n",
       "    </tr>\n",
       "    <tr>\n",
       "      <th>24</th>\n",
       "      <td>42834</td>\n",
       "      <td>M</td>\n",
       "      <td>2017-04-12</td>\n",
       "      <td>H35.3210</td>\n",
       "      <td>2017</td>\n",
       "    </tr>\n",
       "    <tr>\n",
       "      <th>25</th>\n",
       "      <td>42834</td>\n",
       "      <td>M</td>\n",
       "      <td>2017-06-14</td>\n",
       "      <td>H35.3220</td>\n",
       "      <td>2017</td>\n",
       "    </tr>\n",
       "    <tr>\n",
       "      <th>26</th>\n",
       "      <td>42834</td>\n",
       "      <td>M</td>\n",
       "      <td>2017-08-23</td>\n",
       "      <td>H35.3220</td>\n",
       "      <td>2017</td>\n",
       "    </tr>\n",
       "    <tr>\n",
       "      <th>27</th>\n",
       "      <td>42834</td>\n",
       "      <td>M</td>\n",
       "      <td>2017-11-15</td>\n",
       "      <td>H35.3220</td>\n",
       "      <td>2017</td>\n",
       "    </tr>\n",
       "    <tr>\n",
       "      <th>...</th>\n",
       "      <td>...</td>\n",
       "      <td>...</td>\n",
       "      <td>...</td>\n",
       "      <td>...</td>\n",
       "      <td>...</td>\n",
       "    </tr>\n",
       "    <tr>\n",
       "      <th>1242</th>\n",
       "      <td>18683</td>\n",
       "      <td>M</td>\n",
       "      <td>2015-06-22</td>\n",
       "      <td>362.52</td>\n",
       "      <td>2015</td>\n",
       "    </tr>\n",
       "    <tr>\n",
       "      <th>1243</th>\n",
       "      <td>18683</td>\n",
       "      <td>M</td>\n",
       "      <td>2015-07-02</td>\n",
       "      <td>362.52</td>\n",
       "      <td>2015</td>\n",
       "    </tr>\n",
       "    <tr>\n",
       "      <th>1244</th>\n",
       "      <td>17449</td>\n",
       "      <td>F</td>\n",
       "      <td>2015-07-12</td>\n",
       "      <td>362.52</td>\n",
       "      <td>2015</td>\n",
       "    </tr>\n",
       "    <tr>\n",
       "      <th>1245</th>\n",
       "      <td>17449</td>\n",
       "      <td>F</td>\n",
       "      <td>2015-07-22</td>\n",
       "      <td>362.52</td>\n",
       "      <td>2015</td>\n",
       "    </tr>\n",
       "    <tr>\n",
       "      <th>1246</th>\n",
       "      <td>17449</td>\n",
       "      <td>F</td>\n",
       "      <td>2015-08-01</td>\n",
       "      <td>362.52</td>\n",
       "      <td>2015</td>\n",
       "    </tr>\n",
       "  </tbody>\n",
       "</table>\n",
       "<p>690 rows × 5 columns</p>\n",
       "</div>"
      ],
      "text/plain": [
       "      pt_id sex        dos   dx_code  year\n",
       "23    42834   M 2017-02-08  H35.3220  2017\n",
       "24    42834   M 2017-04-12  H35.3210  2017\n",
       "25    42834   M 2017-06-14  H35.3220  2017\n",
       "26    42834   M 2017-08-23  H35.3220  2017\n",
       "27    42834   M 2017-11-15  H35.3220  2017\n",
       "...     ...  ..        ...       ...   ...\n",
       "1242  18683   M 2015-06-22    362.52  2015\n",
       "1243  18683   M 2015-07-02    362.52  2015\n",
       "1244  17449   F 2015-07-12    362.52  2015\n",
       "1245  17449   F 2015-07-22    362.52  2015\n",
       "1246  17449   F 2015-08-01    362.52  2015\n",
       "\n",
       "[690 rows x 5 columns]"
      ]
     },
     "execution_count": 27,
     "metadata": {},
     "output_type": "execute_result"
    }
   ],
   "source": [
    "# pt_h_14to17 is the subgroup of patients diagnozed wAMD between 2014 and 2017 by joining patient data and diagnosis data on patient id\n",
    "pt_h = pd.merge(data_pt, h, on='pt_id', how='right')\n",
    "pt_h_14to17=pt_h[(pt_h['year']>=2014) & (pt_h['year']<=2017)]\n",
    "pt_h_14to17"
   ]
  },
  {
   "cell_type": "code",
   "execution_count": 28,
   "id": "colored-spanish",
   "metadata": {},
   "outputs": [
    {
     "name": "stdout",
     "output_type": "stream",
     "text": [
      "The numbe of patients having Wet Age-Related Macular Degeneration (wAMD) between 2014 and 2017, stratified by sex\n"
     ]
    },
    {
     "data": {
      "text/html": [
       "<div>\n",
       "<style scoped>\n",
       "    .dataframe tbody tr th:only-of-type {\n",
       "        vertical-align: middle;\n",
       "    }\n",
       "\n",
       "    .dataframe tbody tr th {\n",
       "        vertical-align: top;\n",
       "    }\n",
       "\n",
       "    .dataframe thead th {\n",
       "        text-align: right;\n",
       "    }\n",
       "</style>\n",
       "<table border=\"1\" class=\"dataframe\">\n",
       "  <thead>\n",
       "    <tr style=\"text-align: right;\">\n",
       "      <th></th>\n",
       "      <th>sex</th>\n",
       "      <th>order</th>\n",
       "    </tr>\n",
       "  </thead>\n",
       "  <tbody>\n",
       "    <tr>\n",
       "      <th>0</th>\n",
       "      <td>F</td>\n",
       "      <td>173</td>\n",
       "    </tr>\n",
       "    <tr>\n",
       "      <th>1</th>\n",
       "      <td>M</td>\n",
       "      <td>129</td>\n",
       "    </tr>\n",
       "    <tr>\n",
       "      <th>2</th>\n",
       "      <td>N</td>\n",
       "      <td>1</td>\n",
       "    </tr>\n",
       "  </tbody>\n",
       "</table>\n",
       "</div>"
      ],
      "text/plain": [
       "  sex  order\n",
       "0   F    173\n",
       "1   M    129\n",
       "2   N      1"
      ]
     },
     "execution_count": 28,
     "metadata": {},
     "output_type": "execute_result"
    }
   ],
   "source": [
    "print('The numbe of patients having Wet Age-Related Macular Degeneration (wAMD) between 2014 and 2017, stratified by sex')\n",
    "temp=pt_h_14to17.groupby(['sex'],as_index=False).agg(order=('pt_id', 'nunique'))\n",
    "temp"
   ]
  },
  {
   "cell_type": "code",
   "execution_count": 29,
   "id": "composed-shift",
   "metadata": {},
   "outputs": [
    {
     "data": {
      "image/png": "[encoded data removed]",
      "text/plain": [
       "<Figure size 432x288 with 1 Axes>"
      ]
     },
     "metadata": {
      "needs_background": "light"
     },
     "output_type": "display_data"
    }
   ],
   "source": [
    "plt.bar(temp['sex'], temp['order'], color=('red','steelblue','green'))\n",
    "plt.title('Patient with wAMD by Gender between 2014 and 2017')\n",
    "plt.ylabel('Numer of patient');\n",
    "plt.show();"
   ]
  },
  {
   "cell_type": "markdown",
   "id": "wound-internship",
   "metadata": {},
   "source": [
    "### Q5. How would you determine if sex is associated with an increased risk of wAMD?\n",
    "\n",
    "The total number of wAMD patients and the non-WAMD patient are calculated from patient and diagnosis data, stratified by sex. We perform a Chi-Square test to check whether there is any relationship between **Gender** and **wAMD**. \n",
    "\n",
    "1. Define the hypothesis:\n",
    "* Null Hypothesis: two variables are independent.\n",
    "* Alternate Hypothesis: two variables are not independent.\n",
    "\n",
    "2. Built the contingency table "
   ]
  },
  {
   "cell_type": "code",
   "execution_count": 30,
   "id": "hourly-secretary",
   "metadata": {},
   "outputs": [
    {
     "data": {
      "text/html": [
       "<div>\n",
       "<style scoped>\n",
       "    .dataframe tbody tr th:only-of-type {\n",
       "        vertical-align: middle;\n",
       "    }\n",
       "\n",
       "    .dataframe tbody tr th {\n",
       "        vertical-align: top;\n",
       "    }\n",
       "\n",
       "    .dataframe thead th {\n",
       "        text-align: right;\n",
       "    }\n",
       "</style>\n",
       "<table border=\"1\" class=\"dataframe\">\n",
       "  <thead>\n",
       "    <tr style=\"text-align: right;\">\n",
       "      <th></th>\n",
       "      <th>wAMD</th>\n",
       "      <th>non-wAMD</th>\n",
       "    </tr>\n",
       "    <tr>\n",
       "      <th>sex</th>\n",
       "      <th></th>\n",
       "      <th></th>\n",
       "    </tr>\n",
       "  </thead>\n",
       "  <tbody>\n",
       "    <tr>\n",
       "      <th>F</th>\n",
       "      <td>235</td>\n",
       "      <td>292</td>\n",
       "    </tr>\n",
       "    <tr>\n",
       "      <th>M</th>\n",
       "      <td>178</td>\n",
       "      <td>218</td>\n",
       "    </tr>\n",
       "  </tbody>\n",
       "</table>\n",
       "</div>"
      ],
      "text/plain": [
       "     wAMD  non-wAMD\n",
       "sex                \n",
       "F     235       292\n",
       "M     178       218"
      ]
     },
     "execution_count": 30,
     "metadata": {},
     "output_type": "execute_result"
    }
   ],
   "source": [
    "pid=set(h['pt_id'])\n",
    "pos=data_pt.set_index('pt_id').loc[pid, :].reset_index().groupby('sex').agg(cnt=('pt_id', 'nunique'))\n",
    "neg=data_pt.groupby('sex').agg(cnt=('pt_id', 'nunique'))-pos\n",
    "tab=pd.concat([pos.rename(columns={'cnt':'wAMD'}), neg.rename(columns={'cnt': 'non-wAMD'})], axis=1).iloc[:2,:]\n",
    "tab"
   ]
  },
  {
   "cell_type": "markdown",
   "id": "violent-recording",
   "metadata": {},
   "source": [
    "3. Calculate the Chi-square statistics"
   ]
  },
  {
   "cell_type": "code",
   "execution_count": 31,
   "id": "republican-train",
   "metadata": {},
   "outputs": [
    {
     "name": "stdout",
     "output_type": "stream",
     "text": [
      "The p-value of Chi-square test is 0.9671158089335514\n"
     ]
    }
   ],
   "source": [
    "from scipy import stats\n",
    "chi2, pval, dof, expected = stats.chi2_contingency(observed=tab)\n",
    "print('The p-value of Chi-square test is {}'.format(pval))"
   ]
  },
  {
   "cell_type": "markdown",
   "id": "equipped-tyler",
   "metadata": {},
   "source": [
    "4. Results:\n",
    "\n",
    "With the currently available data, the association between sex and the risk of wAMD can be roughly calculated with Chi-square as shown above. Based on the p-value from the test, we'd accept the Null Hypothesis that there is no association between sex and the risk of wAMD.\n",
    "\n",
    "5. Discussions:\n",
    "\n",
    "However, such conclusion could be misleading for two reasons: \n",
    "* It didn’t take other confounding factors into account.\n",
    "* The sample may poorly represent the general population. \n",
    "\n",
    "To further estimate the association, random sampling in the general population and complete demographic data of the sample such as age, race, and medical history et al are necessary. Using supervised learning algorithms such as logistic regression, the association of individual parameters including sex with the risk of wAMD can be better evaluated."
   ]
  },
  {
   "cell_type": "markdown",
   "id": "partial-chamber",
   "metadata": {},
   "source": [
    "### Q6. How many women diagnosed with wAMD between 2014-2017 also had an intravitreal injection during that time?"
   ]
  },
  {
   "cell_type": "markdown",
   "id": "statewide-microwave",
   "metadata": {},
   "source": [
    "#### Joining the subgroup of patients diagnosed with wAMD during 2014-2017 with procedure table on patient id and year"
   ]
  },
  {
   "cell_type": "code",
   "execution_count": 32,
   "id": "exclusive-programmer",
   "metadata": {},
   "outputs": [
    {
     "data": {
      "text/plain": [
       "array(['2022F', '67228', 'G8427', '2024F', '1036F', '92136', '92226',\n",
       "       '3072F', '92134', '92014', '2019F', '92012', '99499', '99213',\n",
       "       '92250', 'G8753', '67028', 'J9035', 'G8756', '4177F', 'G8482',\n",
       "       '99024', '99212', '3284F', '2027F', 'J0178', 'G9744', 'LACS',\n",
       "       '92135', '99214', '2026F', 'J2778-5', 'J2778,05MG', 'J2778-5P',\n",
       "       '92235', '2021F', '5010F', '76512', 'LUC5SYRX1', '92133', '92225',\n",
       "       '92015', 'G8397', 'G8420', '1', 'G8907', 'EYLEAX1', 'G8754',\n",
       "       '66984', 'G8918', '67210', '3285F', '4040F', '92242', 'C9257',\n",
       "       'AVASTIN', '67040', 'G8950', 'J2778', 'J2778DME', '92283', 'G8428',\n",
       "       'J7999'], dtype=object)"
      ]
     },
     "execution_count": 32,
     "metadata": {},
     "output_type": "execute_result"
    }
   ],
   "source": [
    "#pt_h_14to17 is the group having Wet Age-Related Macular Degeneration (wAMD) between 2014 and 2017,\n",
    "pt_h_pct = pd.merge(data_pct, pt_h_14to17, on=['pt_id','year'], how='inner')\n",
    "pt_h_pct_F=pt_h_pct[pt_h_pct['sex']=='F']\n",
    "pt_h_pct_F['procedure_code'].unique()\n",
    "#pt_h_pct_F"
   ]
  },
  {
   "cell_type": "markdown",
   "id": "powerful-disclaimer",
   "metadata": {},
   "source": [
    "#### The procedure code of intravitreal injection is **67028**"
   ]
  },
  {
   "cell_type": "code",
   "execution_count": 33,
   "id": "green-hanging",
   "metadata": {},
   "outputs": [
    {
     "name": "stdout",
     "output_type": "stream",
     "text": [
      "The number of women diagnosed with wAMD between 2014-2017 also had an intravitreal injection during the time is: 13\n"
     ]
    }
   ],
   "source": [
    "#set(pt_h_pct_F[pt_h_pct_F['procedure_code'].isin(['67028'])]['pt_id'])\n",
    "print('The number of women diagnosed with wAMD between 2014-2017 also had an intravitreal injection during the time is: {}'.\\\n",
    "      format(len(set(pt_h_pct_F[pt_h_pct_F['procedure_code'].isin(['67028'])]['pt_id']))))"
   ]
  },
  {
   "cell_type": "markdown",
   "id": "threatened-shannon",
   "metadata": {},
   "source": [
    "### Q7. What is the most common type of intravitreal injection in women diagnosed with wAMD between 2014-2017?"
   ]
  },
  {
   "cell_type": "code",
   "execution_count": 34,
   "id": "special-harris",
   "metadata": {},
   "outputs": [
    {
     "data": {
      "text/plain": [
       "RT    149\n",
       "NA    131\n",
       "LT     28\n",
       "Name: mod, dtype: int64"
      ]
     },
     "execution_count": 34,
     "metadata": {},
     "output_type": "execute_result"
    }
   ],
   "source": [
    "pt_h_pct_F[pt_h_pct_F['procedure_code'].isin(['67028'])]['mod'].value_counts()"
   ]
  },
  {
   "cell_type": "markdown",
   "id": "natural-functionality",
   "metadata": {},
   "source": [
    "* The most common type of intravitreal injection in women diagnosed with wAMD between 2014-2017 is RT"
   ]
  },
  {
   "cell_type": "markdown",
   "id": "covered-slide",
   "metadata": {},
   "source": [
    "### Q8. Stratify the type and count of intravitreal injections by eye laterality (right, left, unspecified) in 2014-2017 for patients with wAMD by year."
   ]
  },
  {
   "cell_type": "code",
   "execution_count": 35,
   "id": "dressed-thursday",
   "metadata": {},
   "outputs": [
    {
     "data": {
      "text/plain": [
       "array(['NA', 'RT', 'LT', '18944008', '50'], dtype=object)"
      ]
     },
     "execution_count": 35,
     "metadata": {},
     "output_type": "execute_result"
    }
   ],
   "source": [
    "pid=set(h['pt_id'])\n",
    "pos_pct=data_pct.set_index('pt_id').loc[pid, :].reset_index()\n",
    "tmp=pos_pct[(pos_pct['year']>=2014) & (pos_pct['year']<=2017) & pos_pct['procedure_code'].isin(['67028'])].copy()\n",
    "tmp['mod'].unique()\n",
    "#df1=df0[df0['procedure_code'].isin(['67028'])].copy()"
   ]
  },
  {
   "cell_type": "markdown",
   "id": "olive-makeup",
   "metadata": {},
   "source": [
    "* '18944008' is the Right eye structure (body structure) in SNOMED-CT. \n",
    "* '50' indicates bilaterial injections, including right and left"
   ]
  },
  {
   "cell_type": "code",
   "execution_count": 36,
   "id": "ancient-ordinance",
   "metadata": {},
   "outputs": [
    {
     "data": {
      "text/html": [
       "<div>\n",
       "<style scoped>\n",
       "    .dataframe tbody tr th:only-of-type {\n",
       "        vertical-align: middle;\n",
       "    }\n",
       "\n",
       "    .dataframe tbody tr th {\n",
       "        vertical-align: top;\n",
       "    }\n",
       "\n",
       "    .dataframe thead th {\n",
       "        text-align: right;\n",
       "    }\n",
       "</style>\n",
       "<table border=\"1\" class=\"dataframe\">\n",
       "  <thead>\n",
       "    <tr style=\"text-align: right;\">\n",
       "      <th></th>\n",
       "      <th></th>\n",
       "      <th>dos</th>\n",
       "    </tr>\n",
       "    <tr>\n",
       "      <th>year</th>\n",
       "      <th>mod</th>\n",
       "      <th></th>\n",
       "    </tr>\n",
       "  </thead>\n",
       "  <tbody>\n",
       "    <tr>\n",
       "      <th>2014</th>\n",
       "      <th>RT</th>\n",
       "      <td>1</td>\n",
       "    </tr>\n",
       "    <tr>\n",
       "      <th rowspan=\"2\" valign=\"top\">2015</th>\n",
       "      <th>NA</th>\n",
       "      <td>11</td>\n",
       "    </tr>\n",
       "    <tr>\n",
       "      <th>RT</th>\n",
       "      <td>1</td>\n",
       "    </tr>\n",
       "    <tr>\n",
       "      <th rowspan=\"4\" valign=\"top\">2016</th>\n",
       "      <th>50</th>\n",
       "      <td>2</td>\n",
       "    </tr>\n",
       "    <tr>\n",
       "      <th>LT</th>\n",
       "      <td>2</td>\n",
       "    </tr>\n",
       "    <tr>\n",
       "      <th>NA</th>\n",
       "      <td>42</td>\n",
       "    </tr>\n",
       "    <tr>\n",
       "      <th>RT</th>\n",
       "      <td>7</td>\n",
       "    </tr>\n",
       "    <tr>\n",
       "      <th rowspan=\"3\" valign=\"top\">2017</th>\n",
       "      <th>LT</th>\n",
       "      <td>29</td>\n",
       "    </tr>\n",
       "    <tr>\n",
       "      <th>NA</th>\n",
       "      <td>30</td>\n",
       "    </tr>\n",
       "    <tr>\n",
       "      <th>RT</th>\n",
       "      <td>24</td>\n",
       "    </tr>\n",
       "  </tbody>\n",
       "</table>\n",
       "</div>"
      ],
      "text/plain": [
       "          dos\n",
       "year mod     \n",
       "2014 RT     1\n",
       "2015 NA    11\n",
       "     RT     1\n",
       "2016 50     2\n",
       "     LT     2\n",
       "     NA    42\n",
       "     RT     7\n",
       "2017 LT    29\n",
       "     NA    30\n",
       "     RT    24"
      ]
     },
     "execution_count": 36,
     "metadata": {},
     "output_type": "execute_result"
    }
   ],
   "source": [
    "tmp['mod']=tmp['mod'].map(lambda x: x.replace('18944008','RT'))\n",
    "columns_to_show =['dos']\n",
    "pd.pivot_table(tmp, index = ['year', 'mod'], values=columns_to_show, aggfunc='count')"
   ]
  },
  {
   "cell_type": "markdown",
   "id": "veterinary-pound",
   "metadata": {},
   "source": [
    "### Q9. Find the ratio of patient diagnosis dates that have a corresponding procedure date? Does this ratio tell you anything about the data? If so, what might it indicate?"
   ]
  },
  {
   "cell_type": "code",
   "execution_count": 37,
   "id": "small-record",
   "metadata": {},
   "outputs": [],
   "source": [
    "dx_pct = pd.merge(data_dx, data_pct, on=['pt_id', 'dos'], how='left')\n",
    "#dx_pct.head()"
   ]
  },
  {
   "cell_type": "code",
   "execution_count": 38,
   "id": "interested-breakfast",
   "metadata": {},
   "outputs": [
    {
     "name": "stdout",
     "output_type": "stream",
     "text": [
      "\n",
      "Missing Value Summary\n",
      "-----------------------------------\n",
      "pt_id             0\n",
      "dos               0\n",
      "dx_code           0\n",
      "year_x            0\n",
      "procedure_code    1\n",
      "mod               1\n",
      "year_y            1\n",
      "dtype: int64\n",
      "      pt_id        dos   dx_code  year_x procedure_code  mod  year_y\n",
      "1041  43502 2017-02-16  H35.3210    2017            NaN  NaN     NaN\n"
     ]
    }
   ],
   "source": [
    "#Check missing values in specified columns. \n",
    "columns_to_check =['procedure_code']\n",
    "row_with_missing = [row_idx for row_idx, row in dx_pct[columns_to_check].isnull().iterrows() if True in row.values]\n",
    "print(\"\\nMissing Value Summary\\n{}\".format(\"-\"*35))\n",
    "print(dx_pct.isnull().sum(axis = 0))\n",
    "print(dx_pct.iloc[row_with_missing])"
   ]
  },
  {
   "cell_type": "raw",
   "id": "anonymous-hungary",
   "metadata": {},
   "source": [
    "data_dx[data_dx['pt_id']==43502]\n",
    "data_pct[data_pct['pt_id']==43502]"
   ]
  },
  {
   "cell_type": "code",
   "execution_count": 39,
   "id": "aquatic-maria",
   "metadata": {},
   "outputs": [
    {
     "name": "stdout",
     "output_type": "stream",
     "text": [
      "The ratio of patient diagnosis dates that have a corresponding procedure date is: 0.9998301053346925\n"
     ]
    }
   ],
   "source": [
    "print('The ratio of patient diagnosis dates that have a corresponding procedure date is: {}'.format((len(dx_pct)-len(row_with_missing))/len(dx_pct)))"
   ]
  },
  {
   "cell_type": "markdown",
   "id": "listed-detail",
   "metadata": {},
   "source": [
    "* The ratio is close to 1, indicating that the majority of the patient received the procedure on the same day of the diagnosis. The patient data is complete in terms of procedures and diagnosis codes. "
   ]
  },
  {
   "cell_type": "markdown",
   "id": "improving-moment",
   "metadata": {},
   "source": [
    "### Q10. Are there any issues with the data? If so, what issues did you notice?"
   ]
  },
  {
   "cell_type": "markdown",
   "id": "honey-programming",
   "metadata": {},
   "source": [
    "The following data quality issues are found\n",
    "1. There are duplicate values in patient, diagnosis, and procedure data\n",
    "2. In patient table, the sex values are not standard.\n",
    "3. In patient table, there are 8 patient_ids having multiple sex values.\n",
    "4. There are missing modifier values in procedure table\n",
    "5. The medical terms used in the modifier in the procedure table are not consistent. For example, '18944008' and 'RT' are both referred to the Right eye structure\n",
    "6. Both ICD-9-CM and ICD-10-CM diagnosis code for wAMD are used in diagnosis table."
   ]
  },
  {
   "cell_type": "markdown",
   "id": "designed-custody",
   "metadata": {},
   "source": [
    "### Q11. How would you define completeness of patient notes and how would you go about validating it?"
   ]
  },
  {
   "cell_type": "markdown",
   "id": "pleased-foster",
   "metadata": {},
   "source": [
    "The completeness of patient notes can be defined in three dimensions: \n",
    "* Documentation: patient notes contain all the observations during every patient clinical encounter. \n",
    "* Breadth: There are multiple types of data, including diagnoses, laboratory test results, medications, and procedure codes. \n",
    "* Density: Patient notes contain sufficient numbers and density of data points over the time. \n",
    "\n",
    "Based on the above definitions, data completeness can be evaluated as follows.  \n",
    "* To check if there is data point at every patient's encounter by validating different data sources. \n",
    "* To examine the necessary data types are present in patient records such as laboratory results, medication orders, diagnoses, sex, and date of birth. \n",
    "* To check the availability data points at each patient visits over time. \n",
    "\n",
    "Reference: \n",
    "* N.G. Weiskopf et al. / Journal of Biomedical Informatics 46 (2013) 830–836\n"
   ]
  },
  {
   "cell_type": "markdown",
   "id": "wanted-military",
   "metadata": {},
   "source": [
    "### Q12. If you were to build a threshold for acceptable data quality, what would you take into consideration and how would you approach it?"
   ]
  },
  {
   "cell_type": "markdown",
   "id": "considerable-hydrogen",
   "metadata": {},
   "source": [
    "The data quality is often accessed in the following dimensions\n",
    "* Completeness: Presence of the necessary data\n",
    "* Consistency: Uniformity in data across different data sources, sites and providers. \n",
    "* Accuracy: Closeness of agreement between data value and the true value\n",
    "\n",
    "We can define metrics in the specific dimensions and measure those metrics to evaluate data quality. Some of working examples are:\n",
    "* Completeness can be measured by the presence of necessary data elements for the study, percent of missing values for a data element to define the completeness of the data. \n",
    "* Consistency can be measured by comparable proportions of relevant code across data sources \n",
    "* Accuracy can be measured by percent of data values found to be in error, percent of implausible values, percent of data values that do not conform to range expectations. \n",
    "\n",
    "Depending on the application and the objective, we can use some of above measures and prioritize them by assigning different weights to built a score to access  data quality.   "
   ]
  },
  {
   "cell_type": "code",
   "execution_count": null,
   "id": "impressive-vocabulary",
   "metadata": {},
   "outputs": [],
   "source": []
  }
 ],
 "metadata": {
  "kernelspec": {
   "display_name": "viz",
   "language": "python",
   "name": "viz"
  },
  "language_info": {
   "codemirror_mode": {
    "name": "ipython",
    "version": 3
   },
   "file_extension": ".py",
   "mimetype": "text/x-python",
   "name": "python",
   "nbconvert_exporter": "python",
   "pygments_lexer": "ipython3",
   "version": "3.8.5"
  }
 },
 "nbformat": 4,
 "nbformat_minor": 5
}
