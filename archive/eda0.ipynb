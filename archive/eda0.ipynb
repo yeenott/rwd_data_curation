{
 "cells": [
  {
   "cell_type": "code",
   "execution_count": 2,
   "id": "departmental-shell",
   "metadata": {},
   "outputs": [],
   "source": [
    "import numpy as np\n",
    "#import random\n",
    "import pandas as pd\n",
    "from IPython.display import Image\n",
    "import matplotlib.pyplot as plt\n",
    "import os\n",
    "import seaborn as sns\n",
    "from collections import defaultdict"
   ]
  },
  {
   "cell_type": "code",
   "execution_count": 3,
   "id": "black-constant",
   "metadata": {},
   "outputs": [],
   "source": [
    "from IPython.core.interactiveshell import InteractiveShell\n",
    "InteractiveShell.ast_node_interactivity = \"all\""
   ]
  },
  {
   "cell_type": "code",
   "execution_count": 57,
   "id": "increasing-transcription",
   "metadata": {},
   "outputs": [],
   "source": [
    "DATA_DIR = os.path.join('.',\"data\")"
   ]
  },
  {
   "cell_type": "markdown",
   "id": "loved-birthday",
   "metadata": {},
   "source": [
    "## 1.1 Checking the patient dataset"
   ]
  },
  {
   "cell_type": "code",
   "execution_count": 310,
   "id": "ranking-discipline",
   "metadata": {},
   "outputs": [
    {
     "data": {
      "text/html": [
       "<div>\n",
       "<style scoped>\n",
       "    .dataframe tbody tr th:only-of-type {\n",
       "        vertical-align: middle;\n",
       "    }\n",
       "\n",
       "    .dataframe tbody tr th {\n",
       "        vertical-align: top;\n",
       "    }\n",
       "\n",
       "    .dataframe thead th {\n",
       "        text-align: right;\n",
       "    }\n",
       "</style>\n",
       "<table border=\"1\" class=\"dataframe\">\n",
       "  <thead>\n",
       "    <tr style=\"text-align: right;\">\n",
       "      <th></th>\n",
       "      <th>pt_id</th>\n",
       "      <th>sex</th>\n",
       "    </tr>\n",
       "  </thead>\n",
       "  <tbody>\n",
       "    <tr>\n",
       "      <th>0</th>\n",
       "      <td>13151</td>\n",
       "      <td>Female</td>\n",
       "    </tr>\n",
       "    <tr>\n",
       "      <th>1</th>\n",
       "      <td>43463</td>\n",
       "      <td>Female</td>\n",
       "    </tr>\n",
       "    <tr>\n",
       "      <th>2</th>\n",
       "      <td>42834</td>\n",
       "      <td>Male</td>\n",
       "    </tr>\n",
       "    <tr>\n",
       "      <th>3</th>\n",
       "      <td>37531</td>\n",
       "      <td>Female</td>\n",
       "    </tr>\n",
       "    <tr>\n",
       "      <th>4</th>\n",
       "      <td>31613</td>\n",
       "      <td>Female</td>\n",
       "    </tr>\n",
       "  </tbody>\n",
       "</table>\n",
       "</div>"
      ],
      "text/plain": [
       "   pt_id     sex\n",
       "0  13151  Female\n",
       "1  43463  Female\n",
       "2  42834    Male\n",
       "3  37531  Female\n",
       "4  31613  Female"
      ]
     },
     "execution_count": 310,
     "metadata": {},
     "output_type": "execute_result"
    },
    {
     "data": {
      "text/plain": [
       "(945, 2)"
      ]
     },
     "execution_count": 310,
     "metadata": {},
     "output_type": "execute_result"
    }
   ],
   "source": [
    "data_pt = pd.read_csv(os.path.join(DATA_DIR, 'patient.csv'), sep='\\t')\n",
    "data_pt.rename(columns={'patientid': 'pt_id'}, inplace=True)\n",
    "data_pt.head()\n",
    "data_pt.shape"
   ]
  },
  {
   "cell_type": "code",
   "execution_count": 311,
   "id": "cultural-nowhere",
   "metadata": {},
   "outputs": [
    {
     "data": {
      "text/plain": [
       "(940, 2)"
      ]
     },
     "execution_count": 311,
     "metadata": {},
     "output_type": "execute_result"
    }
   ],
   "source": [
    "data_pt.drop_duplicates(inplace=True)\n",
    "data_pt.shape"
   ]
  },
  {
   "cell_type": "code",
   "execution_count": 312,
   "id": "organizational-composition",
   "metadata": {},
   "outputs": [
    {
     "data": {
      "text/plain": [
       "(932, 2)"
      ]
     },
     "execution_count": 312,
     "metadata": {},
     "output_type": "execute_result"
    }
   ],
   "source": [
    "data_pt.drop_duplicates(subset=['pt_id'], inplace=True)\n",
    "data_pt.shape"
   ]
  },
  {
   "cell_type": "code",
   "execution_count": 313,
   "id": "raising-pavilion",
   "metadata": {},
   "outputs": [
    {
     "data": {
      "text/plain": [
       "array(['Female', 'Male', 'female', 'f', 'male', 'Not Reported', 'M', 'm'],\n",
       "      dtype=object)"
      ]
     },
     "execution_count": 313,
     "metadata": {},
     "output_type": "execute_result"
    }
   ],
   "source": [
    "data_pt['sex'].unique()"
   ]
  },
  {
   "cell_type": "code",
   "execution_count": 314,
   "id": "isolated-airfare",
   "metadata": {},
   "outputs": [
    {
     "data": {
      "text/plain": [
       "array(['F', 'M', 'N'], dtype=object)"
      ]
     },
     "execution_count": 314,
     "metadata": {},
     "output_type": "execute_result"
    }
   ],
   "source": [
    "data_pt['sex'] = data_pt['sex'].astype(str).str.upper().str[0]\n",
    "data_pt['sex'].unique()"
   ]
  },
  {
   "cell_type": "raw",
   "id": "fundamental-premium",
   "metadata": {
    "pycharm": {
     "name": "#%%\n"
    }
   },
   "source": [
    "# group and calculate customers' lifetime value, office num, age, gender, Consumption interval, recency, and etc.\n",
    "data1 = data_pt.groupby([\"patientid\"], as_index=False).agg(\n",
    "                                                 gender = ('sex', lambda x: x.value_counts().index[0]),\n",
    "                                                 genderNum = (\"sex\", \"nunique\"))\n",
    "data1[data1['genderNum']>1]"
   ]
  },
  {
   "cell_type": "code",
   "execution_count": 315,
   "id": "suspected-membership",
   "metadata": {},
   "outputs": [
    {
     "name": "stdout",
     "output_type": "stream",
     "text": [
      "\n",
      "Missing Value Summary\n",
      "-----------------------------------\n",
      "pt_id    0\n",
      "sex      0\n",
      "dtype: int64\n",
      "There were no rows with missing data\n"
     ]
    }
   ],
   "source": [
    "#Check missing values in specified columns. Note the missing value in Treatment Plan is not counted. \n",
    "columns_to_check =['pt_id', 'sex']\n",
    "row_with_missing_cx = [row_idx for row_idx, row in data_pt[columns_to_check].isnull().iterrows() if True in row.values]\n",
    "print(\"\\nMissing Value Summary\\n{}\".format(\"-\"*35))\n",
    "print(data_pt.isnull().sum(axis = 0))\n",
    "if len(row_with_missing_cx) > 0:\n",
    "    print(\"There were {} rows with missing diagnosis in data_pct dataset\".format(len(row_with_missing_cx)))\n",
    "else:\n",
    "    print(\"There were no rows with missing data\")"
   ]
  },
  {
   "cell_type": "markdown",
   "id": "original-rebound",
   "metadata": {},
   "source": [
    "## 1.2. Check the diagnosis dataset"
   ]
  },
  {
   "cell_type": "code",
   "execution_count": 316,
   "id": "eleven-advisory",
   "metadata": {},
   "outputs": [
    {
     "data": {
      "text/html": [
       "<div>\n",
       "<style scoped>\n",
       "    .dataframe tbody tr th:only-of-type {\n",
       "        vertical-align: middle;\n",
       "    }\n",
       "\n",
       "    .dataframe tbody tr th {\n",
       "        vertical-align: top;\n",
       "    }\n",
       "\n",
       "    .dataframe thead th {\n",
       "        text-align: right;\n",
       "    }\n",
       "</style>\n",
       "<table border=\"1\" class=\"dataframe\">\n",
       "  <thead>\n",
       "    <tr style=\"text-align: right;\">\n",
       "      <th></th>\n",
       "      <th>pt_id</th>\n",
       "      <th>dos</th>\n",
       "      <th>dx_code</th>\n",
       "    </tr>\n",
       "  </thead>\n",
       "  <tbody>\n",
       "    <tr>\n",
       "      <th>0</th>\n",
       "      <td>13151</td>\n",
       "      <td>2018-04-10</td>\n",
       "      <td>H35.3231</td>\n",
       "    </tr>\n",
       "    <tr>\n",
       "      <th>1</th>\n",
       "      <td>13151</td>\n",
       "      <td>2018-05-22</td>\n",
       "      <td>H35.3231</td>\n",
       "    </tr>\n",
       "    <tr>\n",
       "      <th>2</th>\n",
       "      <td>13151</td>\n",
       "      <td>2018-07-17</td>\n",
       "      <td>H35.3220</td>\n",
       "    </tr>\n",
       "    <tr>\n",
       "      <th>3</th>\n",
       "      <td>13151</td>\n",
       "      <td>2018-09-25</td>\n",
       "      <td>H35.3220</td>\n",
       "    </tr>\n",
       "    <tr>\n",
       "      <th>4</th>\n",
       "      <td>13151</td>\n",
       "      <td>2018-12-18</td>\n",
       "      <td>H35.3220</td>\n",
       "    </tr>\n",
       "  </tbody>\n",
       "</table>\n",
       "</div>"
      ],
      "text/plain": [
       "   pt_id         dos   dx_code\n",
       "0  13151  2018-04-10  H35.3231\n",
       "1  13151  2018-05-22  H35.3231\n",
       "2  13151  2018-07-17  H35.3220\n",
       "3  13151  2018-09-25  H35.3220\n",
       "4  13151  2018-12-18  H35.3220"
      ]
     },
     "execution_count": 316,
     "metadata": {},
     "output_type": "execute_result"
    },
    {
     "data": {
      "text/plain": [
       "(4672, 3)"
      ]
     },
     "execution_count": 316,
     "metadata": {},
     "output_type": "execute_result"
    },
    {
     "data": {
      "text/plain": [
       "pt_id       int64\n",
       "dos        object\n",
       "dx_code    object\n",
       "dtype: object"
      ]
     },
     "execution_count": 316,
     "metadata": {},
     "output_type": "execute_result"
    }
   ],
   "source": [
    "data_dx = pd.read_csv(os.path.join(DATA_DIR, 'diagnosis.csv'), sep='\\t')\n",
    "data_dx.head()\n",
    "data_dx.shape\n",
    "data_dx.dtypes"
   ]
  },
  {
   "cell_type": "code",
   "execution_count": 317,
   "id": "cosmetic-benefit",
   "metadata": {},
   "outputs": [
    {
     "data": {
      "text/html": [
       "<div>\n",
       "<style scoped>\n",
       "    .dataframe tbody tr th:only-of-type {\n",
       "        vertical-align: middle;\n",
       "    }\n",
       "\n",
       "    .dataframe tbody tr th {\n",
       "        vertical-align: top;\n",
       "    }\n",
       "\n",
       "    .dataframe thead th {\n",
       "        text-align: right;\n",
       "    }\n",
       "</style>\n",
       "<table border=\"1\" class=\"dataframe\">\n",
       "  <thead>\n",
       "    <tr style=\"text-align: right;\">\n",
       "      <th></th>\n",
       "      <th>pt_id</th>\n",
       "      <th>dos</th>\n",
       "      <th>dx_code</th>\n",
       "      <th>year</th>\n",
       "    </tr>\n",
       "  </thead>\n",
       "  <tbody>\n",
       "    <tr>\n",
       "      <th>0</th>\n",
       "      <td>13151</td>\n",
       "      <td>2018-04-10</td>\n",
       "      <td>H35.3231</td>\n",
       "      <td>2018</td>\n",
       "    </tr>\n",
       "    <tr>\n",
       "      <th>1</th>\n",
       "      <td>13151</td>\n",
       "      <td>2018-05-22</td>\n",
       "      <td>H35.3231</td>\n",
       "      <td>2018</td>\n",
       "    </tr>\n",
       "    <tr>\n",
       "      <th>2</th>\n",
       "      <td>13151</td>\n",
       "      <td>2018-07-17</td>\n",
       "      <td>H35.3220</td>\n",
       "      <td>2018</td>\n",
       "    </tr>\n",
       "    <tr>\n",
       "      <th>3</th>\n",
       "      <td>13151</td>\n",
       "      <td>2018-09-25</td>\n",
       "      <td>H35.3220</td>\n",
       "      <td>2018</td>\n",
       "    </tr>\n",
       "    <tr>\n",
       "      <th>4</th>\n",
       "      <td>13151</td>\n",
       "      <td>2018-12-18</td>\n",
       "      <td>H35.3220</td>\n",
       "      <td>2018</td>\n",
       "    </tr>\n",
       "  </tbody>\n",
       "</table>\n",
       "</div>"
      ],
      "text/plain": [
       "   pt_id        dos   dx_code  year\n",
       "0  13151 2018-04-10  H35.3231  2018\n",
       "1  13151 2018-05-22  H35.3231  2018\n",
       "2  13151 2018-07-17  H35.3220  2018\n",
       "3  13151 2018-09-25  H35.3220  2018\n",
       "4  13151 2018-12-18  H35.3220  2018"
      ]
     },
     "execution_count": 317,
     "metadata": {},
     "output_type": "execute_result"
    }
   ],
   "source": [
    "data_dx[\"dos\"] = pd.to_datetime(data_dx['dos'])\n",
    "data_dx['year']=data_dx['dos'].dt.year\n",
    "data_dx.head()"
   ]
  },
  {
   "cell_type": "code",
   "execution_count": 106,
   "id": "dying-desire",
   "metadata": {},
   "outputs": [
    {
     "data": {
      "text/plain": [
       "(4484, 4)"
      ]
     },
     "execution_count": 106,
     "metadata": {},
     "output_type": "execute_result"
    }
   ],
   "source": [
    "data_dx.drop_duplicates(inplace=True)\n",
    "data_dx.shape"
   ]
  },
  {
   "cell_type": "code",
   "execution_count": 107,
   "id": "enclosed-nancy",
   "metadata": {},
   "outputs": [
    {
     "name": "stdout",
     "output_type": "stream",
     "text": [
      "\n",
      "Missing Value Summary\n",
      "-----------------------------------\n",
      "pt_id      0\n",
      "dos        0\n",
      "dx_code    0\n",
      "year       0\n",
      "dtype: int64\n",
      "There were no rows with missing data\n"
     ]
    }
   ],
   "source": [
    "#Check missing values in specified columns. Note the missing value in Treatment Plan is not counted. \n",
    "columns_to_check =['pt_id', 'dos', 'dx_code']\n",
    "row_with_missing_cx = [row_idx for row_idx, row in data_dx[columns_to_check].isnull().iterrows() if True in row.values]\n",
    "print(\"\\nMissing Value Summary\\n{}\".format(\"-\"*35))\n",
    "print(data_dx.isnull().sum(axis = 0))\n",
    "if len(row_with_missing_cx) > 0:\n",
    "    print(\"There were {} rows with missing diagnosis in data_pct dataset\".format(len(row_with_missing_cx)))\n",
    "else:\n",
    "    print(\"There were no rows with missing data\")"
   ]
  },
  {
   "cell_type": "code",
   "execution_count": 108,
   "id": "supreme-republican",
   "metadata": {},
   "outputs": [
    {
     "data": {
      "text/html": [
       "<div>\n",
       "<style scoped>\n",
       "    .dataframe tbody tr th:only-of-type {\n",
       "        vertical-align: middle;\n",
       "    }\n",
       "\n",
       "    .dataframe tbody tr th {\n",
       "        vertical-align: top;\n",
       "    }\n",
       "\n",
       "    .dataframe thead th {\n",
       "        text-align: right;\n",
       "    }\n",
       "</style>\n",
       "<table border=\"1\" class=\"dataframe\">\n",
       "  <thead>\n",
       "    <tr style=\"text-align: right;\">\n",
       "      <th></th>\n",
       "      <th>pt_id</th>\n",
       "    </tr>\n",
       "    <tr>\n",
       "      <th>dx_code</th>\n",
       "      <th></th>\n",
       "    </tr>\n",
       "  </thead>\n",
       "  <tbody>\n",
       "    <tr>\n",
       "      <th>H35.32</th>\n",
       "      <td>402</td>\n",
       "    </tr>\n",
       "    <tr>\n",
       "      <th>362.52</th>\n",
       "      <td>395</td>\n",
       "    </tr>\n",
       "    <tr>\n",
       "      <th>E11.9</th>\n",
       "      <td>244</td>\n",
       "    </tr>\n",
       "    <tr>\n",
       "      <th>H35.033</th>\n",
       "      <td>197</td>\n",
       "    </tr>\n",
       "    <tr>\n",
       "      <th>H35.3220</th>\n",
       "      <td>155</td>\n",
       "    </tr>\n",
       "  </tbody>\n",
       "</table>\n",
       "</div>"
      ],
      "text/plain": [
       "          pt_id\n",
       "dx_code        \n",
       "H35.32      402\n",
       "362.52      395\n",
       "E11.9       244\n",
       "H35.033     197\n",
       "H35.3220    155"
      ]
     },
     "execution_count": 108,
     "metadata": {},
     "output_type": "execute_result"
    }
   ],
   "source": [
    "columns_to_show =['pt_id']\n",
    "dx_cnt = pd.pivot_table(data_dx, index = ['dx_code'], values=columns_to_show, aggfunc='count')\n",
    "dx_cnt.sort_values(by=['pt_id'], ascending=False)[:5]\n",
    "#print('The number of patients having Wet Age-Related Macular Degeneration (wAMD) is {}'.format(dx_cnt.loc['H35.32'].values))"
   ]
  },
  {
   "cell_type": "markdown",
   "id": "central-polish",
   "metadata": {},
   "source": [
    "## 1.3. Checking and prepocessing the procedure dataset"
   ]
  },
  {
   "cell_type": "code",
   "execution_count": 246,
   "id": "editorial-seafood",
   "metadata": {},
   "outputs": [
    {
     "data": {
      "text/html": [
       "<div>\n",
       "<style scoped>\n",
       "    .dataframe tbody tr th:only-of-type {\n",
       "        vertical-align: middle;\n",
       "    }\n",
       "\n",
       "    .dataframe tbody tr th {\n",
       "        vertical-align: top;\n",
       "    }\n",
       "\n",
       "    .dataframe thead th {\n",
       "        text-align: right;\n",
       "    }\n",
       "</style>\n",
       "<table border=\"1\" class=\"dataframe\">\n",
       "  <thead>\n",
       "    <tr style=\"text-align: right;\">\n",
       "      <th></th>\n",
       "      <th>patient_id</th>\n",
       "      <th>dos</th>\n",
       "      <th>procedure_code</th>\n",
       "      <th>mod</th>\n",
       "    </tr>\n",
       "  </thead>\n",
       "  <tbody>\n",
       "    <tr>\n",
       "      <th>0</th>\n",
       "      <td>10026</td>\n",
       "      <td>12/14/19</td>\n",
       "      <td>2027F</td>\n",
       "      <td>NaN</td>\n",
       "    </tr>\n",
       "    <tr>\n",
       "      <th>1</th>\n",
       "      <td>10026</td>\n",
       "      <td>11/13/19</td>\n",
       "      <td>92014</td>\n",
       "      <td>25</td>\n",
       "    </tr>\n",
       "    <tr>\n",
       "      <th>2</th>\n",
       "      <td>10026</td>\n",
       "      <td>11/6/19</td>\n",
       "      <td>G8427</td>\n",
       "      <td>NaN</td>\n",
       "    </tr>\n",
       "    <tr>\n",
       "      <th>3</th>\n",
       "      <td>10026</td>\n",
       "      <td>10/2/19</td>\n",
       "      <td>92134</td>\n",
       "      <td>NaN</td>\n",
       "    </tr>\n",
       "    <tr>\n",
       "      <th>4</th>\n",
       "      <td>10026</td>\n",
       "      <td>9/23/19</td>\n",
       "      <td>92014</td>\n",
       "      <td>25</td>\n",
       "    </tr>\n",
       "  </tbody>\n",
       "</table>\n",
       "</div>"
      ],
      "text/plain": [
       "   patient_id       dos procedure_code  mod\n",
       "0       10026  12/14/19          2027F  NaN\n",
       "1       10026  11/13/19          92014   25\n",
       "2       10026   11/6/19          G8427  NaN\n",
       "3       10026   10/2/19          92134  NaN\n",
       "4       10026   9/23/19          92014   25"
      ]
     },
     "execution_count": 246,
     "metadata": {},
     "output_type": "execute_result"
    },
    {
     "data": {
      "text/plain": [
       "(5222, 4)"
      ]
     },
     "execution_count": 246,
     "metadata": {},
     "output_type": "execute_result"
    },
    {
     "data": {
      "text/plain": [
       "patient_id         int64\n",
       "dos               object\n",
       "procedure_code    object\n",
       "mod               object\n",
       "dtype: object"
      ]
     },
     "execution_count": 246,
     "metadata": {},
     "output_type": "execute_result"
    }
   ],
   "source": [
    "data_pct = pd.read_csv(os.path.join(DATA_DIR, 'procedure.csv'), sep='\\t')\n",
    "data_pct.head()\n",
    "data_pct.shape\n",
    "data_pct.dtypes"
   ]
  },
  {
   "cell_type": "code",
   "execution_count": 247,
   "id": "collaborative-secret",
   "metadata": {},
   "outputs": [
    {
     "data": {
      "text/plain": [
       "(5149, 4)"
      ]
     },
     "execution_count": 247,
     "metadata": {},
     "output_type": "execute_result"
    }
   ],
   "source": [
    "data_pct.drop_duplicates(inplace=True)\n",
    "data_pct.shape"
   ]
  },
  {
   "cell_type": "code",
   "execution_count": 248,
   "id": "superior-calendar",
   "metadata": {},
   "outputs": [
    {
     "data": {
      "text/html": [
       "<div>\n",
       "<style scoped>\n",
       "    .dataframe tbody tr th:only-of-type {\n",
       "        vertical-align: middle;\n",
       "    }\n",
       "\n",
       "    .dataframe tbody tr th {\n",
       "        vertical-align: top;\n",
       "    }\n",
       "\n",
       "    .dataframe thead th {\n",
       "        text-align: right;\n",
       "    }\n",
       "</style>\n",
       "<table border=\"1\" class=\"dataframe\">\n",
       "  <thead>\n",
       "    <tr style=\"text-align: right;\">\n",
       "      <th></th>\n",
       "      <th>patient_id</th>\n",
       "      <th>dos</th>\n",
       "      <th>procedure_code</th>\n",
       "      <th>mod</th>\n",
       "      <th>year</th>\n",
       "    </tr>\n",
       "  </thead>\n",
       "  <tbody>\n",
       "    <tr>\n",
       "      <th>0</th>\n",
       "      <td>10026</td>\n",
       "      <td>2019-12-14</td>\n",
       "      <td>2027F</td>\n",
       "      <td>NaN</td>\n",
       "      <td>2019</td>\n",
       "    </tr>\n",
       "    <tr>\n",
       "      <th>1</th>\n",
       "      <td>10026</td>\n",
       "      <td>2019-11-13</td>\n",
       "      <td>92014</td>\n",
       "      <td>25</td>\n",
       "      <td>2019</td>\n",
       "    </tr>\n",
       "    <tr>\n",
       "      <th>2</th>\n",
       "      <td>10026</td>\n",
       "      <td>2019-11-06</td>\n",
       "      <td>G8427</td>\n",
       "      <td>NaN</td>\n",
       "      <td>2019</td>\n",
       "    </tr>\n",
       "    <tr>\n",
       "      <th>3</th>\n",
       "      <td>10026</td>\n",
       "      <td>2019-10-02</td>\n",
       "      <td>92134</td>\n",
       "      <td>NaN</td>\n",
       "      <td>2019</td>\n",
       "    </tr>\n",
       "    <tr>\n",
       "      <th>4</th>\n",
       "      <td>10026</td>\n",
       "      <td>2019-09-23</td>\n",
       "      <td>92014</td>\n",
       "      <td>25</td>\n",
       "      <td>2019</td>\n",
       "    </tr>\n",
       "  </tbody>\n",
       "</table>\n",
       "</div>"
      ],
      "text/plain": [
       "   patient_id        dos procedure_code  mod  year\n",
       "0       10026 2019-12-14          2027F  NaN  2019\n",
       "1       10026 2019-11-13          92014   25  2019\n",
       "2       10026 2019-11-06          G8427  NaN  2019\n",
       "3       10026 2019-10-02          92134  NaN  2019\n",
       "4       10026 2019-09-23          92014   25  2019"
      ]
     },
     "execution_count": 248,
     "metadata": {},
     "output_type": "execute_result"
    }
   ],
   "source": [
    "data_pct[\"dos\"] = pd.to_datetime(data_pct['dos'])\n",
    "data_pct['year']=data_pct['dos'].dt.year\n",
    "data_pct.head()"
   ]
  },
  {
   "cell_type": "code",
   "execution_count": 249,
   "id": "alternative-circulation",
   "metadata": {},
   "outputs": [
    {
     "data": {
      "text/plain": [
       "array(['2027F', '92014', 'G8427', '92134', '2026F', '1036F', '92012',\n",
       "       '92226', 'EYLEAX1', '99213', '92015', '99212', '3072F', '2019F',\n",
       "       '4177F', '92083', '67210', '92250', 'C9257', '92235', 'G8397',\n",
       "       '92135', '99214', '76512', '67228', '92133', '2022F', '5010F',\n",
       "       '2024F', '4040F', '3284F', '92225', '67028', 'J2778PF', 'J3590',\n",
       "       'J9035', '92273', 'G8482', '67040', '92020', 'G8420', '99499',\n",
       "       '92136', 'G8950', '67028MCR', 'J0178OU', 'J0178', 'LACS', '92002',\n",
       "       '99024', 'G8753', 'LUC5SYRX1', 'G8756', 'G8754', 'G9974', 'J2778',\n",
       "       'J7312', '92242', '67041', '92081', 'G9744', '66984', 'J7999',\n",
       "       '3285F', '2021F', 'J2778-5', 'J2778,05MG', 'J2778-5P', 'G8752',\n",
       "       'AVASTIN', 'G9903', 'RS000', '66821', 'G8918', 'G8907', 'J3490',\n",
       "       '1', 'J9035,J3490,Q9977', 'D0000', '92283', 'J2778P', 'LUC5MG',\n",
       "       'G8428', 'J2778DME', '92240', 'J2778POU'], dtype=object)"
      ]
     },
     "execution_count": 249,
     "metadata": {},
     "output_type": "execute_result"
    }
   ],
   "source": [
    "data_pct['procedure_code'].unique()"
   ]
  },
  {
   "cell_type": "code",
   "execution_count": 250,
   "id": "medical-browser",
   "metadata": {},
   "outputs": [
    {
     "name": "stdout",
     "output_type": "stream",
     "text": [
      "\n",
      "Missing Value Summary\n",
      "-----------------------------------\n",
      "patient_id           0\n",
      "dos                  0\n",
      "procedure_code       0\n",
      "mod               3709\n",
      "year                 0\n",
      "dtype: int64\n",
      "There were 3709 rows with missing modifier in data_pct dataset\n"
     ]
    }
   ],
   "source": [
    "#Check missing values in specified columns. Note the missing value in Treatment Plan is not counted. \n",
    "columns_to_check =['patient_id', 'dos', 'procedure_code', 'mod']\n",
    "row_with_missing_cx = [row_idx for row_idx,row in data_pct[columns_to_check].isnull().iterrows() if True in row.values]\n",
    "print(\"\\nMissing Value Summary\\n{}\".format(\"-\"*35))\n",
    "print(data_pct.isnull().sum(axis = 0))\n",
    "if len(row_with_missing_cx) > 0:\n",
    "    print(\"There were {} rows with missing modifier in data_pct dataset\".format(len(row_with_missing_cx)))\n",
    "else:\n",
    "    print(\"There were no rows with missing data\")"
   ]
  },
  {
   "cell_type": "code",
   "execution_count": 251,
   "id": "included-trust",
   "metadata": {},
   "outputs": [],
   "source": [
    "data_pct = data_pct.fillna(\"NA\").reset_index(drop = True)"
   ]
  },
  {
   "cell_type": "markdown",
   "id": "satisfactory-stations",
   "metadata": {},
   "source": [
    "# 2. Answers to questions"
   ]
  },
  {
   "cell_type": "markdown",
   "id": "personalized-adaptation",
   "metadata": {},
   "source": [
    "### Q2. How many patients have Wet Age-Related Macular Degeneration (wAMD) in the given dataset?"
   ]
  },
  {
   "cell_type": "code",
   "execution_count": 111,
   "id": "short-amazon",
   "metadata": {},
   "outputs": [
    {
     "data": {
      "text/plain": [
       "(856, 4)"
      ]
     },
     "execution_count": 111,
     "metadata": {},
     "output_type": "execute_result"
    }
   ],
   "source": [
    "h=data_dx[data_dx['dx_code'].str.contains('H35.32', case=False)]\n",
    "h.shape"
   ]
  },
  {
   "cell_type": "code",
   "execution_count": 112,
   "id": "framed-settle",
   "metadata": {},
   "outputs": [
    {
     "name": "stdout",
     "output_type": "stream",
     "text": [
      "The numbe of patients having Wet Age-Related Macular Degeneration (wAMD) is 233\n"
     ]
    }
   ],
   "source": [
    "hcnt=h.groupby(['pt_id'],as_index=False).agg(order=('dx_code', 'count'))\n",
    "print('The numbe of patients having Wet Age-Related Macular Degeneration (wAMD) is {}'.format(len(hcnt)))"
   ]
  },
  {
   "cell_type": "raw",
   "id": "proud-toddler",
   "metadata": {},
   "source": [
    "h[h['year']==2019].groupby(['pt_id'],as_index=False).agg(order=('dx_code', 'count'))"
   ]
  },
  {
   "cell_type": "markdown",
   "id": "neither-mistake",
   "metadata": {},
   "source": [
    "### Q3. How many patients have wAMD in 2019?"
   ]
  },
  {
   "cell_type": "code",
   "execution_count": 116,
   "id": "immediate-premises",
   "metadata": {},
   "outputs": [
    {
     "name": "stdout",
     "output_type": "stream",
     "text": [
      "The numbe of patients having Wet Age-Related Macular Degeneration (wAMD) in 2019 is 66\n"
     ]
    }
   ],
   "source": [
    "hcnt_2019=h[h['year']==2019].groupby(['pt_id'],as_index=False).agg(order=('dx_code', 'count'))\n",
    "print('The numbe of patients having Wet Age-Related Macular Degeneration (wAMD) in 2019 is {}'.format(len(hcnt_2019)))"
   ]
  },
  {
   "cell_type": "markdown",
   "id": "similar-status",
   "metadata": {},
   "source": [
    "### Q4. How many patients have wAMD between 2014-2017, stratified by sex?"
   ]
  },
  {
   "cell_type": "code",
   "execution_count": 117,
   "id": "statewide-madison",
   "metadata": {},
   "outputs": [
    {
     "data": {
      "text/html": [
       "<div>\n",
       "<style scoped>\n",
       "    .dataframe tbody tr th:only-of-type {\n",
       "        vertical-align: middle;\n",
       "    }\n",
       "\n",
       "    .dataframe tbody tr th {\n",
       "        vertical-align: top;\n",
       "    }\n",
       "\n",
       "    .dataframe thead th {\n",
       "        text-align: right;\n",
       "    }\n",
       "</style>\n",
       "<table border=\"1\" class=\"dataframe\">\n",
       "  <thead>\n",
       "    <tr style=\"text-align: right;\">\n",
       "      <th></th>\n",
       "      <th>pt_id</th>\n",
       "      <th>sex</th>\n",
       "      <th>dos</th>\n",
       "      <th>dx_code</th>\n",
       "      <th>year</th>\n",
       "    </tr>\n",
       "  </thead>\n",
       "  <tbody>\n",
       "    <tr>\n",
       "      <th>0</th>\n",
       "      <td>13151</td>\n",
       "      <td>F</td>\n",
       "      <td>2018-04-10</td>\n",
       "      <td>H35.3231</td>\n",
       "      <td>2018</td>\n",
       "    </tr>\n",
       "    <tr>\n",
       "      <th>1</th>\n",
       "      <td>13151</td>\n",
       "      <td>F</td>\n",
       "      <td>2018-05-22</td>\n",
       "      <td>H35.3231</td>\n",
       "      <td>2018</td>\n",
       "    </tr>\n",
       "    <tr>\n",
       "      <th>2</th>\n",
       "      <td>13151</td>\n",
       "      <td>F</td>\n",
       "      <td>2018-07-17</td>\n",
       "      <td>H35.3220</td>\n",
       "      <td>2018</td>\n",
       "    </tr>\n",
       "    <tr>\n",
       "      <th>3</th>\n",
       "      <td>13151</td>\n",
       "      <td>F</td>\n",
       "      <td>2018-09-25</td>\n",
       "      <td>H35.3220</td>\n",
       "      <td>2018</td>\n",
       "    </tr>\n",
       "    <tr>\n",
       "      <th>4</th>\n",
       "      <td>13151</td>\n",
       "      <td>F</td>\n",
       "      <td>2018-12-18</td>\n",
       "      <td>H35.3220</td>\n",
       "      <td>2018</td>\n",
       "    </tr>\n",
       "  </tbody>\n",
       "</table>\n",
       "</div>"
      ],
      "text/plain": [
       "   pt_id sex        dos   dx_code  year\n",
       "0  13151   F 2018-04-10  H35.3231  2018\n",
       "1  13151   F 2018-05-22  H35.3231  2018\n",
       "2  13151   F 2018-07-17  H35.3220  2018\n",
       "3  13151   F 2018-09-25  H35.3220  2018\n",
       "4  13151   F 2018-12-18  H35.3220  2018"
      ]
     },
     "execution_count": 117,
     "metadata": {},
     "output_type": "execute_result"
    },
    {
     "data": {
      "text/plain": [
       "(856, 5)"
      ]
     },
     "execution_count": 117,
     "metadata": {},
     "output_type": "execute_result"
    }
   ],
   "source": [
    "pt_h = pd.merge(data_pt, h, on='pt_id', how='inner')\n",
    "pt_h.head()\n",
    "pt_h.shape"
   ]
  },
  {
   "cell_type": "code",
   "execution_count": 136,
   "id": "precious-custom",
   "metadata": {},
   "outputs": [
    {
     "name": "stdout",
     "output_type": "stream",
     "text": [
      "The numbe of patients having Wet Age-Related Macular Degeneration (wAMD) between 2014 and 2017, stratified by sex\n"
     ]
    },
    {
     "data": {
      "text/html": [
       "<div>\n",
       "<style scoped>\n",
       "    .dataframe tbody tr th:only-of-type {\n",
       "        vertical-align: middle;\n",
       "    }\n",
       "\n",
       "    .dataframe tbody tr th {\n",
       "        vertical-align: top;\n",
       "    }\n",
       "\n",
       "    .dataframe thead th {\n",
       "        text-align: right;\n",
       "    }\n",
       "</style>\n",
       "<table border=\"1\" class=\"dataframe\">\n",
       "  <thead>\n",
       "    <tr style=\"text-align: right;\">\n",
       "      <th></th>\n",
       "      <th>sex</th>\n",
       "      <th>order</th>\n",
       "    </tr>\n",
       "  </thead>\n",
       "  <tbody>\n",
       "    <tr>\n",
       "      <th>0</th>\n",
       "      <td>F</td>\n",
       "      <td>174</td>\n",
       "    </tr>\n",
       "    <tr>\n",
       "      <th>1</th>\n",
       "      <td>M</td>\n",
       "      <td>214</td>\n",
       "    </tr>\n",
       "    <tr>\n",
       "      <th>2</th>\n",
       "      <td>N</td>\n",
       "      <td>1</td>\n",
       "    </tr>\n",
       "  </tbody>\n",
       "</table>\n",
       "</div>"
      ],
      "text/plain": [
       "  sex  order\n",
       "0   F    174\n",
       "1   M    214\n",
       "2   N      1"
      ]
     },
     "execution_count": 136,
     "metadata": {},
     "output_type": "execute_result"
    }
   ],
   "source": [
    "pt_h_14to17=pt_h[(pt_h['year']>=2014) & (pt_h['year']<=2017)]\n",
    "print('The numbe of patients having Wet Age-Related Macular Degeneration (wAMD) between 2014 and 2017, stratified by sex')\n",
    "pt_h_14to17.groupby(['sex'],as_index=False).agg(order=('pt_id', 'count'))"
   ]
  },
  {
   "cell_type": "markdown",
   "id": "fewer-torture",
   "metadata": {},
   "source": [
    "### Q5. How would you determine if sex is associated with an increased risk of wAMD?"
   ]
  },
  {
   "cell_type": "code",
   "execution_count": 244,
   "id": "flush-lodging",
   "metadata": {},
   "outputs": [
    {
     "data": {
      "text/html": [
       "<div>\n",
       "<style scoped>\n",
       "    .dataframe tbody tr th:only-of-type {\n",
       "        vertical-align: middle;\n",
       "    }\n",
       "\n",
       "    .dataframe tbody tr th {\n",
       "        vertical-align: top;\n",
       "    }\n",
       "\n",
       "    .dataframe thead th {\n",
       "        text-align: right;\n",
       "    }\n",
       "</style>\n",
       "<table border=\"1\" class=\"dataframe\">\n",
       "  <thead>\n",
       "    <tr style=\"text-align: right;\">\n",
       "      <th></th>\n",
       "      <th>sex</th>\n",
       "      <th>order</th>\n",
       "    </tr>\n",
       "  </thead>\n",
       "  <tbody>\n",
       "    <tr>\n",
       "      <th>0</th>\n",
       "      <td>F</td>\n",
       "      <td>423</td>\n",
       "    </tr>\n",
       "    <tr>\n",
       "      <th>1</th>\n",
       "      <td>M</td>\n",
       "      <td>429</td>\n",
       "    </tr>\n",
       "    <tr>\n",
       "      <th>2</th>\n",
       "      <td>N</td>\n",
       "      <td>4</td>\n",
       "    </tr>\n",
       "  </tbody>\n",
       "</table>\n",
       "</div>"
      ],
      "text/plain": [
       "  sex  order\n",
       "0   F    423\n",
       "1   M    429\n",
       "2   N      4"
      ]
     },
     "execution_count": 244,
     "metadata": {},
     "output_type": "execute_result"
    }
   ],
   "source": [
    "pt_h_all=pt_h.groupby(['sex'],as_index=False).agg(order=('pt_id', 'count'))\n",
    "#print('The numbe of patients having Wet Age-Related Macular Degeneration (wAMD), stratified by sex')\n",
    "pt_h_all"
   ]
  },
  {
   "cell_type": "markdown",
   "id": "threatened-marks",
   "metadata": {},
   "source": [
    "### Q6. How many women diagnosed with wAMD between 2014-2017 also had an intravitreal injection during that time?"
   ]
  },
  {
   "cell_type": "code",
   "execution_count": 2,
   "id": "healthy-cleaners",
   "metadata": {},
   "outputs": [
    {
     "ename": "NameError",
     "evalue": "name 'data_pct' is not defined",
     "output_type": "error",
     "traceback": [
      "\u001b[0;31m---------------------------------------------------------------------------\u001b[0m",
      "\u001b[0;31mNameError\u001b[0m                                 Traceback (most recent call last)",
      "\u001b[0;32m<ipython-input-2-dcb993ada8fd>\u001b[0m in \u001b[0;36m<module>\u001b[0;34m\u001b[0m\n\u001b[0;32m----> 1\u001b[0;31m \u001b[0mdata_pct\u001b[0m\u001b[0;34m.\u001b[0m\u001b[0mrename\u001b[0m\u001b[0;34m(\u001b[0m\u001b[0mcolumns\u001b[0m\u001b[0;34m=\u001b[0m\u001b[0;34m{\u001b[0m\u001b[0;34m'patient_id'\u001b[0m\u001b[0;34m:\u001b[0m \u001b[0;34m'pt_id'\u001b[0m\u001b[0;34m}\u001b[0m\u001b[0;34m,\u001b[0m \u001b[0minplace\u001b[0m\u001b[0;34m=\u001b[0m\u001b[0;32mTrue\u001b[0m\u001b[0;34m)\u001b[0m\u001b[0;34m\u001b[0m\u001b[0;34m\u001b[0m\u001b[0m\n\u001b[0m\u001b[1;32m      2\u001b[0m \u001b[0mpt_h_pct\u001b[0m \u001b[0;34m=\u001b[0m \u001b[0mpd\u001b[0m\u001b[0;34m.\u001b[0m\u001b[0mmerge\u001b[0m\u001b[0;34m(\u001b[0m\u001b[0mpt_h_14to17\u001b[0m\u001b[0;34m,\u001b[0m \u001b[0mdata_pct\u001b[0m\u001b[0;34m,\u001b[0m \u001b[0mon\u001b[0m\u001b[0;34m=\u001b[0m\u001b[0;34m[\u001b[0m\u001b[0;34m'pt_id'\u001b[0m\u001b[0;34m,\u001b[0m\u001b[0;34m'year'\u001b[0m\u001b[0;34m]\u001b[0m\u001b[0;34m,\u001b[0m \u001b[0mhow\u001b[0m\u001b[0;34m=\u001b[0m\u001b[0;34m'inner'\u001b[0m\u001b[0;34m)\u001b[0m\u001b[0;34m\u001b[0m\u001b[0;34m\u001b[0m\u001b[0m\n\u001b[1;32m      3\u001b[0m \u001b[0mpt_h_pct_F\u001b[0m\u001b[0;34m=\u001b[0m\u001b[0mpt_h_pct\u001b[0m\u001b[0;34m[\u001b[0m\u001b[0mpt_h_pct\u001b[0m\u001b[0;34m[\u001b[0m\u001b[0;34m'sex'\u001b[0m\u001b[0;34m]\u001b[0m\u001b[0;34m==\u001b[0m\u001b[0;34m'F'\u001b[0m\u001b[0;34m]\u001b[0m\u001b[0;34m\u001b[0m\u001b[0;34m\u001b[0m\u001b[0m\n",
      "\u001b[0;31mNameError\u001b[0m: name 'data_pct' is not defined"
     ]
    }
   ],
   "source": [
    "data_pct.rename(columns={'patient_id': 'pt_id'}, inplace=True)\n",
    "pt_h_pct = pd.merge(pt_h_14to17, data_pct, on=['pt_id','year'], how='inner')\n",
    "pt_h_pct_F=pt_h_pct[pt_h_pct['sex']=='F']"
   ]
  },
  {
   "cell_type": "markdown",
   "id": "apart-contact",
   "metadata": {},
   "source": [
    "### Q7. What is the most common type of intravitreal injection in women diagnosed with wAMD between 2014-2017?"
   ]
  },
  {
   "cell_type": "code",
   "execution_count": 253,
   "id": "animated-currency",
   "metadata": {},
   "outputs": [
    {
     "data": {
      "text/html": [
       "<div>\n",
       "<style scoped>\n",
       "    .dataframe tbody tr th:only-of-type {\n",
       "        vertical-align: middle;\n",
       "    }\n",
       "\n",
       "    .dataframe tbody tr th {\n",
       "        vertical-align: top;\n",
       "    }\n",
       "\n",
       "    .dataframe thead th {\n",
       "        text-align: right;\n",
       "    }\n",
       "</style>\n",
       "<table border=\"1\" class=\"dataframe\">\n",
       "  <thead>\n",
       "    <tr style=\"text-align: right;\">\n",
       "      <th></th>\n",
       "      <th>order</th>\n",
       "    </tr>\n",
       "    <tr>\n",
       "      <th>mod</th>\n",
       "      <th></th>\n",
       "    </tr>\n",
       "  </thead>\n",
       "  <tbody>\n",
       "    <tr>\n",
       "      <th>RT</th>\n",
       "      <td>148</td>\n",
       "    </tr>\n",
       "    <tr>\n",
       "      <th>NA</th>\n",
       "      <td>125</td>\n",
       "    </tr>\n",
       "    <tr>\n",
       "      <th>LT</th>\n",
       "      <td>28</td>\n",
       "    </tr>\n",
       "  </tbody>\n",
       "</table>\n",
       "</div>"
      ],
      "text/plain": [
       "     order\n",
       "mod       \n",
       "RT     148\n",
       "NA     125\n",
       "LT      28"
      ]
     },
     "execution_count": 253,
     "metadata": {},
     "output_type": "execute_result"
    }
   ],
   "source": [
    "pt_h_pct_F[pt_h_pct_F['procedure_code'].isin(['67028'])].groupby('mod').agg(order=('pt_id','count')).sort_values(by=\"order\",ascending=False)"
   ]
  },
  {
   "cell_type": "markdown",
   "id": "hawaiian-lotus",
   "metadata": {},
   "source": [
    "### Q8. Stratify the type and count of intravitreal injections by eye laterality (right, left, unspecified) in 2014-2017 for patients with wAMD by year."
   ]
  },
  {
   "cell_type": "code",
   "execution_count": 254,
   "id": "detected-devon",
   "metadata": {},
   "outputs": [
    {
     "data": {
      "text/plain": [
       "array(['LT', 'NA', 'RT', '50', '18944008'], dtype=object)"
      ]
     },
     "execution_count": 254,
     "metadata": {},
     "output_type": "execute_result"
    }
   ],
   "source": [
    "df=pt_h_pct[pt_h_pct['procedure_code'].isin(['67028'])].copy()\n",
    "df['mod'].unique()"
   ]
  },
  {
   "cell_type": "code",
   "execution_count": 255,
   "id": "amber-affect",
   "metadata": {},
   "outputs": [
    {
     "data": {
      "text/plain": [
       "array(['LT', 'NA', 'RT'], dtype=object)"
      ]
     },
     "execution_count": 255,
     "metadata": {},
     "output_type": "execute_result"
    }
   ],
   "source": [
    "df['mod']=df['mod'].map(lambda x: x.replace('18944008','RT').replace('50','NA'))\n",
    "df['mod'].unique()"
   ]
  },
  {
   "cell_type": "raw",
   "id": "brilliant-thickness",
   "metadata": {},
   "source": [
    "df.groupby(['year', 'mod'], as_index=False).agg(order=('dos_y','count'))"
   ]
  },
  {
   "cell_type": "code",
   "execution_count": 256,
   "id": "fallen-final",
   "metadata": {},
   "outputs": [
    {
     "data": {
      "text/html": [
       "<div>\n",
       "<style scoped>\n",
       "    .dataframe tbody tr th:only-of-type {\n",
       "        vertical-align: middle;\n",
       "    }\n",
       "\n",
       "    .dataframe tbody tr th {\n",
       "        vertical-align: top;\n",
       "    }\n",
       "\n",
       "    .dataframe thead th {\n",
       "        text-align: right;\n",
       "    }\n",
       "</style>\n",
       "<table border=\"1\" class=\"dataframe\">\n",
       "  <thead>\n",
       "    <tr style=\"text-align: right;\">\n",
       "      <th></th>\n",
       "      <th></th>\n",
       "      <th>dos_y</th>\n",
       "    </tr>\n",
       "    <tr>\n",
       "      <th>year</th>\n",
       "      <th>mod</th>\n",
       "      <th></th>\n",
       "    </tr>\n",
       "  </thead>\n",
       "  <tbody>\n",
       "    <tr>\n",
       "      <th rowspan=\"2\" valign=\"top\">2015</th>\n",
       "      <th>NA</th>\n",
       "      <td>23</td>\n",
       "    </tr>\n",
       "    <tr>\n",
       "      <th>RT</th>\n",
       "      <td>1</td>\n",
       "    </tr>\n",
       "    <tr>\n",
       "      <th rowspan=\"3\" valign=\"top\">2016</th>\n",
       "      <th>LT</th>\n",
       "      <td>5</td>\n",
       "    </tr>\n",
       "    <tr>\n",
       "      <th>NA</th>\n",
       "      <td>185</td>\n",
       "    </tr>\n",
       "    <tr>\n",
       "      <th>RT</th>\n",
       "      <td>27</td>\n",
       "    </tr>\n",
       "    <tr>\n",
       "      <th rowspan=\"3\" valign=\"top\">2017</th>\n",
       "      <th>LT</th>\n",
       "      <td>180</td>\n",
       "    </tr>\n",
       "    <tr>\n",
       "      <th>NA</th>\n",
       "      <td>145</td>\n",
       "    </tr>\n",
       "    <tr>\n",
       "      <th>RT</th>\n",
       "      <td>145</td>\n",
       "    </tr>\n",
       "  </tbody>\n",
       "</table>\n",
       "</div>"
      ],
      "text/plain": [
       "          dos_y\n",
       "year mod       \n",
       "2015 NA      23\n",
       "     RT       1\n",
       "2016 LT       5\n",
       "     NA     185\n",
       "     RT      27\n",
       "2017 LT     180\n",
       "     NA     145\n",
       "     RT     145"
      ]
     },
     "execution_count": 256,
     "metadata": {},
     "output_type": "execute_result"
    }
   ],
   "source": [
    "columns_to_show =['dos_y']\n",
    "pd.pivot_table(df, index = ['year', 'mod'], values=columns_to_show, aggfunc='count')"
   ]
  },
  {
   "cell_type": "markdown",
   "id": "surgical-cisco",
   "metadata": {},
   "source": [
    "### Q9. Find the ratio of patient diagnosis dates that have a corresponding procedure date? Does this ratio tell you anything about the data? If so, what might it indicate?"
   ]
  },
  {
   "cell_type": "code",
   "execution_count": 290,
   "id": "atmospheric-mapping",
   "metadata": {},
   "outputs": [
    {
     "data": {
      "text/html": [
       "<div>\n",
       "<style scoped>\n",
       "    .dataframe tbody tr th:only-of-type {\n",
       "        vertical-align: middle;\n",
       "    }\n",
       "\n",
       "    .dataframe tbody tr th {\n",
       "        vertical-align: top;\n",
       "    }\n",
       "\n",
       "    .dataframe thead th {\n",
       "        text-align: right;\n",
       "    }\n",
       "</style>\n",
       "<table border=\"1\" class=\"dataframe\">\n",
       "  <thead>\n",
       "    <tr style=\"text-align: right;\">\n",
       "      <th></th>\n",
       "      <th>pt_id</th>\n",
       "      <th>sex</th>\n",
       "      <th>dos</th>\n",
       "      <th>dx_code</th>\n",
       "      <th>year</th>\n",
       "    </tr>\n",
       "  </thead>\n",
       "  <tbody>\n",
       "    <tr>\n",
       "      <th>0</th>\n",
       "      <td>13151</td>\n",
       "      <td>F</td>\n",
       "      <td>2018-04-10</td>\n",
       "      <td>H35.3231</td>\n",
       "      <td>2018</td>\n",
       "    </tr>\n",
       "    <tr>\n",
       "      <th>1</th>\n",
       "      <td>13151</td>\n",
       "      <td>F</td>\n",
       "      <td>2018-05-22</td>\n",
       "      <td>H35.3231</td>\n",
       "      <td>2018</td>\n",
       "    </tr>\n",
       "    <tr>\n",
       "      <th>2</th>\n",
       "      <td>13151</td>\n",
       "      <td>F</td>\n",
       "      <td>2018-07-17</td>\n",
       "      <td>H35.3220</td>\n",
       "      <td>2018</td>\n",
       "    </tr>\n",
       "    <tr>\n",
       "      <th>3</th>\n",
       "      <td>13151</td>\n",
       "      <td>F</td>\n",
       "      <td>2018-09-25</td>\n",
       "      <td>H35.3220</td>\n",
       "      <td>2018</td>\n",
       "    </tr>\n",
       "    <tr>\n",
       "      <th>4</th>\n",
       "      <td>13151</td>\n",
       "      <td>F</td>\n",
       "      <td>2018-12-18</td>\n",
       "      <td>H35.3220</td>\n",
       "      <td>2018</td>\n",
       "    </tr>\n",
       "  </tbody>\n",
       "</table>\n",
       "</div>"
      ],
      "text/plain": [
       "   pt_id sex        dos   dx_code  year\n",
       "0  13151   F 2018-04-10  H35.3231  2018\n",
       "1  13151   F 2018-05-22  H35.3231  2018\n",
       "2  13151   F 2018-07-17  H35.3220  2018\n",
       "3  13151   F 2018-09-25  H35.3220  2018\n",
       "4  13151   F 2018-12-18  H35.3220  2018"
      ]
     },
     "execution_count": 290,
     "metadata": {},
     "output_type": "execute_result"
    },
    {
     "data": {
      "text/plain": [
       "(4484, 5)"
      ]
     },
     "execution_count": 290,
     "metadata": {},
     "output_type": "execute_result"
    }
   ],
   "source": [
    "pt_dx = pd.merge(data_pt, data_dx, on='pt_id', how='inner')\n",
    "pt_dx.head()\n",
    "pt_dx.shape"
   ]
  },
  {
   "cell_type": "code",
   "execution_count": 299,
   "id": "mediterranean-pencil",
   "metadata": {},
   "outputs": [
    {
     "data": {
      "text/html": [
       "<div>\n",
       "<style scoped>\n",
       "    .dataframe tbody tr th:only-of-type {\n",
       "        vertical-align: middle;\n",
       "    }\n",
       "\n",
       "    .dataframe tbody tr th {\n",
       "        vertical-align: top;\n",
       "    }\n",
       "\n",
       "    .dataframe thead th {\n",
       "        text-align: right;\n",
       "    }\n",
       "</style>\n",
       "<table border=\"1\" class=\"dataframe\">\n",
       "  <thead>\n",
       "    <tr style=\"text-align: right;\">\n",
       "      <th></th>\n",
       "      <th>pt_id</th>\n",
       "      <th>sex</th>\n",
       "      <th>dos</th>\n",
       "      <th>dx_code</th>\n",
       "      <th>year_x</th>\n",
       "      <th>procedure_code</th>\n",
       "      <th>mod</th>\n",
       "      <th>year_y</th>\n",
       "    </tr>\n",
       "  </thead>\n",
       "  <tbody>\n",
       "    <tr>\n",
       "      <th>0</th>\n",
       "      <td>10026</td>\n",
       "      <td>M</td>\n",
       "      <td>2019-12-14</td>\n",
       "      <td>H35.32</td>\n",
       "      <td>2019.0</td>\n",
       "      <td>2027F</td>\n",
       "      <td>NA</td>\n",
       "      <td>2019</td>\n",
       "    </tr>\n",
       "    <tr>\n",
       "      <th>1</th>\n",
       "      <td>10026</td>\n",
       "      <td>M</td>\n",
       "      <td>2019-11-13</td>\n",
       "      <td>H43.813</td>\n",
       "      <td>2019.0</td>\n",
       "      <td>92014</td>\n",
       "      <td>25</td>\n",
       "      <td>2019</td>\n",
       "    </tr>\n",
       "    <tr>\n",
       "      <th>2</th>\n",
       "      <td>10026</td>\n",
       "      <td>M</td>\n",
       "      <td>2019-11-06</td>\n",
       "      <td>E11.9</td>\n",
       "      <td>2019.0</td>\n",
       "      <td>G8427</td>\n",
       "      <td>NA</td>\n",
       "      <td>2019</td>\n",
       "    </tr>\n",
       "    <tr>\n",
       "      <th>3</th>\n",
       "      <td>10026</td>\n",
       "      <td>M</td>\n",
       "      <td>2019-10-02</td>\n",
       "      <td>H35.81</td>\n",
       "      <td>2019.0</td>\n",
       "      <td>92134</td>\n",
       "      <td>NA</td>\n",
       "      <td>2019</td>\n",
       "    </tr>\n",
       "    <tr>\n",
       "      <th>4</th>\n",
       "      <td>10026</td>\n",
       "      <td>M</td>\n",
       "      <td>2019-09-23</td>\n",
       "      <td>H35.033</td>\n",
       "      <td>2019.0</td>\n",
       "      <td>92014</td>\n",
       "      <td>25</td>\n",
       "      <td>2019</td>\n",
       "    </tr>\n",
       "    <tr>\n",
       "      <th>...</th>\n",
       "      <td>...</td>\n",
       "      <td>...</td>\n",
       "      <td>...</td>\n",
       "      <td>...</td>\n",
       "      <td>...</td>\n",
       "      <td>...</td>\n",
       "      <td>...</td>\n",
       "      <td>...</td>\n",
       "    </tr>\n",
       "    <tr>\n",
       "      <th>5890</th>\n",
       "      <td>43502</td>\n",
       "      <td>M</td>\n",
       "      <td>2016-04-14</td>\n",
       "      <td>H35.3210</td>\n",
       "      <td>2016.0</td>\n",
       "      <td>67028</td>\n",
       "      <td>18944008</td>\n",
       "      <td>2016</td>\n",
       "    </tr>\n",
       "    <tr>\n",
       "      <th>5891</th>\n",
       "      <td>43502</td>\n",
       "      <td>M</td>\n",
       "      <td>2016-05-19</td>\n",
       "      <td>H35.3210</td>\n",
       "      <td>2016.0</td>\n",
       "      <td>67028</td>\n",
       "      <td>18944008</td>\n",
       "      <td>2016</td>\n",
       "    </tr>\n",
       "    <tr>\n",
       "      <th>5892</th>\n",
       "      <td>43502</td>\n",
       "      <td>M</td>\n",
       "      <td>2016-07-21</td>\n",
       "      <td>H35.3210</td>\n",
       "      <td>2016.0</td>\n",
       "      <td>67028</td>\n",
       "      <td>18944008</td>\n",
       "      <td>2016</td>\n",
       "    </tr>\n",
       "    <tr>\n",
       "      <th>5893</th>\n",
       "      <td>43502</td>\n",
       "      <td>M</td>\n",
       "      <td>2016-09-01</td>\n",
       "      <td>H35.3210</td>\n",
       "      <td>2016.0</td>\n",
       "      <td>67028</td>\n",
       "      <td>18944008</td>\n",
       "      <td>2016</td>\n",
       "    </tr>\n",
       "    <tr>\n",
       "      <th>5894</th>\n",
       "      <td>43502</td>\n",
       "      <td>M</td>\n",
       "      <td>2016-10-06</td>\n",
       "      <td>H35.3210</td>\n",
       "      <td>2016.0</td>\n",
       "      <td>67028</td>\n",
       "      <td>18944008</td>\n",
       "      <td>2016</td>\n",
       "    </tr>\n",
       "  </tbody>\n",
       "</table>\n",
       "<p>5895 rows × 8 columns</p>\n",
       "</div>"
      ],
      "text/plain": [
       "      pt_id sex        dos   dx_code  year_x procedure_code       mod  year_y\n",
       "0     10026   M 2019-12-14    H35.32  2019.0          2027F        NA    2019\n",
       "1     10026   M 2019-11-13   H43.813  2019.0          92014        25    2019\n",
       "2     10026   M 2019-11-06     E11.9  2019.0          G8427        NA    2019\n",
       "3     10026   M 2019-10-02    H35.81  2019.0          92134        NA    2019\n",
       "4     10026   M 2019-09-23   H35.033  2019.0          92014        25    2019\n",
       "...     ...  ..        ...       ...     ...            ...       ...     ...\n",
       "5890  43502   M 2016-04-14  H35.3210  2016.0          67028  18944008    2016\n",
       "5891  43502   M 2016-05-19  H35.3210  2016.0          67028  18944008    2016\n",
       "5892  43502   M 2016-07-21  H35.3210  2016.0          67028  18944008    2016\n",
       "5893  43502   M 2016-09-01  H35.3210  2016.0          67028  18944008    2016\n",
       "5894  43502   M 2016-10-06  H35.3210  2016.0          67028  18944008    2016\n",
       "\n",
       "[5895 rows x 8 columns]"
      ]
     },
     "execution_count": 299,
     "metadata": {},
     "output_type": "execute_result"
    }
   ],
   "source": [
    "pt_dx_pct_all = pd.merge(pt_dx, data_pct, on=['pt_id', 'dos'], how='right')\n",
    "pt_dx_pct_all"
   ]
  },
  {
   "cell_type": "raw",
   "id": "medieval-criminal",
   "metadata": {},
   "source": [
    "import missingno as msno\n",
    "mbar=msno.bar(pt_dx_pct_all)"
   ]
  },
  {
   "cell_type": "code",
   "execution_count": 300,
   "id": "absent-enough",
   "metadata": {},
   "outputs": [
    {
     "name": "stdout",
     "output_type": "stream",
     "text": [
      "\n",
      "Missing Value Summary\n",
      "-----------------------------------\n",
      "pt_id              0\n",
      "sex               10\n",
      "dos                0\n",
      "dx_code           10\n",
      "year_x            10\n",
      "procedure_code     0\n",
      "mod                0\n",
      "year_y             0\n",
      "dtype: int64\n"
     ]
    }
   ],
   "source": [
    "#Check missing values in specified columns. \n",
    "columns_to_check =['dx_code']\n",
    "row_with_missing = [row_idx for row_idx, row in pt_dx_pct_all[columns_to_check].isnull().iterrows() if True in row.values]\n",
    "print(\"\\nMissing Value Summary\\n{}\".format(\"-\"*35))\n",
    "print(pt_dx_pct_all.isnull().sum(axis = 0))"
   ]
  },
  {
   "cell_type": "code",
   "execution_count": 298,
   "id": "literary-scanner",
   "metadata": {},
   "outputs": [
    {
     "name": "stdout",
     "output_type": "stream",
     "text": [
      "The ratio of patient diagnosis dates that have a corresponding procedure date is 0.998\n"
     ]
    }
   ],
   "source": [
    "print('The ratio of patient diagnosis dates that have a corresponding procedure date is {:.3f}'.format((len(pt_h_pct_all)-len(row_with_missing))/len(pt_h_pct_all)))"
   ]
  },
  {
   "cell_type": "markdown",
   "id": "sexual-header",
   "metadata": {},
   "source": [
    "### Q10. Are there any issues with the data? If so, what issues did you notice?"
   ]
  },
  {
   "cell_type": "markdown",
   "id": "basic-playback",
   "metadata": {},
   "source": [
    "We notice the following data quality issses:\n",
    "1. There are duplicate values in patient, diagnosis, and procedures data\n",
    "2. In patient data, there are eight distinct values in the sex category. They are normalized to two\n",
    "3. In the patient data, there are 8 patient_id having different sex \n",
    "4. "
   ]
  },
  {
   "cell_type": "markdown",
   "id": "conservative-strategy",
   "metadata": {},
   "source": [
    "### Q11. How would you define completeness of patient notes and how would you go about validating it?"
   ]
  },
  {
   "cell_type": "code",
   "execution_count": null,
   "id": "secondary-insured",
   "metadata": {},
   "outputs": [],
   "source": []
  },
  {
   "cell_type": "markdown",
   "id": "rotary-joseph",
   "metadata": {},
   "source": [
    "### Q12. If you were to build a threshold for acceptable data quality, what would you take into consideration and how would you approach it?"
   ]
  },
  {
   "cell_type": "code",
   "execution_count": null,
   "id": "municipal-writing",
   "metadata": {},
   "outputs": [],
   "source": []
  }
 ],
 "metadata": {
  "kernelspec": {
   "display_name": "viz",
   "language": "python",
   "name": "viz"
  },
  "language_info": {
   "codemirror_mode": {
    "name": "ipython",
    "version": 3
   },
   "file_extension": ".py",
   "mimetype": "text/x-python",
   "name": "python",
   "nbconvert_exporter": "python",
   "pygments_lexer": "ipython3",
   "version": "3.8.5"
  }
 },
 "nbformat": 4,
 "nbformat_minor": 5
}
