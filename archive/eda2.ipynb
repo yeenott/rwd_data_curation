{
 "cells": [
  {
   "cell_type": "code",
   "execution_count": 2,
   "id": "distinguished-reviewer",
   "metadata": {},
   "outputs": [],
   "source": [
    "import numpy as np\n",
    "#import random\n",
    "import pandas as pd\n",
    "from IPython.display import Image\n",
    "import matplotlib.pyplot as plt\n",
    "import os\n",
    "import seaborn as sns\n",
    "from collections import defaultdict"
   ]
  },
  {
   "cell_type": "code",
   "execution_count": 3,
   "id": "cubic-racing",
   "metadata": {},
   "outputs": [],
   "source": [
    "from IPython.core.interactiveshell import InteractiveShell\n",
    "InteractiveShell.ast_node_interactivity = \"all\""
   ]
  },
  {
   "cell_type": "code",
   "execution_count": 57,
   "id": "hawaiian-angle",
   "metadata": {},
   "outputs": [],
   "source": [
    "DATA_DIR = os.path.join('.',\"data\")"
   ]
  },
  {
   "cell_type": "markdown",
   "id": "racial-auditor",
   "metadata": {},
   "source": [
    "## 1.1 Checking the patient dataset"
   ]
  },
  {
   "cell_type": "code",
   "execution_count": 310,
   "id": "accomplished-healing",
   "metadata": {},
   "outputs": [
    {
     "data": {
      "text/html": [
       "<div>\n",
       "<style scoped>\n",
       "    .dataframe tbody tr th:only-of-type {\n",
       "        vertical-align: middle;\n",
       "    }\n",
       "\n",
       "    .dataframe tbody tr th {\n",
       "        vertical-align: top;\n",
       "    }\n",
       "\n",
       "    .dataframe thead th {\n",
       "        text-align: right;\n",
       "    }\n",
       "</style>\n",
       "<table border=\"1\" class=\"dataframe\">\n",
       "  <thead>\n",
       "    <tr style=\"text-align: right;\">\n",
       "      <th></th>\n",
       "      <th>pt_id</th>\n",
       "      <th>sex</th>\n",
       "    </tr>\n",
       "  </thead>\n",
       "  <tbody>\n",
       "    <tr>\n",
       "      <th>0</th>\n",
       "      <td>13151</td>\n",
       "      <td>Female</td>\n",
       "    </tr>\n",
       "    <tr>\n",
       "      <th>1</th>\n",
       "      <td>43463</td>\n",
       "      <td>Female</td>\n",
       "    </tr>\n",
       "    <tr>\n",
       "      <th>2</th>\n",
       "      <td>42834</td>\n",
       "      <td>Male</td>\n",
       "    </tr>\n",
       "    <tr>\n",
       "      <th>3</th>\n",
       "      <td>37531</td>\n",
       "      <td>Female</td>\n",
       "    </tr>\n",
       "    <tr>\n",
       "      <th>4</th>\n",
       "      <td>31613</td>\n",
       "      <td>Female</td>\n",
       "    </tr>\n",
       "  </tbody>\n",
       "</table>\n",
       "</div>"
      ],
      "text/plain": [
       "   pt_id     sex\n",
       "0  13151  Female\n",
       "1  43463  Female\n",
       "2  42834    Male\n",
       "3  37531  Female\n",
       "4  31613  Female"
      ]
     },
     "execution_count": 310,
     "metadata": {},
     "output_type": "execute_result"
    },
    {
     "data": {
      "text/plain": [
       "(945, 2)"
      ]
     },
     "execution_count": 310,
     "metadata": {},
     "output_type": "execute_result"
    }
   ],
   "source": [
    "data_pt = pd.read_csv(os.path.join(DATA_DIR, 'patient.csv'), sep='\\t')\n",
    "data_pt.rename(columns={'patientid': 'pt_id'}, inplace=True)\n",
    "data_pt.head()\n",
    "data_pt.shape"
   ]
  },
  {
   "cell_type": "code",
   "execution_count": 311,
   "id": "outdoor-fight",
   "metadata": {},
   "outputs": [
    {
     "data": {
      "text/plain": [
       "(940, 2)"
      ]
     },
     "execution_count": 311,
     "metadata": {},
     "output_type": "execute_result"
    }
   ],
   "source": [
    "data_pt.drop_duplicates(inplace=True)\n",
    "data_pt.shape"
   ]
  },
  {
   "cell_type": "code",
   "execution_count": 312,
   "id": "revolutionary-zimbabwe",
   "metadata": {},
   "outputs": [
    {
     "data": {
      "text/plain": [
       "(932, 2)"
      ]
     },
     "execution_count": 312,
     "metadata": {},
     "output_type": "execute_result"
    }
   ],
   "source": [
    "data_pt.drop_duplicates(subset=['pt_id'], inplace=True)\n",
    "data_pt.shape"
   ]
  },
  {
   "cell_type": "code",
   "execution_count": 313,
   "id": "blind-mortgage",
   "metadata": {},
   "outputs": [
    {
     "data": {
      "text/plain": [
       "array(['Female', 'Male', 'female', 'f', 'male', 'Not Reported', 'M', 'm'],\n",
       "      dtype=object)"
      ]
     },
     "execution_count": 313,
     "metadata": {},
     "output_type": "execute_result"
    }
   ],
   "source": [
    "data_pt['sex'].unique()"
   ]
  },
  {
   "cell_type": "code",
   "execution_count": 314,
   "id": "enclosed-invasion",
   "metadata": {},
   "outputs": [
    {
     "data": {
      "text/plain": [
       "array(['F', 'M', 'N'], dtype=object)"
      ]
     },
     "execution_count": 314,
     "metadata": {},
     "output_type": "execute_result"
    }
   ],
   "source": [
    "data_pt['sex'] = data_pt['sex'].astype(str).str.upper().str[0]\n",
    "data_pt['sex'].unique()"
   ]
  },
  {
   "cell_type": "code",
   "execution_count": 323,
   "id": "turkish-trustee",
   "metadata": {},
   "outputs": [
    {
     "name": "stdout",
     "output_type": "stream",
     "text": [
      "\n",
      "Missing Value Summary\n",
      "-----------------------------------\n",
      "pt_id    0\n",
      "sex      0\n",
      "dtype: int64\n",
      "There were no rows with missing data\n"
     ]
    }
   ],
   "source": [
    "#Check missing values in specified columns.  \n",
    "columns_to_check =['pt_id', 'sex']\n",
    "row_with_missing_cx = [row_idx for row_idx, row in data_pt[columns_to_check].isnull().iterrows() if True in row.values]\n",
    "print(\"\\nMissing Value Summary\\n{}\".format(\"-\"*35))\n",
    "print(data_pt.isnull().sum(axis = 0))\n",
    "if len(row_with_missing_cx) > 0:\n",
    "    print(\"There were {} rows with missing diagnosis in data_pct dataset\".format(len(row_with_missing_cx)))\n",
    "else:\n",
    "    print(\"There were no rows with missing data\")"
   ]
  },
  {
   "cell_type": "markdown",
   "id": "copyrighted-melissa",
   "metadata": {},
   "source": [
    "## 1.2. Check the diagnosis dataset"
   ]
  },
  {
   "cell_type": "code",
   "execution_count": 324,
   "id": "systematic-princeton",
   "metadata": {},
   "outputs": [
    {
     "data": {
      "text/html": [
       "<div>\n",
       "<style scoped>\n",
       "    .dataframe tbody tr th:only-of-type {\n",
       "        vertical-align: middle;\n",
       "    }\n",
       "\n",
       "    .dataframe tbody tr th {\n",
       "        vertical-align: top;\n",
       "    }\n",
       "\n",
       "    .dataframe thead th {\n",
       "        text-align: right;\n",
       "    }\n",
       "</style>\n",
       "<table border=\"1\" class=\"dataframe\">\n",
       "  <thead>\n",
       "    <tr style=\"text-align: right;\">\n",
       "      <th></th>\n",
       "      <th>pt_id</th>\n",
       "      <th>dos</th>\n",
       "      <th>dx_code</th>\n",
       "    </tr>\n",
       "  </thead>\n",
       "  <tbody>\n",
       "    <tr>\n",
       "      <th>0</th>\n",
       "      <td>13151</td>\n",
       "      <td>2018-04-10</td>\n",
       "      <td>H35.3231</td>\n",
       "    </tr>\n",
       "    <tr>\n",
       "      <th>1</th>\n",
       "      <td>13151</td>\n",
       "      <td>2018-05-22</td>\n",
       "      <td>H35.3231</td>\n",
       "    </tr>\n",
       "    <tr>\n",
       "      <th>2</th>\n",
       "      <td>13151</td>\n",
       "      <td>2018-07-17</td>\n",
       "      <td>H35.3220</td>\n",
       "    </tr>\n",
       "    <tr>\n",
       "      <th>3</th>\n",
       "      <td>13151</td>\n",
       "      <td>2018-09-25</td>\n",
       "      <td>H35.3220</td>\n",
       "    </tr>\n",
       "    <tr>\n",
       "      <th>4</th>\n",
       "      <td>13151</td>\n",
       "      <td>2018-12-18</td>\n",
       "      <td>H35.3220</td>\n",
       "    </tr>\n",
       "  </tbody>\n",
       "</table>\n",
       "</div>"
      ],
      "text/plain": [
       "   pt_id         dos   dx_code\n",
       "0  13151  2018-04-10  H35.3231\n",
       "1  13151  2018-05-22  H35.3231\n",
       "2  13151  2018-07-17  H35.3220\n",
       "3  13151  2018-09-25  H35.3220\n",
       "4  13151  2018-12-18  H35.3220"
      ]
     },
     "execution_count": 324,
     "metadata": {},
     "output_type": "execute_result"
    },
    {
     "data": {
      "text/plain": [
       "(4672, 3)"
      ]
     },
     "execution_count": 324,
     "metadata": {},
     "output_type": "execute_result"
    },
    {
     "data": {
      "text/plain": [
       "pt_id       int64\n",
       "dos        object\n",
       "dx_code    object\n",
       "dtype: object"
      ]
     },
     "execution_count": 324,
     "metadata": {},
     "output_type": "execute_result"
    }
   ],
   "source": [
    "data_dx = pd.read_csv(os.path.join(DATA_DIR, 'diagnosis.csv'), sep='\\t')\n",
    "data_dx.head()\n",
    "data_dx.shape\n",
    "data_dx.dtypes"
   ]
  },
  {
   "cell_type": "code",
   "execution_count": 487,
   "id": "hourly-helen",
   "metadata": {},
   "outputs": [
    {
     "data": {
      "text/html": [
       "<div>\n",
       "<style scoped>\n",
       "    .dataframe tbody tr th:only-of-type {\n",
       "        vertical-align: middle;\n",
       "    }\n",
       "\n",
       "    .dataframe tbody tr th {\n",
       "        vertical-align: top;\n",
       "    }\n",
       "\n",
       "    .dataframe thead th {\n",
       "        text-align: right;\n",
       "    }\n",
       "</style>\n",
       "<table border=\"1\" class=\"dataframe\">\n",
       "  <thead>\n",
       "    <tr style=\"text-align: right;\">\n",
       "      <th></th>\n",
       "      <th>pt_id</th>\n",
       "      <th>year</th>\n",
       "    </tr>\n",
       "  </thead>\n",
       "  <tbody>\n",
       "    <tr>\n",
       "      <th>count</th>\n",
       "      <td>4484.000000</td>\n",
       "      <td>4484.000000</td>\n",
       "    </tr>\n",
       "    <tr>\n",
       "      <th>mean</th>\n",
       "      <td>28106.253568</td>\n",
       "      <td>2016.185326</td>\n",
       "    </tr>\n",
       "    <tr>\n",
       "      <th>std</th>\n",
       "      <td>11515.361512</td>\n",
       "      <td>1.880254</td>\n",
       "    </tr>\n",
       "    <tr>\n",
       "      <th>min</th>\n",
       "      <td>10026.000000</td>\n",
       "      <td>2013.000000</td>\n",
       "    </tr>\n",
       "    <tr>\n",
       "      <th>25%</th>\n",
       "      <td>17673.000000</td>\n",
       "      <td>2015.000000</td>\n",
       "    </tr>\n",
       "    <tr>\n",
       "      <th>50%</th>\n",
       "      <td>27032.000000</td>\n",
       "      <td>2016.000000</td>\n",
       "    </tr>\n",
       "    <tr>\n",
       "      <th>75%</th>\n",
       "      <td>37531.000000</td>\n",
       "      <td>2018.000000</td>\n",
       "    </tr>\n",
       "    <tr>\n",
       "      <th>max</th>\n",
       "      <td>49965.000000</td>\n",
       "      <td>2019.000000</td>\n",
       "    </tr>\n",
       "  </tbody>\n",
       "</table>\n",
       "</div>"
      ],
      "text/plain": [
       "              pt_id         year\n",
       "count   4484.000000  4484.000000\n",
       "mean   28106.253568  2016.185326\n",
       "std    11515.361512     1.880254\n",
       "min    10026.000000  2013.000000\n",
       "25%    17673.000000  2015.000000\n",
       "50%    27032.000000  2016.000000\n",
       "75%    37531.000000  2018.000000\n",
       "max    49965.000000  2019.000000"
      ]
     },
     "execution_count": 487,
     "metadata": {},
     "output_type": "execute_result"
    }
   ],
   "source": [
    "data_dx[\"dos\"] = pd.to_datetime(data_dx['dos'])\n",
    "data_dx['year']=data_dx['dos'].dt.year"
   ]
  },
  {
   "cell_type": "code",
   "execution_count": 326,
   "id": "expired-shannon",
   "metadata": {},
   "outputs": [
    {
     "data": {
      "text/plain": [
       "(4484, 4)"
      ]
     },
     "execution_count": 326,
     "metadata": {},
     "output_type": "execute_result"
    }
   ],
   "source": [
    "data_dx.drop_duplicates(inplace=True)\n",
    "data_dx.shape"
   ]
  },
  {
   "cell_type": "code",
   "execution_count": 488,
   "id": "small-bride",
   "metadata": {},
   "outputs": [
    {
     "data": {
      "text/html": [
       "<div>\n",
       "<style scoped>\n",
       "    .dataframe tbody tr th:only-of-type {\n",
       "        vertical-align: middle;\n",
       "    }\n",
       "\n",
       "    .dataframe tbody tr th {\n",
       "        vertical-align: top;\n",
       "    }\n",
       "\n",
       "    .dataframe thead th {\n",
       "        text-align: right;\n",
       "    }\n",
       "</style>\n",
       "<table border=\"1\" class=\"dataframe\">\n",
       "  <thead>\n",
       "    <tr style=\"text-align: right;\">\n",
       "      <th></th>\n",
       "      <th>pt_id</th>\n",
       "      <th>year</th>\n",
       "    </tr>\n",
       "  </thead>\n",
       "  <tbody>\n",
       "    <tr>\n",
       "      <th>count</th>\n",
       "      <td>4484.000000</td>\n",
       "      <td>4484.000000</td>\n",
       "    </tr>\n",
       "    <tr>\n",
       "      <th>mean</th>\n",
       "      <td>28106.253568</td>\n",
       "      <td>2016.185326</td>\n",
       "    </tr>\n",
       "    <tr>\n",
       "      <th>std</th>\n",
       "      <td>11515.361512</td>\n",
       "      <td>1.880254</td>\n",
       "    </tr>\n",
       "    <tr>\n",
       "      <th>min</th>\n",
       "      <td>10026.000000</td>\n",
       "      <td>2013.000000</td>\n",
       "    </tr>\n",
       "    <tr>\n",
       "      <th>25%</th>\n",
       "      <td>17673.000000</td>\n",
       "      <td>2015.000000</td>\n",
       "    </tr>\n",
       "    <tr>\n",
       "      <th>50%</th>\n",
       "      <td>27032.000000</td>\n",
       "      <td>2016.000000</td>\n",
       "    </tr>\n",
       "    <tr>\n",
       "      <th>75%</th>\n",
       "      <td>37531.000000</td>\n",
       "      <td>2018.000000</td>\n",
       "    </tr>\n",
       "    <tr>\n",
       "      <th>max</th>\n",
       "      <td>49965.000000</td>\n",
       "      <td>2019.000000</td>\n",
       "    </tr>\n",
       "  </tbody>\n",
       "</table>\n",
       "</div>"
      ],
      "text/plain": [
       "              pt_id         year\n",
       "count   4484.000000  4484.000000\n",
       "mean   28106.253568  2016.185326\n",
       "std    11515.361512     1.880254\n",
       "min    10026.000000  2013.000000\n",
       "25%    17673.000000  2015.000000\n",
       "50%    27032.000000  2016.000000\n",
       "75%    37531.000000  2018.000000\n",
       "max    49965.000000  2019.000000"
      ]
     },
     "execution_count": 488,
     "metadata": {},
     "output_type": "execute_result"
    }
   ],
   "source": [
    "data_dx.describe()"
   ]
  },
  {
   "cell_type": "code",
   "execution_count": 327,
   "id": "neither-diversity",
   "metadata": {},
   "outputs": [
    {
     "name": "stdout",
     "output_type": "stream",
     "text": [
      "\n",
      "Missing Value Summary\n",
      "-----------------------------------\n",
      "pt_id      0\n",
      "dos        0\n",
      "dx_code    0\n",
      "year       0\n",
      "dtype: int64\n",
      "There were no rows with missing data\n"
     ]
    }
   ],
   "source": [
    "#Check missing values in specified columns. Note the missing value in Treatment Plan is not counted. \n",
    "columns_to_check =['pt_id', 'dos', 'dx_code']\n",
    "row_with_missing_cx = [row_idx for row_idx, row in data_dx[columns_to_check].isnull().iterrows() if True in row.values]\n",
    "print(\"\\nMissing Value Summary\\n{}\".format(\"-\"*35))\n",
    "print(data_dx.isnull().sum(axis = 0))\n",
    "if len(row_with_missing_cx) > 0:\n",
    "    print(\"There were {} rows with missing diagnosis in data_pct dataset\".format(len(row_with_missing_cx)))\n",
    "else:\n",
    "    print(\"There were no rows with missing data\")"
   ]
  },
  {
   "cell_type": "markdown",
   "id": "featured-console",
   "metadata": {},
   "source": [
    "## 1.3. Checking and prepocessing the procedure dataset"
   ]
  },
  {
   "cell_type": "code",
   "execution_count": 335,
   "id": "attempted-carry",
   "metadata": {},
   "outputs": [
    {
     "data": {
      "text/html": [
       "<div>\n",
       "<style scoped>\n",
       "    .dataframe tbody tr th:only-of-type {\n",
       "        vertical-align: middle;\n",
       "    }\n",
       "\n",
       "    .dataframe tbody tr th {\n",
       "        vertical-align: top;\n",
       "    }\n",
       "\n",
       "    .dataframe thead th {\n",
       "        text-align: right;\n",
       "    }\n",
       "</style>\n",
       "<table border=\"1\" class=\"dataframe\">\n",
       "  <thead>\n",
       "    <tr style=\"text-align: right;\">\n",
       "      <th></th>\n",
       "      <th>pt_id</th>\n",
       "      <th>dos</th>\n",
       "      <th>procedure_code</th>\n",
       "      <th>mod</th>\n",
       "    </tr>\n",
       "  </thead>\n",
       "  <tbody>\n",
       "    <tr>\n",
       "      <th>0</th>\n",
       "      <td>10026</td>\n",
       "      <td>12/14/19</td>\n",
       "      <td>2027F</td>\n",
       "      <td>NaN</td>\n",
       "    </tr>\n",
       "    <tr>\n",
       "      <th>1</th>\n",
       "      <td>10026</td>\n",
       "      <td>11/13/19</td>\n",
       "      <td>92014</td>\n",
       "      <td>25</td>\n",
       "    </tr>\n",
       "    <tr>\n",
       "      <th>2</th>\n",
       "      <td>10026</td>\n",
       "      <td>11/6/19</td>\n",
       "      <td>G8427</td>\n",
       "      <td>NaN</td>\n",
       "    </tr>\n",
       "    <tr>\n",
       "      <th>3</th>\n",
       "      <td>10026</td>\n",
       "      <td>10/2/19</td>\n",
       "      <td>92134</td>\n",
       "      <td>NaN</td>\n",
       "    </tr>\n",
       "    <tr>\n",
       "      <th>4</th>\n",
       "      <td>10026</td>\n",
       "      <td>9/23/19</td>\n",
       "      <td>92014</td>\n",
       "      <td>25</td>\n",
       "    </tr>\n",
       "  </tbody>\n",
       "</table>\n",
       "</div>"
      ],
      "text/plain": [
       "   pt_id       dos procedure_code  mod\n",
       "0  10026  12/14/19          2027F  NaN\n",
       "1  10026  11/13/19          92014   25\n",
       "2  10026   11/6/19          G8427  NaN\n",
       "3  10026   10/2/19          92134  NaN\n",
       "4  10026   9/23/19          92014   25"
      ]
     },
     "execution_count": 335,
     "metadata": {},
     "output_type": "execute_result"
    },
    {
     "data": {
      "text/plain": [
       "(5222, 4)"
      ]
     },
     "execution_count": 335,
     "metadata": {},
     "output_type": "execute_result"
    },
    {
     "data": {
      "text/plain": [
       "pt_id              int64\n",
       "dos               object\n",
       "procedure_code    object\n",
       "mod               object\n",
       "dtype: object"
      ]
     },
     "execution_count": 335,
     "metadata": {},
     "output_type": "execute_result"
    }
   ],
   "source": [
    "data_pct = pd.read_csv(os.path.join(DATA_DIR, 'procedure.csv'), sep='\\t')\n",
    "data_pct.rename(columns={'patient_id': 'pt_id'}, inplace=True)\n",
    "data_pct.head()\n",
    "data_pct.shape\n",
    "data_pct.dtypes"
   ]
  },
  {
   "cell_type": "code",
   "execution_count": 336,
   "id": "japanese-cornell",
   "metadata": {},
   "outputs": [
    {
     "data": {
      "text/plain": [
       "(5149, 4)"
      ]
     },
     "execution_count": 336,
     "metadata": {},
     "output_type": "execute_result"
    }
   ],
   "source": [
    "data_pct.drop_duplicates(inplace=True)\n",
    "data_pct.shape"
   ]
  },
  {
   "cell_type": "code",
   "execution_count": 337,
   "id": "perfect-logistics",
   "metadata": {},
   "outputs": [
    {
     "data": {
      "text/html": [
       "<div>\n",
       "<style scoped>\n",
       "    .dataframe tbody tr th:only-of-type {\n",
       "        vertical-align: middle;\n",
       "    }\n",
       "\n",
       "    .dataframe tbody tr th {\n",
       "        vertical-align: top;\n",
       "    }\n",
       "\n",
       "    .dataframe thead th {\n",
       "        text-align: right;\n",
       "    }\n",
       "</style>\n",
       "<table border=\"1\" class=\"dataframe\">\n",
       "  <thead>\n",
       "    <tr style=\"text-align: right;\">\n",
       "      <th></th>\n",
       "      <th>pt_id</th>\n",
       "      <th>dos</th>\n",
       "      <th>procedure_code</th>\n",
       "      <th>mod</th>\n",
       "      <th>year</th>\n",
       "    </tr>\n",
       "  </thead>\n",
       "  <tbody>\n",
       "    <tr>\n",
       "      <th>0</th>\n",
       "      <td>10026</td>\n",
       "      <td>2019-12-14</td>\n",
       "      <td>2027F</td>\n",
       "      <td>NaN</td>\n",
       "      <td>2019</td>\n",
       "    </tr>\n",
       "    <tr>\n",
       "      <th>1</th>\n",
       "      <td>10026</td>\n",
       "      <td>2019-11-13</td>\n",
       "      <td>92014</td>\n",
       "      <td>25</td>\n",
       "      <td>2019</td>\n",
       "    </tr>\n",
       "    <tr>\n",
       "      <th>2</th>\n",
       "      <td>10026</td>\n",
       "      <td>2019-11-06</td>\n",
       "      <td>G8427</td>\n",
       "      <td>NaN</td>\n",
       "      <td>2019</td>\n",
       "    </tr>\n",
       "    <tr>\n",
       "      <th>3</th>\n",
       "      <td>10026</td>\n",
       "      <td>2019-10-02</td>\n",
       "      <td>92134</td>\n",
       "      <td>NaN</td>\n",
       "      <td>2019</td>\n",
       "    </tr>\n",
       "    <tr>\n",
       "      <th>4</th>\n",
       "      <td>10026</td>\n",
       "      <td>2019-09-23</td>\n",
       "      <td>92014</td>\n",
       "      <td>25</td>\n",
       "      <td>2019</td>\n",
       "    </tr>\n",
       "  </tbody>\n",
       "</table>\n",
       "</div>"
      ],
      "text/plain": [
       "   pt_id        dos procedure_code  mod  year\n",
       "0  10026 2019-12-14          2027F  NaN  2019\n",
       "1  10026 2019-11-13          92014   25  2019\n",
       "2  10026 2019-11-06          G8427  NaN  2019\n",
       "3  10026 2019-10-02          92134  NaN  2019\n",
       "4  10026 2019-09-23          92014   25  2019"
      ]
     },
     "execution_count": 337,
     "metadata": {},
     "output_type": "execute_result"
    }
   ],
   "source": [
    "data_pct[\"dos\"] = pd.to_datetime(data_pct['dos'])\n",
    "data_pct['year']=data_pct['dos'].dt.year\n",
    "data_pct.head()"
   ]
  },
  {
   "cell_type": "code",
   "execution_count": 338,
   "id": "recognized-fireplace",
   "metadata": {},
   "outputs": [
    {
     "data": {
      "text/plain": [
       "array(['2027F', '92014', 'G8427', '92134', '2026F', '1036F', '92012',\n",
       "       '92226', 'EYLEAX1', '99213', '92015', '99212', '3072F', '2019F',\n",
       "       '4177F', '92083', '67210', '92250', 'C9257', '92235', 'G8397',\n",
       "       '92135', '99214', '76512', '67228', '92133', '2022F', '5010F',\n",
       "       '2024F', '4040F', '3284F', '92225', '67028', 'J2778PF', 'J3590',\n",
       "       'J9035', '92273', 'G8482', '67040', '92020', 'G8420', '99499',\n",
       "       '92136', 'G8950', '67028MCR', 'J0178OU', 'J0178', 'LACS', '92002',\n",
       "       '99024', 'G8753', 'LUC5SYRX1', 'G8756', 'G8754', 'G9974', 'J2778',\n",
       "       'J7312', '92242', '67041', '92081', 'G9744', '66984', 'J7999',\n",
       "       '3285F', '2021F', 'J2778-5', 'J2778,05MG', 'J2778-5P', 'G8752',\n",
       "       'AVASTIN', 'G9903', 'RS000', '66821', 'G8918', 'G8907', 'J3490',\n",
       "       '1', 'J9035,J3490,Q9977', 'D0000', '92283', 'J2778P', 'LUC5MG',\n",
       "       'G8428', 'J2778DME', '92240', 'J2778POU'], dtype=object)"
      ]
     },
     "execution_count": 338,
     "metadata": {},
     "output_type": "execute_result"
    }
   ],
   "source": [
    "data_pct['procedure_code'].unique()"
   ]
  },
  {
   "cell_type": "code",
   "execution_count": 340,
   "id": "compatible-shame",
   "metadata": {},
   "outputs": [
    {
     "name": "stdout",
     "output_type": "stream",
     "text": [
      "\n",
      "Missing Value Summary\n",
      "-----------------------------------\n",
      "pt_id                0\n",
      "dos                  0\n",
      "procedure_code       0\n",
      "mod               3709\n",
      "year                 0\n",
      "dtype: int64\n",
      "There were 3709 rows with missing modifier in data_pct dataset\n"
     ]
    }
   ],
   "source": [
    "#Check missing values in specified columns. Note the missing value in Treatment Plan is not counted. \n",
    "columns_to_check =['pt_id', 'dos', 'procedure_code', 'mod']\n",
    "row_with_missing_cx = [row_idx for row_idx,row in data_pct[columns_to_check].isnull().iterrows() if True in row.values]\n",
    "print(\"\\nMissing Value Summary\\n{}\".format(\"-\"*35))\n",
    "print(data_pct.isnull().sum(axis = 0))\n",
    "if len(row_with_missing_cx) > 0:\n",
    "    print(\"There were {} rows with missing modifier in data_pct dataset\".format(len(row_with_missing_cx)))\n",
    "else:\n",
    "    print(\"There were no rows with missing data\")"
   ]
  },
  {
   "cell_type": "code",
   "execution_count": 341,
   "id": "advised-serum",
   "metadata": {},
   "outputs": [],
   "source": [
    "data_pct = data_pct.fillna(\"NA\").reset_index(drop = True)"
   ]
  },
  {
   "cell_type": "code",
   "execution_count": 489,
   "id": "prescribed-shore",
   "metadata": {},
   "outputs": [
    {
     "data": {
      "text/html": [
       "<div>\n",
       "<style scoped>\n",
       "    .dataframe tbody tr th:only-of-type {\n",
       "        vertical-align: middle;\n",
       "    }\n",
       "\n",
       "    .dataframe tbody tr th {\n",
       "        vertical-align: top;\n",
       "    }\n",
       "\n",
       "    .dataframe thead th {\n",
       "        text-align: right;\n",
       "    }\n",
       "</style>\n",
       "<table border=\"1\" class=\"dataframe\">\n",
       "  <thead>\n",
       "    <tr style=\"text-align: right;\">\n",
       "      <th></th>\n",
       "      <th>pt_id</th>\n",
       "      <th>year</th>\n",
       "    </tr>\n",
       "  </thead>\n",
       "  <tbody>\n",
       "    <tr>\n",
       "      <th>count</th>\n",
       "      <td>5149.000000</td>\n",
       "      <td>5149.000000</td>\n",
       "    </tr>\n",
       "    <tr>\n",
       "      <th>mean</th>\n",
       "      <td>28252.277141</td>\n",
       "      <td>2016.376384</td>\n",
       "    </tr>\n",
       "    <tr>\n",
       "      <th>std</th>\n",
       "      <td>11632.546529</td>\n",
       "      <td>1.879870</td>\n",
       "    </tr>\n",
       "    <tr>\n",
       "      <th>min</th>\n",
       "      <td>10026.000000</td>\n",
       "      <td>2013.000000</td>\n",
       "    </tr>\n",
       "    <tr>\n",
       "      <th>25%</th>\n",
       "      <td>17651.000000</td>\n",
       "      <td>2015.000000</td>\n",
       "    </tr>\n",
       "    <tr>\n",
       "      <th>50%</th>\n",
       "      <td>27494.000000</td>\n",
       "      <td>2016.000000</td>\n",
       "    </tr>\n",
       "    <tr>\n",
       "      <th>75%</th>\n",
       "      <td>38303.000000</td>\n",
       "      <td>2018.000000</td>\n",
       "    </tr>\n",
       "    <tr>\n",
       "      <th>max</th>\n",
       "      <td>49965.000000</td>\n",
       "      <td>2019.000000</td>\n",
       "    </tr>\n",
       "  </tbody>\n",
       "</table>\n",
       "</div>"
      ],
      "text/plain": [
       "              pt_id         year\n",
       "count   5149.000000  5149.000000\n",
       "mean   28252.277141  2016.376384\n",
       "std    11632.546529     1.879870\n",
       "min    10026.000000  2013.000000\n",
       "25%    17651.000000  2015.000000\n",
       "50%    27494.000000  2016.000000\n",
       "75%    38303.000000  2018.000000\n",
       "max    49965.000000  2019.000000"
      ]
     },
     "execution_count": 489,
     "metadata": {},
     "output_type": "execute_result"
    }
   ],
   "source": [
    "data_pct.describe()"
   ]
  },
  {
   "cell_type": "markdown",
   "id": "immune-identifier",
   "metadata": {},
   "source": [
    "# 2. Answers to questions"
   ]
  },
  {
   "cell_type": "markdown",
   "id": "municipal-webcam",
   "metadata": {},
   "source": [
    "### Q1. What are the types of data quality issues or checks should you consider?"
   ]
  },
  {
   "cell_type": "markdown",
   "id": "several-holly",
   "metadata": {},
   "source": [
    "### Data checks include: \n",
    "* Duplicate date\n",
    "* Missing values \n",
    "* Inconsistent values \n",
    "* Data types or format\n",
    "* Distribution and outliers\n",
    "* Discontinuty of coding"
   ]
  },
  {
   "cell_type": "markdown",
   "id": "honest-colony",
   "metadata": {},
   "source": [
    "### Q2. How many patients have Wet Age-Related Macular Degeneration (wAMD) in the given dataset?"
   ]
  },
  {
   "cell_type": "code",
   "execution_count": 511,
   "id": "tested-prairie",
   "metadata": {},
   "outputs": [
    {
     "data": {
      "text/plain": [
       "array(['H35.3231', 'H35.3220', 'H35.3290', '312912001', 'H35.321',\n",
       "       'H35.3210', '36252', '362.52', 'h35.329', 'H35.3291', 'H35.3293',\n",
       "       'H35.3112', 'H35.3232', 'H35321', 'H35.3230', 'H35.3292',\n",
       "       'H35.322', 'h35.321', 'H35.32', 'H43.811', 'H34.12', 'H35.81',\n",
       "       'H02.403', '362.02', '374.3', 'H43.812', 'H04.123', 'H25.13',\n",
       "       'H43.813', 'H43.13', 'E78.00', '366.16', '362.11', '367.4',\n",
       "       'E11.9', 'E11.319', 'H31.013', 'H20.9', 'E11.359', 'H35.033',\n",
       "       'H43.12', 'H18.20', 'H35.051', '368.9', '365.11', '362.16',\n",
       "       'E11.331', 'H43.393', 'H18.59', 'E11.341', 'E11.311', 'H40.033',\n",
       "       'H25.9', 'H26.493', '362.07', 'H35.059', 'H34.231', 'H52.13',\n",
       "       'H52.4', 'H33.321', '362.81', 'H16.223', 'H53.2', 'H35.031',\n",
       "       'H21.01', 'H04.122', '365.05', 'H40.11X', 'H18.51', 'H43.11',\n",
       "       'H35.373', 'E11.329', '362.31', 'H52.223', 'H25.89', 'H31.093',\n",
       "       'H53.40', 'H54.7', 'E11.339', 'H59.023', '373.12', 'H35.40',\n",
       "       'H25.811', 'H35.372', 'H25.11', 'H40.021', 'H35.352', '362.83',\n",
       "       '362.36', '362.51', '362.05', 'H43.391', '364.3', 'H11.003',\n",
       "       'H35.032', 'H35.31', 'H40.013', '379.21', 'H35.323', '379.23',\n",
       "       'E10.9', 'H21.1X1', 'H04.129', 'H00.026', 'H34.819', 'H34.811',\n",
       "       'H26.491', '368.8', 'E11.351', 'E11.39', 'H52.221', 'H54.8',\n",
       "       'H40.89', 'H25.012', 'H35.723', 'H02.883', 'H33.41', 'H35.60',\n",
       "       'H00.023', 'H35.363', 'H40.9', 'H35.61', 'H35.371', 'H34.813',\n",
       "       'H25.12', 'H18.50', '375.15', '362.56', '362.35', '362.53',\n",
       "       '367.21', '365.74', '373', '367.1', '363.32', '371.2', '361.81',\n",
       "       '379.24', '366.53', '365.7', '362.01', '379.27', '366.1', '365.1',\n",
       "       '368.4', '360.21', '362.32', '374.87', '369.9', '312956001',\n",
       "       '414173003', '60189009'], dtype=object)"
      ]
     },
     "execution_count": 511,
     "metadata": {},
     "output_type": "execute_result"
    }
   ],
   "source": [
    "data_dx['dx_code'].unique()"
   ]
  },
  {
   "cell_type": "markdown",
   "id": "protective-alaska",
   "metadata": {},
   "source": [
    "### The diagnosis code for wAMD is 362.52 in ICD-9-CM, and H35.32XX in ICD-10-CM, respectively"
   ]
  },
  {
   "cell_type": "code",
   "execution_count": 512,
   "id": "following-ballot",
   "metadata": {},
   "outputs": [
    {
     "data": {
      "text/html": [
       "<div>\n",
       "<style scoped>\n",
       "    .dataframe tbody tr th:only-of-type {\n",
       "        vertical-align: middle;\n",
       "    }\n",
       "\n",
       "    .dataframe tbody tr th {\n",
       "        vertical-align: top;\n",
       "    }\n",
       "\n",
       "    .dataframe thead th {\n",
       "        text-align: right;\n",
       "    }\n",
       "</style>\n",
       "<table border=\"1\" class=\"dataframe\">\n",
       "  <thead>\n",
       "    <tr style=\"text-align: right;\">\n",
       "      <th></th>\n",
       "      <th>pt_id</th>\n",
       "      <th>dos</th>\n",
       "      <th>dx_code</th>\n",
       "      <th>year</th>\n",
       "    </tr>\n",
       "  </thead>\n",
       "  <tbody>\n",
       "    <tr>\n",
       "      <th>0</th>\n",
       "      <td>13151</td>\n",
       "      <td>2018-04-10</td>\n",
       "      <td>H35.3231</td>\n",
       "      <td>2018</td>\n",
       "    </tr>\n",
       "    <tr>\n",
       "      <th>1</th>\n",
       "      <td>13151</td>\n",
       "      <td>2018-05-22</td>\n",
       "      <td>H35.3231</td>\n",
       "      <td>2018</td>\n",
       "    </tr>\n",
       "    <tr>\n",
       "      <th>2</th>\n",
       "      <td>13151</td>\n",
       "      <td>2018-07-17</td>\n",
       "      <td>H35.3220</td>\n",
       "      <td>2018</td>\n",
       "    </tr>\n",
       "    <tr>\n",
       "      <th>3</th>\n",
       "      <td>13151</td>\n",
       "      <td>2018-09-25</td>\n",
       "      <td>H35.3220</td>\n",
       "      <td>2018</td>\n",
       "    </tr>\n",
       "    <tr>\n",
       "      <th>4</th>\n",
       "      <td>13151</td>\n",
       "      <td>2018-12-18</td>\n",
       "      <td>H35.3220</td>\n",
       "      <td>2018</td>\n",
       "    </tr>\n",
       "    <tr>\n",
       "      <th>...</th>\n",
       "      <td>...</td>\n",
       "      <td>...</td>\n",
       "      <td>...</td>\n",
       "      <td>...</td>\n",
       "    </tr>\n",
       "    <tr>\n",
       "      <th>4634</th>\n",
       "      <td>17449</td>\n",
       "      <td>2015-08-01</td>\n",
       "      <td>362.52</td>\n",
       "      <td>2015</td>\n",
       "    </tr>\n",
       "    <tr>\n",
       "      <th>4635</th>\n",
       "      <td>17449</td>\n",
       "      <td>2013-03-13</td>\n",
       "      <td>362.52</td>\n",
       "      <td>2013</td>\n",
       "    </tr>\n",
       "    <tr>\n",
       "      <th>4636</th>\n",
       "      <td>39037</td>\n",
       "      <td>2013-03-23</td>\n",
       "      <td>362.52</td>\n",
       "      <td>2013</td>\n",
       "    </tr>\n",
       "    <tr>\n",
       "      <th>4639</th>\n",
       "      <td>39037</td>\n",
       "      <td>2013-04-22</td>\n",
       "      <td>362.52</td>\n",
       "      <td>2013</td>\n",
       "    </tr>\n",
       "    <tr>\n",
       "      <th>4664</th>\n",
       "      <td>30782</td>\n",
       "      <td>2013-12-19</td>\n",
       "      <td>362.52</td>\n",
       "      <td>2013</td>\n",
       "    </tr>\n",
       "  </tbody>\n",
       "</table>\n",
       "<p>1251 rows × 4 columns</p>\n",
       "</div>"
      ],
      "text/plain": [
       "      pt_id        dos   dx_code  year\n",
       "0     13151 2018-04-10  H35.3231  2018\n",
       "1     13151 2018-05-22  H35.3231  2018\n",
       "2     13151 2018-07-17  H35.3220  2018\n",
       "3     13151 2018-09-25  H35.3220  2018\n",
       "4     13151 2018-12-18  H35.3220  2018\n",
       "...     ...        ...       ...   ...\n",
       "4634  17449 2015-08-01    362.52  2015\n",
       "4635  17449 2013-03-13    362.52  2013\n",
       "4636  39037 2013-03-23    362.52  2013\n",
       "4639  39037 2013-04-22    362.52  2013\n",
       "4664  30782 2013-12-19    362.52  2013\n",
       "\n",
       "[1251 rows x 4 columns]"
      ]
     },
     "execution_count": 512,
     "metadata": {},
     "output_type": "execute_result"
    }
   ],
   "source": [
    "# h is the records for patient diagnozed with wAMD which is coded as H35.32XX and 362.52 in ICD-9-CM\n",
    "h=data_dx[data_dx['dx_code'].str.contains('H35.32|362.52', case=False)]\n",
    "h"
   ]
  },
  {
   "cell_type": "code",
   "execution_count": 513,
   "id": "known-stomach",
   "metadata": {},
   "outputs": [
    {
     "name": "stdout",
     "output_type": "stream",
     "text": [
      "The numbe of patients having Wet Age-Related Macular Degeneration (wAMD) is 418\n"
     ]
    }
   ],
   "source": [
    "print('The numbe of patients having Wet Age-Related Macular Degeneration (wAMD) is {}'.format(len(set(h['pt_id']))))"
   ]
  },
  {
   "cell_type": "markdown",
   "id": "ahead-identity",
   "metadata": {},
   "source": [
    "### Q3. How many patients have wAMD in 2019?"
   ]
  },
  {
   "cell_type": "code",
   "execution_count": 514,
   "id": "prospective-filter",
   "metadata": {},
   "outputs": [
    {
     "name": "stdout",
     "output_type": "stream",
     "text": [
      "The numbe of patients having Wet Age-Related Macular Degeneration (wAMD) in 2019 is 66\n"
     ]
    }
   ],
   "source": [
    "print('The numbe of patients having Wet Age-Related Macular Degeneration (wAMD) in 2019 is {}'.format(len(set(h[h['year']==2019]['pt_id']))))"
   ]
  },
  {
   "cell_type": "markdown",
   "id": "transparent-helena",
   "metadata": {},
   "source": [
    "### Q4. How many patients have wAMD between 2014-2017, stratified by sex?"
   ]
  },
  {
   "cell_type": "code",
   "execution_count": 517,
   "id": "illegal-uncertainty",
   "metadata": {},
   "outputs": [
    {
     "data": {
      "text/html": [
       "<div>\n",
       "<style scoped>\n",
       "    .dataframe tbody tr th:only-of-type {\n",
       "        vertical-align: middle;\n",
       "    }\n",
       "\n",
       "    .dataframe tbody tr th {\n",
       "        vertical-align: top;\n",
       "    }\n",
       "\n",
       "    .dataframe thead th {\n",
       "        text-align: right;\n",
       "    }\n",
       "</style>\n",
       "<table border=\"1\" class=\"dataframe\">\n",
       "  <thead>\n",
       "    <tr style=\"text-align: right;\">\n",
       "      <th></th>\n",
       "      <th>pt_id</th>\n",
       "      <th>sex</th>\n",
       "      <th>dos</th>\n",
       "      <th>dx_code</th>\n",
       "      <th>year</th>\n",
       "    </tr>\n",
       "  </thead>\n",
       "  <tbody>\n",
       "    <tr>\n",
       "      <th>0</th>\n",
       "      <td>13151</td>\n",
       "      <td>F</td>\n",
       "      <td>2018-04-10</td>\n",
       "      <td>H35.3231</td>\n",
       "      <td>2018</td>\n",
       "    </tr>\n",
       "    <tr>\n",
       "      <th>1</th>\n",
       "      <td>13151</td>\n",
       "      <td>F</td>\n",
       "      <td>2018-05-22</td>\n",
       "      <td>H35.3231</td>\n",
       "      <td>2018</td>\n",
       "    </tr>\n",
       "    <tr>\n",
       "      <th>2</th>\n",
       "      <td>13151</td>\n",
       "      <td>F</td>\n",
       "      <td>2018-07-17</td>\n",
       "      <td>H35.3220</td>\n",
       "      <td>2018</td>\n",
       "    </tr>\n",
       "    <tr>\n",
       "      <th>3</th>\n",
       "      <td>13151</td>\n",
       "      <td>F</td>\n",
       "      <td>2018-09-25</td>\n",
       "      <td>H35.3220</td>\n",
       "      <td>2018</td>\n",
       "    </tr>\n",
       "    <tr>\n",
       "      <th>4</th>\n",
       "      <td>13151</td>\n",
       "      <td>F</td>\n",
       "      <td>2018-12-18</td>\n",
       "      <td>H35.3220</td>\n",
       "      <td>2018</td>\n",
       "    </tr>\n",
       "  </tbody>\n",
       "</table>\n",
       "</div>"
      ],
      "text/plain": [
       "   pt_id sex        dos   dx_code  year\n",
       "0  13151   F 2018-04-10  H35.3231  2018\n",
       "1  13151   F 2018-05-22  H35.3231  2018\n",
       "2  13151   F 2018-07-17  H35.3220  2018\n",
       "3  13151   F 2018-09-25  H35.3220  2018\n",
       "4  13151   F 2018-12-18  H35.3220  2018"
      ]
     },
     "execution_count": 517,
     "metadata": {},
     "output_type": "execute_result"
    },
    {
     "data": {
      "text/plain": [
       "(1251, 5)"
      ]
     },
     "execution_count": 517,
     "metadata": {},
     "output_type": "execute_result"
    }
   ],
   "source": [
    "pt_h = pd.merge(data_pt, h, on='pt_id', how='right')\n",
    "pt_h.head()\n",
    "pt_h.shape"
   ]
  },
  {
   "cell_type": "code",
   "execution_count": 518,
   "id": "requested-ticket",
   "metadata": {},
   "outputs": [
    {
     "data": {
      "text/html": [
       "<div>\n",
       "<style scoped>\n",
       "    .dataframe tbody tr th:only-of-type {\n",
       "        vertical-align: middle;\n",
       "    }\n",
       "\n",
       "    .dataframe tbody tr th {\n",
       "        vertical-align: top;\n",
       "    }\n",
       "\n",
       "    .dataframe thead th {\n",
       "        text-align: right;\n",
       "    }\n",
       "</style>\n",
       "<table border=\"1\" class=\"dataframe\">\n",
       "  <thead>\n",
       "    <tr style=\"text-align: right;\">\n",
       "      <th></th>\n",
       "      <th>pt_id</th>\n",
       "      <th>year</th>\n",
       "    </tr>\n",
       "  </thead>\n",
       "  <tbody>\n",
       "    <tr>\n",
       "      <th>count</th>\n",
       "      <td>1251.000000</td>\n",
       "      <td>1251.000000</td>\n",
       "    </tr>\n",
       "    <tr>\n",
       "      <th>mean</th>\n",
       "      <td>29438.142286</td>\n",
       "      <td>2016.433253</td>\n",
       "    </tr>\n",
       "    <tr>\n",
       "      <th>std</th>\n",
       "      <td>11624.906565</td>\n",
       "      <td>1.911895</td>\n",
       "    </tr>\n",
       "    <tr>\n",
       "      <th>min</th>\n",
       "      <td>10026.000000</td>\n",
       "      <td>2013.000000</td>\n",
       "    </tr>\n",
       "    <tr>\n",
       "      <th>25%</th>\n",
       "      <td>18796.000000</td>\n",
       "      <td>2015.000000</td>\n",
       "    </tr>\n",
       "    <tr>\n",
       "      <th>50%</th>\n",
       "      <td>30117.000000</td>\n",
       "      <td>2017.000000</td>\n",
       "    </tr>\n",
       "    <tr>\n",
       "      <th>75%</th>\n",
       "      <td>39018.500000</td>\n",
       "      <td>2018.000000</td>\n",
       "    </tr>\n",
       "    <tr>\n",
       "      <th>max</th>\n",
       "      <td>49965.000000</td>\n",
       "      <td>2019.000000</td>\n",
       "    </tr>\n",
       "  </tbody>\n",
       "</table>\n",
       "</div>"
      ],
      "text/plain": [
       "              pt_id         year\n",
       "count   1251.000000  1251.000000\n",
       "mean   29438.142286  2016.433253\n",
       "std    11624.906565     1.911895\n",
       "min    10026.000000  2013.000000\n",
       "25%    18796.000000  2015.000000\n",
       "50%    30117.000000  2017.000000\n",
       "75%    39018.500000  2018.000000\n",
       "max    49965.000000  2019.000000"
      ]
     },
     "execution_count": 518,
     "metadata": {},
     "output_type": "execute_result"
    }
   ],
   "source": [
    "pt_h.describe()"
   ]
  },
  {
   "cell_type": "code",
   "execution_count": 519,
   "id": "interpreted-clearance",
   "metadata": {},
   "outputs": [
    {
     "name": "stdout",
     "output_type": "stream",
     "text": [
      "The numbe of patients having Wet Age-Related Macular Degeneration (wAMD) between 2014 and 2017, stratified by sex\n"
     ]
    },
    {
     "data": {
      "text/html": [
       "<div>\n",
       "<style scoped>\n",
       "    .dataframe tbody tr th:only-of-type {\n",
       "        vertical-align: middle;\n",
       "    }\n",
       "\n",
       "    .dataframe tbody tr th {\n",
       "        vertical-align: top;\n",
       "    }\n",
       "\n",
       "    .dataframe thead th {\n",
       "        text-align: right;\n",
       "    }\n",
       "</style>\n",
       "<table border=\"1\" class=\"dataframe\">\n",
       "  <thead>\n",
       "    <tr style=\"text-align: right;\">\n",
       "      <th></th>\n",
       "      <th>sex</th>\n",
       "      <th>order</th>\n",
       "    </tr>\n",
       "  </thead>\n",
       "  <tbody>\n",
       "    <tr>\n",
       "      <th>0</th>\n",
       "      <td>F</td>\n",
       "      <td>327</td>\n",
       "    </tr>\n",
       "    <tr>\n",
       "      <th>1</th>\n",
       "      <td>M</td>\n",
       "      <td>362</td>\n",
       "    </tr>\n",
       "    <tr>\n",
       "      <th>2</th>\n",
       "      <td>N</td>\n",
       "      <td>1</td>\n",
       "    </tr>\n",
       "  </tbody>\n",
       "</table>\n",
       "</div>"
      ],
      "text/plain": [
       "  sex  order\n",
       "0   F    327\n",
       "1   M    362\n",
       "2   N      1"
      ]
     },
     "execution_count": 519,
     "metadata": {},
     "output_type": "execute_result"
    }
   ],
   "source": [
    "pt_h_14to17=pt_h[(pt_h['year']>=2014) & (pt_h['year']<=2017)]\n",
    "print('The numbe of patients having Wet Age-Related Macular Degeneration (wAMD) between 2014 and 2017, stratified by sex')\n",
    "temp=pt_h_14to17.groupby(['sex'],as_index=False).agg(order=('pt_id', 'count'))\n",
    "temp"
   ]
  },
  {
   "cell_type": "code",
   "execution_count": 520,
   "id": "sophisticated-attempt",
   "metadata": {},
   "outputs": [
    {
     "data": {
      "image/png": "[encoded data removed]",
      "text/plain": [
       "<Figure size 432x288 with 1 Axes>"
      ]
     },
     "metadata": {},
     "output_type": "display_data"
    }
   ],
   "source": [
    "plt.bar(temp['sex'], temp['order'], color=('red','steelblue','green'))\n",
    "plt.title('Patient with wAMD by Gender between 2014 and 2017')\n",
    "plt.ylabel('Numer of patient');\n",
    "plt.show();"
   ]
  },
  {
   "cell_type": "markdown",
   "id": "productive-reservation",
   "metadata": {},
   "source": [
    "### 5. How would you determine if sex is associated with an increased risk of wAMD?"
   ]
  },
  {
   "cell_type": "code",
   "execution_count": 521,
   "id": "federal-litigation",
   "metadata": {},
   "outputs": [
    {
     "data": {
      "text/html": [
       "<div>\n",
       "<style scoped>\n",
       "    .dataframe tbody tr th:only-of-type {\n",
       "        vertical-align: middle;\n",
       "    }\n",
       "\n",
       "    .dataframe tbody tr th {\n",
       "        vertical-align: top;\n",
       "    }\n",
       "\n",
       "    .dataframe thead th {\n",
       "        text-align: right;\n",
       "    }\n",
       "</style>\n",
       "<table border=\"1\" class=\"dataframe\">\n",
       "  <thead>\n",
       "    <tr style=\"text-align: right;\">\n",
       "      <th></th>\n",
       "      <th>year</th>\n",
       "      <th>sex</th>\n",
       "      <th>order</th>\n",
       "    </tr>\n",
       "  </thead>\n",
       "  <tbody>\n",
       "    <tr>\n",
       "      <th>0</th>\n",
       "      <td>2013</td>\n",
       "      <td>F</td>\n",
       "      <td>61</td>\n",
       "    </tr>\n",
       "    <tr>\n",
       "      <th>1</th>\n",
       "      <td>2013</td>\n",
       "      <td>M</td>\n",
       "      <td>32</td>\n",
       "    </tr>\n",
       "    <tr>\n",
       "      <th>2</th>\n",
       "      <td>2013</td>\n",
       "      <td>N</td>\n",
       "      <td>1</td>\n",
       "    </tr>\n",
       "    <tr>\n",
       "      <th>3</th>\n",
       "      <td>2014</td>\n",
       "      <td>F</td>\n",
       "      <td>73</td>\n",
       "    </tr>\n",
       "    <tr>\n",
       "      <th>4</th>\n",
       "      <td>2014</td>\n",
       "      <td>M</td>\n",
       "      <td>87</td>\n",
       "    </tr>\n",
       "    <tr>\n",
       "      <th>5</th>\n",
       "      <td>2015</td>\n",
       "      <td>F</td>\n",
       "      <td>101</td>\n",
       "    </tr>\n",
       "    <tr>\n",
       "      <th>6</th>\n",
       "      <td>2015</td>\n",
       "      <td>M</td>\n",
       "      <td>81</td>\n",
       "    </tr>\n",
       "    <tr>\n",
       "      <th>7</th>\n",
       "      <td>2016</td>\n",
       "      <td>F</td>\n",
       "      <td>79</td>\n",
       "    </tr>\n",
       "    <tr>\n",
       "      <th>8</th>\n",
       "      <td>2016</td>\n",
       "      <td>M</td>\n",
       "      <td>95</td>\n",
       "    </tr>\n",
       "    <tr>\n",
       "      <th>9</th>\n",
       "      <td>2016</td>\n",
       "      <td>N</td>\n",
       "      <td>1</td>\n",
       "    </tr>\n",
       "    <tr>\n",
       "      <th>10</th>\n",
       "      <td>2017</td>\n",
       "      <td>F</td>\n",
       "      <td>74</td>\n",
       "    </tr>\n",
       "    <tr>\n",
       "      <th>11</th>\n",
       "      <td>2017</td>\n",
       "      <td>M</td>\n",
       "      <td>99</td>\n",
       "    </tr>\n",
       "    <tr>\n",
       "      <th>12</th>\n",
       "      <td>2018</td>\n",
       "      <td>F</td>\n",
       "      <td>125</td>\n",
       "    </tr>\n",
       "    <tr>\n",
       "      <th>13</th>\n",
       "      <td>2018</td>\n",
       "      <td>M</td>\n",
       "      <td>120</td>\n",
       "    </tr>\n",
       "    <tr>\n",
       "      <th>14</th>\n",
       "      <td>2018</td>\n",
       "      <td>N</td>\n",
       "      <td>3</td>\n",
       "    </tr>\n",
       "    <tr>\n",
       "      <th>15</th>\n",
       "      <td>2019</td>\n",
       "      <td>F</td>\n",
       "      <td>124</td>\n",
       "    </tr>\n",
       "    <tr>\n",
       "      <th>16</th>\n",
       "      <td>2019</td>\n",
       "      <td>M</td>\n",
       "      <td>95</td>\n",
       "    </tr>\n",
       "  </tbody>\n",
       "</table>\n",
       "</div>"
      ],
      "text/plain": [
       "    year sex  order\n",
       "0   2013   F     61\n",
       "1   2013   M     32\n",
       "2   2013   N      1\n",
       "3   2014   F     73\n",
       "4   2014   M     87\n",
       "5   2015   F    101\n",
       "6   2015   M     81\n",
       "7   2016   F     79\n",
       "8   2016   M     95\n",
       "9   2016   N      1\n",
       "10  2017   F     74\n",
       "11  2017   M     99\n",
       "12  2018   F    125\n",
       "13  2018   M    120\n",
       "14  2018   N      3\n",
       "15  2019   F    124\n",
       "16  2019   M     95"
      ]
     },
     "execution_count": 521,
     "metadata": {},
     "output_type": "execute_result"
    }
   ],
   "source": [
    "pt_h.groupby(['year', 'sex'],as_index=False).agg(order=('pt_id', 'count'))"
   ]
  },
  {
   "cell_type": "code",
   "execution_count": 555,
   "id": "comparable-database",
   "metadata": {},
   "outputs": [
    {
     "data": {
      "text/html": [
       "<div>\n",
       "<style scoped>\n",
       "    .dataframe tbody tr th:only-of-type {\n",
       "        vertical-align: middle;\n",
       "    }\n",
       "\n",
       "    .dataframe tbody tr th {\n",
       "        vertical-align: top;\n",
       "    }\n",
       "\n",
       "    .dataframe thead th {\n",
       "        text-align: right;\n",
       "    }\n",
       "</style>\n",
       "<table border=\"1\" class=\"dataframe\">\n",
       "  <thead>\n",
       "    <tr style=\"text-align: right;\">\n",
       "      <th></th>\n",
       "      <th>sex</th>\n",
       "      <th>order</th>\n",
       "    </tr>\n",
       "  </thead>\n",
       "  <tbody>\n",
       "    <tr>\n",
       "      <th>0</th>\n",
       "      <td>F</td>\n",
       "      <td>637</td>\n",
       "    </tr>\n",
       "    <tr>\n",
       "      <th>1</th>\n",
       "      <td>M</td>\n",
       "      <td>609</td>\n",
       "    </tr>\n",
       "    <tr>\n",
       "      <th>2</th>\n",
       "      <td>N</td>\n",
       "      <td>5</td>\n",
       "    </tr>\n",
       "  </tbody>\n",
       "</table>\n",
       "</div>"
      ],
      "text/plain": [
       "  sex  order\n",
       "0   F    637\n",
       "1   M    609\n",
       "2   N      5"
      ]
     },
     "execution_count": 555,
     "metadata": {},
     "output_type": "execute_result"
    }
   ],
   "source": [
    "pt_h_all=pt_h.groupby(['sex'],as_index=False).agg(order=('pt_id', 'count'))\n",
    "#print('The numbe of patients having Wet Age-Related Macular Degeneration (wAMD), stratified by sex')\n",
    "pt_h_all"
   ]
  },
  {
   "cell_type": "code",
   "execution_count": 551,
   "id": "public-determination",
   "metadata": {},
   "outputs": [
    {
     "data": {
      "text/html": [
       "<div>\n",
       "<style scoped>\n",
       "    .dataframe tbody tr th:only-of-type {\n",
       "        vertical-align: middle;\n",
       "    }\n",
       "\n",
       "    .dataframe tbody tr th {\n",
       "        vertical-align: top;\n",
       "    }\n",
       "\n",
       "    .dataframe thead th {\n",
       "        text-align: right;\n",
       "    }\n",
       "</style>\n",
       "<table border=\"1\" class=\"dataframe\">\n",
       "  <thead>\n",
       "    <tr style=\"text-align: right;\">\n",
       "      <th></th>\n",
       "      <th></th>\n",
       "      <th>pt_id</th>\n",
       "    </tr>\n",
       "    <tr>\n",
       "      <th>sex</th>\n",
       "      <th>year</th>\n",
       "      <th></th>\n",
       "    </tr>\n",
       "  </thead>\n",
       "  <tbody>\n",
       "    <tr>\n",
       "      <th rowspan=\"7\" valign=\"top\">F</th>\n",
       "      <th>2013</th>\n",
       "      <td>61</td>\n",
       "    </tr>\n",
       "    <tr>\n",
       "      <th>2014</th>\n",
       "      <td>73</td>\n",
       "    </tr>\n",
       "    <tr>\n",
       "      <th>2015</th>\n",
       "      <td>101</td>\n",
       "    </tr>\n",
       "    <tr>\n",
       "      <th>2016</th>\n",
       "      <td>79</td>\n",
       "    </tr>\n",
       "    <tr>\n",
       "      <th>2017</th>\n",
       "      <td>74</td>\n",
       "    </tr>\n",
       "    <tr>\n",
       "      <th>2018</th>\n",
       "      <td>125</td>\n",
       "    </tr>\n",
       "    <tr>\n",
       "      <th>2019</th>\n",
       "      <td>124</td>\n",
       "    </tr>\n",
       "    <tr>\n",
       "      <th rowspan=\"7\" valign=\"top\">M</th>\n",
       "      <th>2013</th>\n",
       "      <td>32</td>\n",
       "    </tr>\n",
       "    <tr>\n",
       "      <th>2014</th>\n",
       "      <td>87</td>\n",
       "    </tr>\n",
       "    <tr>\n",
       "      <th>2015</th>\n",
       "      <td>81</td>\n",
       "    </tr>\n",
       "    <tr>\n",
       "      <th>2016</th>\n",
       "      <td>95</td>\n",
       "    </tr>\n",
       "    <tr>\n",
       "      <th>2017</th>\n",
       "      <td>99</td>\n",
       "    </tr>\n",
       "    <tr>\n",
       "      <th>2018</th>\n",
       "      <td>120</td>\n",
       "    </tr>\n",
       "    <tr>\n",
       "      <th>2019</th>\n",
       "      <td>95</td>\n",
       "    </tr>\n",
       "    <tr>\n",
       "      <th rowspan=\"3\" valign=\"top\">N</th>\n",
       "      <th>2013</th>\n",
       "      <td>1</td>\n",
       "    </tr>\n",
       "    <tr>\n",
       "      <th>2016</th>\n",
       "      <td>1</td>\n",
       "    </tr>\n",
       "    <tr>\n",
       "      <th>2018</th>\n",
       "      <td>3</td>\n",
       "    </tr>\n",
       "  </tbody>\n",
       "</table>\n",
       "</div>"
      ],
      "text/plain": [
       "          pt_id\n",
       "sex year       \n",
       "F   2013     61\n",
       "    2014     73\n",
       "    2015    101\n",
       "    2016     79\n",
       "    2017     74\n",
       "    2018    125\n",
       "    2019    124\n",
       "M   2013     32\n",
       "    2014     87\n",
       "    2015     81\n",
       "    2016     95\n",
       "    2017     99\n",
       "    2018    120\n",
       "    2019     95\n",
       "N   2013      1\n",
       "    2016      1\n",
       "    2018      3"
      ]
     },
     "execution_count": 551,
     "metadata": {},
     "output_type": "execute_result"
    }
   ],
   "source": [
    "columns_to_show =['pt_id']\n",
    "tmp=pd.pivot_table(pt_h, index = ['sex', 'year'], values=columns_to_show, aggfunc='count')\n",
    "#tmp"
   ]
  },
  {
   "cell_type": "code",
   "execution_count": 554,
   "id": "imposed-albania",
   "metadata": {},
   "outputs": [
    {
     "data": {
      "text/html": [
       "<div>\n",
       "<style scoped>\n",
       "    .dataframe tbody tr th:only-of-type {\n",
       "        vertical-align: middle;\n",
       "    }\n",
       "\n",
       "    .dataframe tbody tr th {\n",
       "        vertical-align: top;\n",
       "    }\n",
       "\n",
       "    .dataframe thead th {\n",
       "        text-align: right;\n",
       "    }\n",
       "</style>\n",
       "<table border=\"1\" class=\"dataframe\">\n",
       "  <thead>\n",
       "    <tr style=\"text-align: right;\">\n",
       "      <th></th>\n",
       "      <th>pt_id</th>\n",
       "    </tr>\n",
       "    <tr>\n",
       "      <th>sex</th>\n",
       "      <th></th>\n",
       "    </tr>\n",
       "  </thead>\n",
       "  <tbody>\n",
       "    <tr>\n",
       "      <th>F</th>\n",
       "      <td>637</td>\n",
       "    </tr>\n",
       "    <tr>\n",
       "      <th>M</th>\n",
       "      <td>609</td>\n",
       "    </tr>\n",
       "    <tr>\n",
       "      <th>N</th>\n",
       "      <td>5</td>\n",
       "    </tr>\n",
       "  </tbody>\n",
       "</table>\n",
       "</div>"
      ],
      "text/plain": [
       "     pt_id\n",
       "sex       \n",
       "F      637\n",
       "M      609\n",
       "N        5"
      ]
     },
     "execution_count": 554,
     "metadata": {},
     "output_type": "execute_result"
    }
   ],
   "source": [
    "pd.pivot_table(pt_h, index = ['sex'], values=columns_to_show, aggfunc='count')"
   ]
  },
  {
   "cell_type": "code",
   "execution_count": 549,
   "id": "conservative-plasma",
   "metadata": {},
   "outputs": [
    {
     "data": {
      "image/png": "[encoded data removed]",
      "text/plain": [
       "<Figure size 576x432 with 1 Axes>"
      ]
     },
     "metadata": {},
     "output_type": "display_data"
    }
   ],
   "source": [
    "labels = ['2013', '2014', '2015', '2016', '2017', '2018', '2019']\n",
    "x = np.arange(len(labels))  # the label locations\n",
    "width = 0.35  # the width of the bars\n",
    "\n",
    "fig, ax = plt.subplots(figsize=(8,6))\n",
    "rects1 = ax.bar(x - width/2, tmp.loc[('M'), :]['pt_id'], width, label='Male')\n",
    "rects2 = ax.bar(x + width/2, tmp.loc[('F'), :]['pt_id'], width, label='Female')\n",
    "\n",
    "ax.set_ylabel('Number of Patient');\n",
    "ax.set_title('Patients with Wet Age-Related Macular Degeneration by year and gender');\n",
    "ax.set_xticks(x);\n",
    "ax.set_xticklabels(labels);\n",
    "ax.legend();"
   ]
  },
  {
   "cell_type": "code",
   "execution_count": 506,
   "id": "unnecessary-victor",
   "metadata": {},
   "outputs": [
    {
     "name": "stdout",
     "output_type": "stream",
     "text": [
      "Ttest_indResult(statistic=nan, pvalue=nan)\n"
     ]
    },
    {
     "name": "stderr",
     "output_type": "stream",
     "text": [
      "/Users/yee/miniconda3/envs/env_viz/lib/python3.8/site-packages/numpy/core/fromnumeric.py:3621: RuntimeWarning: Degrees of freedom <= 0 for slice\n",
      "  return _methods._var(a, axis=axis, dtype=dtype, out=out, ddof=ddof,\n",
      "/Users/yee/miniconda3/envs/env_viz/lib/python3.8/site-packages/numpy/core/_methods.py:226: RuntimeWarning: invalid value encountered in double_scalars\n",
      "  ret = ret.dtype.type(ret / rcount)\n"
     ]
    }
   ],
   "source": [
    "from scipy import stats\n",
    "f=pt_h_all[pt_h_all['sex'] =='F'].copy()\n",
    "m=pt_h_all[pt_h_all['sex'] =='M'].copy()\n",
    "print(stats.ttest_ind(f['order'], m['order'], ))"
   ]
  },
  {
   "cell_type": "markdown",
   "id": "seeing-remedy",
   "metadata": {},
   "source": [
    "### 6. How many women diagnosed with wAMD between 2014-2017 also had an intravitreal injection during that time?"
   ]
  },
  {
   "cell_type": "code",
   "execution_count": 394,
   "id": "banned-kelly",
   "metadata": {},
   "outputs": [
    {
     "data": {
      "text/html": [
       "<div>\n",
       "<style scoped>\n",
       "    .dataframe tbody tr th:only-of-type {\n",
       "        vertical-align: middle;\n",
       "    }\n",
       "\n",
       "    .dataframe tbody tr th {\n",
       "        vertical-align: top;\n",
       "    }\n",
       "\n",
       "    .dataframe thead th {\n",
       "        text-align: right;\n",
       "    }\n",
       "</style>\n",
       "<table border=\"1\" class=\"dataframe\">\n",
       "  <thead>\n",
       "    <tr style=\"text-align: right;\">\n",
       "      <th></th>\n",
       "      <th>pt_id</th>\n",
       "      <th>sex</th>\n",
       "      <th>dos_x</th>\n",
       "      <th>dx_code</th>\n",
       "      <th>year</th>\n",
       "      <th>dos_y</th>\n",
       "      <th>procedure_code</th>\n",
       "      <th>mod</th>\n",
       "    </tr>\n",
       "  </thead>\n",
       "  <tbody>\n",
       "    <tr>\n",
       "      <th>130</th>\n",
       "      <td>30117</td>\n",
       "      <td>F</td>\n",
       "      <td>2017-10-10</td>\n",
       "      <td>H35.321</td>\n",
       "      <td>2017</td>\n",
       "      <td>2017-10-10</td>\n",
       "      <td>67028</td>\n",
       "      <td>RT</td>\n",
       "    </tr>\n",
       "    <tr>\n",
       "      <th>131</th>\n",
       "      <td>30117</td>\n",
       "      <td>F</td>\n",
       "      <td>2017-10-10</td>\n",
       "      <td>H35.321</td>\n",
       "      <td>2017</td>\n",
       "      <td>2017-10-10</td>\n",
       "      <td>J9035</td>\n",
       "      <td>NA</td>\n",
       "    </tr>\n",
       "    <tr>\n",
       "      <th>132</th>\n",
       "      <td>30117</td>\n",
       "      <td>F</td>\n",
       "      <td>2017-10-10</td>\n",
       "      <td>H35.321</td>\n",
       "      <td>2017</td>\n",
       "      <td>2017-11-14</td>\n",
       "      <td>J9035</td>\n",
       "      <td>NA</td>\n",
       "    </tr>\n",
       "    <tr>\n",
       "      <th>133</th>\n",
       "      <td>30117</td>\n",
       "      <td>F</td>\n",
       "      <td>2017-10-10</td>\n",
       "      <td>H35.321</td>\n",
       "      <td>2017</td>\n",
       "      <td>2017-11-14</td>\n",
       "      <td>67028</td>\n",
       "      <td>RT</td>\n",
       "    </tr>\n",
       "    <tr>\n",
       "      <th>134</th>\n",
       "      <td>30117</td>\n",
       "      <td>F</td>\n",
       "      <td>2017-10-10</td>\n",
       "      <td>H35.321</td>\n",
       "      <td>2017</td>\n",
       "      <td>2017-12-12</td>\n",
       "      <td>67028</td>\n",
       "      <td>RT</td>\n",
       "    </tr>\n",
       "    <tr>\n",
       "      <th>...</th>\n",
       "      <td>...</td>\n",
       "      <td>...</td>\n",
       "      <td>...</td>\n",
       "      <td>...</td>\n",
       "      <td>...</td>\n",
       "      <td>...</td>\n",
       "      <td>...</td>\n",
       "      <td>...</td>\n",
       "    </tr>\n",
       "    <tr>\n",
       "      <th>3234</th>\n",
       "      <td>15173</td>\n",
       "      <td>F</td>\n",
       "      <td>2016-01-08</td>\n",
       "      <td>H35.32</td>\n",
       "      <td>2016</td>\n",
       "      <td>2016-01-08</td>\n",
       "      <td>2027F</td>\n",
       "      <td>NA</td>\n",
       "    </tr>\n",
       "    <tr>\n",
       "      <th>3237</th>\n",
       "      <td>47897</td>\n",
       "      <td>F</td>\n",
       "      <td>2016-01-08</td>\n",
       "      <td>H35.32</td>\n",
       "      <td>2016</td>\n",
       "      <td>2016-01-08</td>\n",
       "      <td>92133</td>\n",
       "      <td>NA</td>\n",
       "    </tr>\n",
       "    <tr>\n",
       "      <th>3238</th>\n",
       "      <td>46467</td>\n",
       "      <td>F</td>\n",
       "      <td>2017-12-20</td>\n",
       "      <td>H35.32</td>\n",
       "      <td>2017</td>\n",
       "      <td>2017-12-20</td>\n",
       "      <td>4177F</td>\n",
       "      <td>NA</td>\n",
       "    </tr>\n",
       "    <tr>\n",
       "      <th>3241</th>\n",
       "      <td>24699</td>\n",
       "      <td>F</td>\n",
       "      <td>2017-12-20</td>\n",
       "      <td>H35.32</td>\n",
       "      <td>2017</td>\n",
       "      <td>2017-12-20</td>\n",
       "      <td>2027F</td>\n",
       "      <td>NA</td>\n",
       "    </tr>\n",
       "    <tr>\n",
       "      <th>3242</th>\n",
       "      <td>40643</td>\n",
       "      <td>F</td>\n",
       "      <td>2017-04-24</td>\n",
       "      <td>H35.32</td>\n",
       "      <td>2017</td>\n",
       "      <td>2017-04-24</td>\n",
       "      <td>2027F</td>\n",
       "      <td>NA</td>\n",
       "    </tr>\n",
       "  </tbody>\n",
       "</table>\n",
       "<p>1069 rows × 8 columns</p>\n",
       "</div>"
      ],
      "text/plain": [
       "      pt_id sex      dos_x  dx_code  year      dos_y procedure_code mod\n",
       "130   30117   F 2017-10-10  H35.321  2017 2017-10-10          67028  RT\n",
       "131   30117   F 2017-10-10  H35.321  2017 2017-10-10          J9035  NA\n",
       "132   30117   F 2017-10-10  H35.321  2017 2017-11-14          J9035  NA\n",
       "133   30117   F 2017-10-10  H35.321  2017 2017-11-14          67028  RT\n",
       "134   30117   F 2017-10-10  H35.321  2017 2017-12-12          67028  RT\n",
       "...     ...  ..        ...      ...   ...        ...            ...  ..\n",
       "3234  15173   F 2016-01-08   H35.32  2016 2016-01-08          2027F  NA\n",
       "3237  47897   F 2016-01-08   H35.32  2016 2016-01-08          92133  NA\n",
       "3238  46467   F 2017-12-20   H35.32  2017 2017-12-20          4177F  NA\n",
       "3241  24699   F 2017-12-20   H35.32  2017 2017-12-20          2027F  NA\n",
       "3242  40643   F 2017-04-24   H35.32  2017 2017-04-24          2027F  NA\n",
       "\n",
       "[1069 rows x 8 columns]"
      ]
     },
     "execution_count": 394,
     "metadata": {},
     "output_type": "execute_result"
    }
   ],
   "source": [
    "data_pct.rename(columns={'patient_id': 'pt_id'}, inplace=True)\n",
    "pt_h_pct = pd.merge(pt_h_14to17, data_pct, on=['pt_id','year'], how='inner')\n",
    "pt_h_pct_F=pt_h_pct[pt_h_pct['sex']=='F']"
   ]
  },
  {
   "cell_type": "code",
   "execution_count": 399,
   "id": "technological-syracuse",
   "metadata": {},
   "outputs": [
    {
     "data": {
      "text/plain": [
       "array(['67028', 'J9035', 'J7999', 'J2778-5', 'J2778,05MG', 'J2778-5P',\n",
       "       'J0178', 'J2778', 'J2778DME', '99214', '92012', '99213', '92134',\n",
       "       '2019F', '92133', 'EYLEAX1', '92014', '5010F', '92226', '99212',\n",
       "       'G8756', '4177F', '99499', '3284F', '92250', '2024F', 'C9257',\n",
       "       '67040', 'G8427', '99024', '92225', '1036F', 'G8482', '92235',\n",
       "       '2021F', '76512', '2026F', '3072F', '92135', '92136', '3285F',\n",
       "       '67228', '67210', '66984', 'LACS', '4040F', '2022F', '92015',\n",
       "       'G8918', '2027F'], dtype=object)"
      ]
     },
     "execution_count": 399,
     "metadata": {},
     "output_type": "execute_result"
    }
   ],
   "source": [
    "pt_h_pct_F['procedure_code'].unique()"
   ]
  },
  {
   "cell_type": "code",
   "execution_count": 400,
   "id": "controversial-dress",
   "metadata": {},
   "outputs": [
    {
     "data": {
      "text/html": [
       "<div>\n",
       "<style scoped>\n",
       "    .dataframe tbody tr th:only-of-type {\n",
       "        vertical-align: middle;\n",
       "    }\n",
       "\n",
       "    .dataframe tbody tr th {\n",
       "        vertical-align: top;\n",
       "    }\n",
       "\n",
       "    .dataframe thead th {\n",
       "        text-align: right;\n",
       "    }\n",
       "</style>\n",
       "<table border=\"1\" class=\"dataframe\">\n",
       "  <thead>\n",
       "    <tr style=\"text-align: right;\">\n",
       "      <th></th>\n",
       "      <th>order</th>\n",
       "    </tr>\n",
       "    <tr>\n",
       "      <th>sex</th>\n",
       "      <th></th>\n",
       "    </tr>\n",
       "  </thead>\n",
       "  <tbody>\n",
       "    <tr>\n",
       "      <th>F</th>\n",
       "      <td>301</td>\n",
       "    </tr>\n",
       "  </tbody>\n",
       "</table>\n",
       "</div>"
      ],
      "text/plain": [
       "     order\n",
       "sex       \n",
       "F      301"
      ]
     },
     "execution_count": 400,
     "metadata": {},
     "output_type": "execute_result"
    }
   ],
   "source": [
    "pt_h_pct_F[pt_h_pct_F['procedure_code'].isin(['67028'])].groupby('sex').agg(order=('pt_id','count'))"
   ]
  },
  {
   "cell_type": "markdown",
   "id": "moral-symphony",
   "metadata": {},
   "source": [
    "### Q7. What is the most common type of intravitreal injection in women diagnosed with wAMD between 2014-2017?"
   ]
  },
  {
   "cell_type": "code",
   "execution_count": 253,
   "id": "natural-fraud",
   "metadata": {},
   "outputs": [
    {
     "data": {
      "text/html": [
       "<div>\n",
       "<style scoped>\n",
       "    .dataframe tbody tr th:only-of-type {\n",
       "        vertical-align: middle;\n",
       "    }\n",
       "\n",
       "    .dataframe tbody tr th {\n",
       "        vertical-align: top;\n",
       "    }\n",
       "\n",
       "    .dataframe thead th {\n",
       "        text-align: right;\n",
       "    }\n",
       "</style>\n",
       "<table border=\"1\" class=\"dataframe\">\n",
       "  <thead>\n",
       "    <tr style=\"text-align: right;\">\n",
       "      <th></th>\n",
       "      <th>order</th>\n",
       "    </tr>\n",
       "    <tr>\n",
       "      <th>mod</th>\n",
       "      <th></th>\n",
       "    </tr>\n",
       "  </thead>\n",
       "  <tbody>\n",
       "    <tr>\n",
       "      <th>RT</th>\n",
       "      <td>148</td>\n",
       "    </tr>\n",
       "    <tr>\n",
       "      <th>NA</th>\n",
       "      <td>125</td>\n",
       "    </tr>\n",
       "    <tr>\n",
       "      <th>LT</th>\n",
       "      <td>28</td>\n",
       "    </tr>\n",
       "  </tbody>\n",
       "</table>\n",
       "</div>"
      ],
      "text/plain": [
       "     order\n",
       "mod       \n",
       "RT     148\n",
       "NA     125\n",
       "LT      28"
      ]
     },
     "execution_count": 253,
     "metadata": {},
     "output_type": "execute_result"
    }
   ],
   "source": [
    "pt_h_pct_F[pt_h_pct_F['procedure_code'].isin(['67028'])].groupby('mod').agg(order=('pt_id','count')).sort_values(by=\"order\",ascending=False)"
   ]
  },
  {
   "cell_type": "markdown",
   "id": "developing-snapshot",
   "metadata": {},
   "source": [
    "### 8. Stratify the type and count of intravitreal injections by eye laterality (right, left, unspecified) in 2014-2017 for patients with wAMD by year."
   ]
  },
  {
   "cell_type": "code",
   "execution_count": 408,
   "id": "dietary-subscription",
   "metadata": {},
   "outputs": [
    {
     "data": {
      "text/plain": [
       "array(['LT', 'NA', 'RT', '50', '18944008'], dtype=object)"
      ]
     },
     "execution_count": 408,
     "metadata": {},
     "output_type": "execute_result"
    }
   ],
   "source": [
    "df=pt_h_pct[pt_h_pct['procedure_code'].isin(['67028'])].copy()\n",
    "df['mod'].unique()"
   ]
  },
  {
   "cell_type": "code",
   "execution_count": 406,
   "id": "viral-optics",
   "metadata": {},
   "outputs": [
    {
     "data": {
      "text/plain": [
       "array(['LT', 'NA', 'RT', 'BI'], dtype=object)"
      ]
     },
     "execution_count": 406,
     "metadata": {},
     "output_type": "execute_result"
    }
   ],
   "source": [
    "df['mod']=df['mod'].map(lambda x: x.replace('18944008','RT').replace('50','BI'))\n",
    "df['mod'].unique()"
   ]
  },
  {
   "cell_type": "raw",
   "id": "graduate-success",
   "metadata": {},
   "source": [
    "df.groupby(['year', 'mod'], as_index=False).agg(order=('dos_y','count'))"
   ]
  },
  {
   "cell_type": "code",
   "execution_count": 407,
   "id": "enhanced-deadline",
   "metadata": {},
   "outputs": [
    {
     "data": {
      "text/html": [
       "<div>\n",
       "<style scoped>\n",
       "    .dataframe tbody tr th:only-of-type {\n",
       "        vertical-align: middle;\n",
       "    }\n",
       "\n",
       "    .dataframe tbody tr th {\n",
       "        vertical-align: top;\n",
       "    }\n",
       "\n",
       "    .dataframe thead th {\n",
       "        text-align: right;\n",
       "    }\n",
       "</style>\n",
       "<table border=\"1\" class=\"dataframe\">\n",
       "  <thead>\n",
       "    <tr style=\"text-align: right;\">\n",
       "      <th></th>\n",
       "      <th></th>\n",
       "      <th>dos_y</th>\n",
       "    </tr>\n",
       "    <tr>\n",
       "      <th>year</th>\n",
       "      <th>mod</th>\n",
       "      <th></th>\n",
       "    </tr>\n",
       "  </thead>\n",
       "  <tbody>\n",
       "    <tr>\n",
       "      <th rowspan=\"2\" valign=\"top\">2015</th>\n",
       "      <th>NA</th>\n",
       "      <td>23</td>\n",
       "    </tr>\n",
       "    <tr>\n",
       "      <th>RT</th>\n",
       "      <td>1</td>\n",
       "    </tr>\n",
       "    <tr>\n",
       "      <th rowspan=\"4\" valign=\"top\">2016</th>\n",
       "      <th>BI</th>\n",
       "      <td>6</td>\n",
       "    </tr>\n",
       "    <tr>\n",
       "      <th>LT</th>\n",
       "      <td>5</td>\n",
       "    </tr>\n",
       "    <tr>\n",
       "      <th>NA</th>\n",
       "      <td>179</td>\n",
       "    </tr>\n",
       "    <tr>\n",
       "      <th>RT</th>\n",
       "      <td>27</td>\n",
       "    </tr>\n",
       "    <tr>\n",
       "      <th rowspan=\"3\" valign=\"top\">2017</th>\n",
       "      <th>LT</th>\n",
       "      <td>180</td>\n",
       "    </tr>\n",
       "    <tr>\n",
       "      <th>NA</th>\n",
       "      <td>145</td>\n",
       "    </tr>\n",
       "    <tr>\n",
       "      <th>RT</th>\n",
       "      <td>145</td>\n",
       "    </tr>\n",
       "  </tbody>\n",
       "</table>\n",
       "</div>"
      ],
      "text/plain": [
       "          dos_y\n",
       "year mod       \n",
       "2015 NA      23\n",
       "     RT       1\n",
       "2016 BI       6\n",
       "     LT       5\n",
       "     NA     179\n",
       "     RT      27\n",
       "2017 LT     180\n",
       "     NA     145\n",
       "     RT     145"
      ]
     },
     "execution_count": 407,
     "metadata": {},
     "output_type": "execute_result"
    }
   ],
   "source": [
    "columns_to_show =['dos_y']\n",
    "pd.pivot_table(df, index = ['year', 'mod'], values=columns_to_show, aggfunc='count')"
   ]
  },
  {
   "cell_type": "markdown",
   "id": "pleased-tobago",
   "metadata": {},
   "source": [
    "### Q9. Find the ratio of patient diagnosis dates that have a corresponding procedure date? Does this ratio tell you anything about the data? If so, what might it indicate?"
   ]
  },
  {
   "cell_type": "code",
   "execution_count": 387,
   "id": "established-scottish",
   "metadata": {},
   "outputs": [
    {
     "data": {
      "text/html": [
       "<div>\n",
       "<style scoped>\n",
       "    .dataframe tbody tr th:only-of-type {\n",
       "        vertical-align: middle;\n",
       "    }\n",
       "\n",
       "    .dataframe tbody tr th {\n",
       "        vertical-align: top;\n",
       "    }\n",
       "\n",
       "    .dataframe thead th {\n",
       "        text-align: right;\n",
       "    }\n",
       "</style>\n",
       "<table border=\"1\" class=\"dataframe\">\n",
       "  <thead>\n",
       "    <tr style=\"text-align: right;\">\n",
       "      <th></th>\n",
       "      <th>pt_id</th>\n",
       "      <th>sex</th>\n",
       "      <th>dos</th>\n",
       "      <th>dx_code</th>\n",
       "      <th>year</th>\n",
       "    </tr>\n",
       "  </thead>\n",
       "  <tbody>\n",
       "    <tr>\n",
       "      <th>0</th>\n",
       "      <td>13151</td>\n",
       "      <td>F</td>\n",
       "      <td>2018-04-10</td>\n",
       "      <td>H35.3231</td>\n",
       "      <td>2018</td>\n",
       "    </tr>\n",
       "    <tr>\n",
       "      <th>1</th>\n",
       "      <td>13151</td>\n",
       "      <td>F</td>\n",
       "      <td>2018-05-22</td>\n",
       "      <td>H35.3231</td>\n",
       "      <td>2018</td>\n",
       "    </tr>\n",
       "    <tr>\n",
       "      <th>2</th>\n",
       "      <td>13151</td>\n",
       "      <td>F</td>\n",
       "      <td>2018-07-17</td>\n",
       "      <td>H35.3220</td>\n",
       "      <td>2018</td>\n",
       "    </tr>\n",
       "    <tr>\n",
       "      <th>3</th>\n",
       "      <td>13151</td>\n",
       "      <td>F</td>\n",
       "      <td>2018-09-25</td>\n",
       "      <td>H35.3220</td>\n",
       "      <td>2018</td>\n",
       "    </tr>\n",
       "    <tr>\n",
       "      <th>4</th>\n",
       "      <td>13151</td>\n",
       "      <td>F</td>\n",
       "      <td>2018-12-18</td>\n",
       "      <td>H35.3220</td>\n",
       "      <td>2018</td>\n",
       "    </tr>\n",
       "    <tr>\n",
       "      <th>...</th>\n",
       "      <td>...</td>\n",
       "      <td>...</td>\n",
       "      <td>...</td>\n",
       "      <td>...</td>\n",
       "      <td>...</td>\n",
       "    </tr>\n",
       "    <tr>\n",
       "      <th>4479</th>\n",
       "      <td>37245</td>\n",
       "      <td>M</td>\n",
       "      <td>2014-01-18</td>\n",
       "      <td>379.23</td>\n",
       "      <td>2014</td>\n",
       "    </tr>\n",
       "    <tr>\n",
       "      <th>4480</th>\n",
       "      <td>10520</td>\n",
       "      <td>M</td>\n",
       "      <td>2014-01-28</td>\n",
       "      <td>362.35</td>\n",
       "      <td>2014</td>\n",
       "    </tr>\n",
       "    <tr>\n",
       "      <th>4481</th>\n",
       "      <td>42830</td>\n",
       "      <td>F</td>\n",
       "      <td>2014-02-07</td>\n",
       "      <td>366.16</td>\n",
       "      <td>2014</td>\n",
       "    </tr>\n",
       "    <tr>\n",
       "      <th>4482</th>\n",
       "      <td>29319</td>\n",
       "      <td>M</td>\n",
       "      <td>2014-02-17</td>\n",
       "      <td>366.16</td>\n",
       "      <td>2014</td>\n",
       "    </tr>\n",
       "    <tr>\n",
       "      <th>4483</th>\n",
       "      <td>26585</td>\n",
       "      <td>M</td>\n",
       "      <td>2014-02-27</td>\n",
       "      <td>366.16</td>\n",
       "      <td>2014</td>\n",
       "    </tr>\n",
       "  </tbody>\n",
       "</table>\n",
       "<p>4484 rows × 5 columns</p>\n",
       "</div>"
      ],
      "text/plain": [
       "      pt_id sex        dos   dx_code  year\n",
       "0     13151   F 2018-04-10  H35.3231  2018\n",
       "1     13151   F 2018-05-22  H35.3231  2018\n",
       "2     13151   F 2018-07-17  H35.3220  2018\n",
       "3     13151   F 2018-09-25  H35.3220  2018\n",
       "4     13151   F 2018-12-18  H35.3220  2018\n",
       "...     ...  ..        ...       ...   ...\n",
       "4479  37245   M 2014-01-18    379.23  2014\n",
       "4480  10520   M 2014-01-28    362.35  2014\n",
       "4481  42830   F 2014-02-07    366.16  2014\n",
       "4482  29319   M 2014-02-17    366.16  2014\n",
       "4483  26585   M 2014-02-27    366.16  2014\n",
       "\n",
       "[4484 rows x 5 columns]"
      ]
     },
     "execution_count": 387,
     "metadata": {},
     "output_type": "execute_result"
    }
   ],
   "source": [
    "pt_dx = pd.merge(data_pt, data_dx, on='pt_id', how='right')\n",
    "pt_dx"
   ]
  },
  {
   "cell_type": "code",
   "execution_count": 388,
   "id": "lesbian-season",
   "metadata": {},
   "outputs": [
    {
     "data": {
      "text/html": [
       "<div>\n",
       "<style scoped>\n",
       "    .dataframe tbody tr th:only-of-type {\n",
       "        vertical-align: middle;\n",
       "    }\n",
       "\n",
       "    .dataframe tbody tr th {\n",
       "        vertical-align: top;\n",
       "    }\n",
       "\n",
       "    .dataframe thead th {\n",
       "        text-align: right;\n",
       "    }\n",
       "</style>\n",
       "<table border=\"1\" class=\"dataframe\">\n",
       "  <thead>\n",
       "    <tr style=\"text-align: right;\">\n",
       "      <th></th>\n",
       "      <th>pt_id</th>\n",
       "      <th>sex</th>\n",
       "      <th>dos</th>\n",
       "      <th>dx_code</th>\n",
       "      <th>year_x</th>\n",
       "      <th>procedure_code</th>\n",
       "      <th>mod</th>\n",
       "      <th>year_y</th>\n",
       "    </tr>\n",
       "  </thead>\n",
       "  <tbody>\n",
       "    <tr>\n",
       "      <th>0</th>\n",
       "      <td>13151</td>\n",
       "      <td>F</td>\n",
       "      <td>2018-04-10</td>\n",
       "      <td>H35.3231</td>\n",
       "      <td>2018</td>\n",
       "      <td>J0178</td>\n",
       "      <td>NA</td>\n",
       "      <td>2018.0</td>\n",
       "    </tr>\n",
       "    <tr>\n",
       "      <th>1</th>\n",
       "      <td>13151</td>\n",
       "      <td>F</td>\n",
       "      <td>2018-04-10</td>\n",
       "      <td>H35.3231</td>\n",
       "      <td>2018</td>\n",
       "      <td>67028</td>\n",
       "      <td>59</td>\n",
       "      <td>2018.0</td>\n",
       "    </tr>\n",
       "    <tr>\n",
       "      <th>2</th>\n",
       "      <td>13151</td>\n",
       "      <td>F</td>\n",
       "      <td>2018-05-22</td>\n",
       "      <td>H35.3231</td>\n",
       "      <td>2018</td>\n",
       "      <td>J0178</td>\n",
       "      <td>NA</td>\n",
       "      <td>2018.0</td>\n",
       "    </tr>\n",
       "    <tr>\n",
       "      <th>3</th>\n",
       "      <td>13151</td>\n",
       "      <td>F</td>\n",
       "      <td>2018-05-22</td>\n",
       "      <td>H35.3231</td>\n",
       "      <td>2018</td>\n",
       "      <td>67028</td>\n",
       "      <td>59</td>\n",
       "      <td>2018.0</td>\n",
       "    </tr>\n",
       "    <tr>\n",
       "      <th>4</th>\n",
       "      <td>13151</td>\n",
       "      <td>F</td>\n",
       "      <td>2018-07-17</td>\n",
       "      <td>H35.3220</td>\n",
       "      <td>2018</td>\n",
       "      <td>67028</td>\n",
       "      <td>LT</td>\n",
       "      <td>2018.0</td>\n",
       "    </tr>\n",
       "    <tr>\n",
       "      <th>...</th>\n",
       "      <td>...</td>\n",
       "      <td>...</td>\n",
       "      <td>...</td>\n",
       "      <td>...</td>\n",
       "      <td>...</td>\n",
       "      <td>...</td>\n",
       "      <td>...</td>\n",
       "      <td>...</td>\n",
       "    </tr>\n",
       "    <tr>\n",
       "      <th>5881</th>\n",
       "      <td>37245</td>\n",
       "      <td>M</td>\n",
       "      <td>2014-01-18</td>\n",
       "      <td>379.23</td>\n",
       "      <td>2014</td>\n",
       "      <td>92134</td>\n",
       "      <td>NA</td>\n",
       "      <td>2014.0</td>\n",
       "    </tr>\n",
       "    <tr>\n",
       "      <th>5882</th>\n",
       "      <td>10520</td>\n",
       "      <td>M</td>\n",
       "      <td>2014-01-28</td>\n",
       "      <td>362.35</td>\n",
       "      <td>2014</td>\n",
       "      <td>99214</td>\n",
       "      <td>NA</td>\n",
       "      <td>2014.0</td>\n",
       "    </tr>\n",
       "    <tr>\n",
       "      <th>5883</th>\n",
       "      <td>42830</td>\n",
       "      <td>F</td>\n",
       "      <td>2014-02-07</td>\n",
       "      <td>366.16</td>\n",
       "      <td>2014</td>\n",
       "      <td>99213</td>\n",
       "      <td>NA</td>\n",
       "      <td>2014.0</td>\n",
       "    </tr>\n",
       "    <tr>\n",
       "      <th>5884</th>\n",
       "      <td>29319</td>\n",
       "      <td>M</td>\n",
       "      <td>2014-02-17</td>\n",
       "      <td>366.16</td>\n",
       "      <td>2014</td>\n",
       "      <td>99213</td>\n",
       "      <td>25</td>\n",
       "      <td>2014.0</td>\n",
       "    </tr>\n",
       "    <tr>\n",
       "      <th>5885</th>\n",
       "      <td>26585</td>\n",
       "      <td>M</td>\n",
       "      <td>2014-02-27</td>\n",
       "      <td>366.16</td>\n",
       "      <td>2014</td>\n",
       "      <td>4040F</td>\n",
       "      <td>NA</td>\n",
       "      <td>2014.0</td>\n",
       "    </tr>\n",
       "  </tbody>\n",
       "</table>\n",
       "<p>5886 rows × 8 columns</p>\n",
       "</div>"
      ],
      "text/plain": [
       "      pt_id sex        dos   dx_code  year_x procedure_code mod  year_y\n",
       "0     13151   F 2018-04-10  H35.3231    2018          J0178  NA  2018.0\n",
       "1     13151   F 2018-04-10  H35.3231    2018          67028  59  2018.0\n",
       "2     13151   F 2018-05-22  H35.3231    2018          J0178  NA  2018.0\n",
       "3     13151   F 2018-05-22  H35.3231    2018          67028  59  2018.0\n",
       "4     13151   F 2018-07-17  H35.3220    2018          67028  LT  2018.0\n",
       "...     ...  ..        ...       ...     ...            ...  ..     ...\n",
       "5881  37245   M 2014-01-18    379.23    2014          92134  NA  2014.0\n",
       "5882  10520   M 2014-01-28    362.35    2014          99214  NA  2014.0\n",
       "5883  42830   F 2014-02-07    366.16    2014          99213  NA  2014.0\n",
       "5884  29319   M 2014-02-17    366.16    2014          99213  25  2014.0\n",
       "5885  26585   M 2014-02-27    366.16    2014          4040F  NA  2014.0\n",
       "\n",
       "[5886 rows x 8 columns]"
      ]
     },
     "execution_count": 388,
     "metadata": {},
     "output_type": "execute_result"
    }
   ],
   "source": [
    "pt_dx_pct_all = pd.merge(pt_dx, data_pct, on=['pt_id', 'dos'], how='left')\n",
    "pt_dx_pct_all"
   ]
  },
  {
   "cell_type": "raw",
   "id": "independent-lingerie",
   "metadata": {},
   "source": [
    "import missingno as msno\n",
    "mbar=msno.bar(pt_dx_pct_all)"
   ]
  },
  {
   "cell_type": "code",
   "execution_count": 389,
   "id": "super-cleveland",
   "metadata": {},
   "outputs": [
    {
     "name": "stdout",
     "output_type": "stream",
     "text": [
      "\n",
      "Missing Value Summary\n",
      "-----------------------------------\n",
      "pt_id             0\n",
      "sex               0\n",
      "dos               0\n",
      "dx_code           0\n",
      "year_x            0\n",
      "procedure_code    1\n",
      "mod               1\n",
      "year_y            1\n",
      "dtype: int64\n",
      "      pt_id sex        dos   dx_code  year_x procedure_code  mod  year_y\n",
      "1041  43502   M 2017-02-16  H35.3210    2017            NaN  NaN     NaN\n"
     ]
    }
   ],
   "source": [
    "#Check missing values in specified columns. \n",
    "columns_to_check =['procedure_code']\n",
    "row_with_missing = [row_idx for row_idx, row in pt_dx_pct_all[columns_to_check].isnull().iterrows() if True in row.values]\n",
    "print(\"\\nMissing Value Summary\\n{}\".format(\"-\"*35))\n",
    "print(pt_dx_pct_all.isnull().sum(axis = 0))\n",
    "print(pt_dx_pct_all.iloc[row_with_missing])"
   ]
  },
  {
   "cell_type": "code",
   "execution_count": 390,
   "id": "asian-breathing",
   "metadata": {},
   "outputs": [
    {
     "name": "stdout",
     "output_type": "stream",
     "text": [
      "The ratio of patient diagnosis dates that have a corresponding procedure date is 0.999830364715861\n"
     ]
    }
   ],
   "source": [
    "print('The ratio of patient diagnosis dates that have a corresponding procedure date is {}'.format((len(pt_h_pct_all)-len(row_with_missing))/len(pt_h_pct_all)))"
   ]
  },
  {
   "cell_type": "markdown",
   "id": "sharing-dinner",
   "metadata": {},
   "source": [
    "### The ratio is close to 1, indicating that the majority of the patient received the treatment on the same day of the diagnosis"
   ]
  },
  {
   "cell_type": "markdown",
   "id": "sound-accommodation",
   "metadata": {},
   "source": [
    "### Q10. Are there any issues with the data? If so, what issues did you notice?"
   ]
  },
  {
   "cell_type": "markdown",
   "id": "grateful-rugby",
   "metadata": {},
   "source": [
    "# We noticed the following data quality issses:\n",
    "1. There are duplicate values in patient, diagnosis, and procedures data\n",
    "2. In patient data, there are eight distinct values in the sex category. They are normalized to two\n",
    "3. In the patient data, there are 8 patient_id having different sex \n",
    "4. There are missing values in the mod column in procedure data\n",
    "5. The terms used in the modifier in the procedure data are not normalized. For example, '18944008' and 'RT' are both referred to the Right eye structure"
   ]
  },
  {
   "cell_type": "markdown",
   "id": "documentary-maple",
   "metadata": {},
   "source": [
    "### Q11. How would you define completeness of patient notes and how would you go about validating it?"
   ]
  },
  {
   "cell_type": "code",
   "execution_count": null,
   "id": "exciting-deputy",
   "metadata": {},
   "outputs": [],
   "source": []
  },
  {
   "cell_type": "markdown",
   "id": "dominican-strength",
   "metadata": {},
   "source": [
    "### Q12. If you were to build a threshold for acceptable data quality, what would you take into consideration and how would you approach it?"
   ]
  },
  {
   "cell_type": "code",
   "execution_count": null,
   "id": "hairy-meeting",
   "metadata": {},
   "outputs": [],
   "source": []
  }
 ],
 "metadata": {
  "kernelspec": {
   "display_name": "viz",
   "language": "python",
   "name": "viz"
  },
  "language_info": {
   "codemirror_mode": {
    "name": "ipython",
    "version": 3
   },
   "file_extension": ".py",
   "mimetype": "text/x-python",
   "name": "python",
   "nbconvert_exporter": "python",
   "pygments_lexer": "ipython3",
   "version": "3.8.5"
  }
 },
 "nbformat": 4,
 "nbformat_minor": 5
}
